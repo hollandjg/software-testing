{
 "cells": [
  {
   "cell_type": "markdown",
   "id": "1b46b26b0db6fff1",
   "metadata": {
    "collapsed": false,
    "editable": true,
    "jupyter": {
     "outputs_hidden": false
    },
    "slideshow": {
     "slide_type": "slide"
    },
    "tags": []
   },
   "source": [
    "# Build a comprehensive **unit-test suite** for a \"greatest common divisor\" function, `gcd`</title>"
   ]
  },
  {
   "cell_type": "markdown",
   "id": "3dd40333-fbb2-4279-ae31-64558f35fe0e",
   "metadata": {
    "collapsed": false,
    "editable": true,
    "jp-MarkdownHeadingCollapsed": true,
    "jupyter": {
     "outputs_hidden": false
    },
    "slideshow": {
     "slide_type": ""
    },
    "tags": []
   },
   "source": [
    "Specification: For two integers $x$ and $y$ which are not both zero, the **greatest common divisor** \n",
    "$\\displaystyle \\gcd(x, y)$ is the largest positive integer that divides each of the integers. For example, $\\displaystyle \\gcd(8, 12) = 4$. Furthermore, $\\displaystyle \\gcd(0, 0) = 0$.\n",
    "\n",
    "_Adapted from Wikipedia, https://en.wikipedia.org/wiki/Greatest_common_divisor, retrieved on September 21 2023_"
   ]
  },
  {
   "cell_type": "code",
   "execution_count": 2,
   "id": "initial_id",
   "metadata": {
    "ExecuteTime": {
     "end_time": "2023-09-29T18:50:08.830146Z",
     "start_time": "2023-09-29T18:50:08.413512Z"
    },
    "editable": true,
    "slideshow": {
     "slide_type": ""
    },
    "tags": []
   },
   "outputs": [],
   "source": [
    "# import our gcd function from our example module\n",
    "from example import gcd"
   ]
  },
  {
   "cell_type": "markdown",
   "id": "4bde404c-405f-4031-b047-a59c2ffe9484",
   "metadata": {
    "editable": true,
    "slideshow": {
     "slide_type": "slide"
    },
    "tags": []
   },
   "source": [
    "## We want to check for correct functionality with **good data**"
   ]
  },
  {
   "cell_type": "markdown",
   "id": "1d833044-91fe-48ab-bf7e-8858c7a00624",
   "metadata": {
    "editable": true,
    "slideshow": {
     "slide_type": "subslide"
    },
    "tags": []
   },
   "source": [
    "### Essential tooling: `assert` lets us throw an error if a check is false\n",
    "\n",
    "We can use assert statements in python to write tests.\n",
    "\n",
    "The assert statement in python raises an `Error` if the result of a calculation is \"Falsy\":"
   ]
  },
  {
   "cell_type": "code",
   "execution_count": 3,
   "id": "ed5b2ef1-3e19-49a4-9d2d-1253dcf711e2",
   "metadata": {
    "ExecuteTime": {
     "end_time": "2023-09-22T18:43:28.428428Z",
     "start_time": "2023-09-22T18:43:28.005045Z"
    },
    "editable": true,
    "slideshow": {
     "slide_type": ""
    },
    "tags": []
   },
   "outputs": [],
   "source": [
    "assert True  # no Error"
   ]
  },
  {
   "cell_type": "code",
   "execution_count": 4,
   "id": "c5e10806-a0fd-4404-874d-255c6e33cef4",
   "metadata": {
    "ExecuteTime": {
     "end_time": "2023-09-22T18:43:28.701969Z",
     "start_time": "2023-09-22T18:43:28.007084Z"
    },
    "editable": true,
    "slideshow": {
     "slide_type": ""
    },
    "tags": [
     "raises-exception"
    ]
   },
   "outputs": [
    {
     "ename": "AssertionError",
     "evalue": "",
     "output_type": "error",
     "traceback": [
      "\u001b[0;31m---------------------------------------------------------------------------\u001b[0m",
      "\u001b[0;31mAssertionError\u001b[0m                            Traceback (most recent call last)",
      "Cell \u001b[0;32mIn[4], line 1\u001b[0m\n\u001b[0;32m----> 1\u001b[0m \u001b[38;5;28;01massert\u001b[39;00m \u001b[38;5;28;01mFalse\u001b[39;00m  \u001b[38;5;66;03m# raises an Exception\u001b[39;00m\n",
      "\u001b[0;31mAssertionError\u001b[0m: "
     ]
    }
   ],
   "source": [
    "assert False  # raises an Exception"
   ]
  },
  {
   "cell_type": "code",
   "execution_count": 5,
   "id": "091fe334-c207-4a30-a457-b719c882ad9c",
   "metadata": {
    "ExecuteTime": {
     "start_time": "2023-09-22T18:43:28.150912Z"
    },
    "editable": true,
    "slideshow": {
     "slide_type": ""
    },
    "tags": []
   },
   "outputs": [],
   "source": [
    "assert 1 == 1  # no Error"
   ]
  },
  {
   "cell_type": "code",
   "execution_count": 6,
   "id": "3c45898d-8b63-4e78-a57d-0a8b48849434",
   "metadata": {
    "ExecuteTime": {
     "start_time": "2023-09-22T18:43:28.152301Z"
    },
    "editable": true,
    "slideshow": {
     "slide_type": ""
    },
    "tags": []
   },
   "outputs": [],
   "source": [
    "assert 1 > 0  # no Error"
   ]
  },
  {
   "cell_type": "code",
   "execution_count": 7,
   "id": "632fbcbd-dde1-40a6-82ba-dd5e796977ee",
   "metadata": {
    "ExecuteTime": {
     "start_time": "2023-09-22T18:43:28.153597Z"
    },
    "editable": true,
    "slideshow": {
     "slide_type": ""
    },
    "tags": [
     "raises-exception"
    ]
   },
   "outputs": [
    {
     "ename": "AssertionError",
     "evalue": "",
     "output_type": "error",
     "traceback": [
      "\u001b[0;31m---------------------------------------------------------------------------\u001b[0m",
      "\u001b[0;31mAssertionError\u001b[0m                            Traceback (most recent call last)",
      "Cell \u001b[0;32mIn[7], line 1\u001b[0m\n\u001b[0;32m----> 1\u001b[0m \u001b[38;5;28;01massert\u001b[39;00m \u001b[38;5;241m0\u001b[39m \u001b[38;5;241m>\u001b[39m \u001b[38;5;241m1\u001b[39m  \u001b[38;5;66;03m# False, so raises an exception\u001b[39;00m\n",
      "\u001b[0;31mAssertionError\u001b[0m: "
     ]
    }
   ],
   "source": [
    "assert 0 > 1  # False, so raises an exception"
   ]
  },
  {
   "cell_type": "code",
   "execution_count": 8,
   "id": "3453c3ce-2c48-4d3b-b8c1-9ff55fd2a486",
   "metadata": {
    "ExecuteTime": {
     "start_time": "2023-09-22T18:43:28.154971Z"
    },
    "editable": true,
    "slideshow": {
     "slide_type": ""
    },
    "tags": []
   },
   "outputs": [],
   "source": [
    "assert \"a\"  # a string is truthy..."
   ]
  },
  {
   "cell_type": "code",
   "execution_count": 9,
   "id": "02cb39f9-c254-4557-a3e8-0ba66311f018",
   "metadata": {
    "ExecuteTime": {
     "start_time": "2023-09-22T18:43:28.156566Z"
    },
    "editable": true,
    "slideshow": {
     "slide_type": ""
    },
    "tags": [
     "raises-exception"
    ]
   },
   "outputs": [
    {
     "ename": "AssertionError",
     "evalue": "",
     "output_type": "error",
     "traceback": [
      "\u001b[0;31m---------------------------------------------------------------------------\u001b[0m",
      "\u001b[0;31mAssertionError\u001b[0m                            Traceback (most recent call last)",
      "Cell \u001b[0;32mIn[9], line 1\u001b[0m\n\u001b[0;32m----> 1\u001b[0m \u001b[38;5;28;01massert\u001b[39;00m \u001b[38;5;124m\"\u001b[39m\u001b[38;5;124m\"\u001b[39m  \u001b[38;5;66;03m# but an empty string is falsy\u001b[39;00m\n",
      "\u001b[0;31mAssertionError\u001b[0m: "
     ]
    }
   ],
   "source": [
    "assert \"\"  # but an empty string is falsy"
   ]
  },
  {
   "cell_type": "markdown",
   "id": "97904569-c2c5-48ea-94a0-36aa43fbac0f",
   "metadata": {
    "editable": true,
    "jp-MarkdownHeadingCollapsed": true,
    "slideshow": {
     "slide_type": ""
    },
    "tags": []
   },
   "source": [
    "> Beware: `assert` is meant for debugging, and can be turned off by running `python` with the `-O` flag.\n",
    "> Use `raise` statements and conditions if your code relies on the check being run."
   ]
  },
  {
   "cell_type": "markdown",
   "id": "2833460b-7366-4fc1-83ca-4c6d0b1abe9e",
   "metadata": {
    "editable": true,
    "slideshow": {
     "slide_type": "subslide"
    },
    "tags": []
   },
   "source": [
    "### Type test\n",
    "\n",
    "Does it produce sensible results, like the correct datatype?"
   ]
  },
  {
   "cell_type": "code",
   "execution_count": 10,
   "id": "8e835e6463b32609",
   "metadata": {
    "ExecuteTime": {
     "start_time": "2023-09-22T18:43:28.158516Z"
    },
    "collapsed": false,
    "editable": true,
    "jupyter": {
     "outputs_hidden": false
    },
    "slideshow": {
     "slide_type": ""
    },
    "tags": []
   },
   "outputs": [],
   "source": [
    "assert type(gcd(8, 12)) is int  "
   ]
  },
  {
   "cell_type": "markdown",
   "id": "4d469618-5f75-4ba8-a799-c1b1ec321826",
   "metadata": {
    "ExecuteTime": {
     "end_time": "2023-09-21T18:36:52.661161Z",
     "start_time": "2023-09-21T18:36:52.641903Z"
    },
    "collapsed": false,
    "editable": true,
    "jupyter": {
     "outputs_hidden": false
    },
    "slideshow": {
     "slide_type": ""
    },
    "tags": []
   },
   "source": [
    "... or the correct sign (+ rather than -)?"
   ]
  },
  {
   "cell_type": "code",
   "execution_count": 11,
   "id": "a21a8df8-c653-4c02-8dca-e2238ccf0dd5",
   "metadata": {
    "ExecuteTime": {
     "start_time": "2023-09-22T18:43:28.160150Z"
    },
    "editable": true,
    "slideshow": {
     "slide_type": ""
    },
    "tags": []
   },
   "outputs": [],
   "source": [
    "assert gcd(8, 12) >= 0"
   ]
  },
  {
   "cell_type": "markdown",
   "id": "39de497a-1054-40a7-8627-e7f224fecb0e",
   "metadata": {
    "editable": true,
    "slideshow": {
     "slide_type": "subslide"
    },
    "tags": []
   },
   "source": [
    "### Nominal cases\n",
    "\n",
    "Check for correct result in \"normal\", middle-of-the-road cases. "
   ]
  },
  {
   "cell_type": "code",
   "execution_count": 12,
   "id": "3f55d098-f936-4789-8829-7ef04a5e3c9a",
   "metadata": {
    "ExecuteTime": {
     "start_time": "2023-09-22T18:43:28.161731Z"
    },
    "editable": true,
    "slideshow": {
     "slide_type": ""
    },
    "tags": []
   },
   "outputs": [],
   "source": [
    "assert gcd(7, 21) == 7\n",
    "assert gcd(20, 10) == 10\n",
    "assert gcd(54, 24) == 6"
   ]
  },
  {
   "cell_type": "markdown",
   "id": "c8f21d97-a90c-4c93-8337-119d82ff36ec",
   "metadata": {
    "editable": true,
    "slideshow": {
     "slide_type": ""
    },
    "tags": []
   },
   "source": [
    "Ideally, you'd want to test many nominal cases. This could be through calculating them by hand, or constructing examples at random. \n",
    "\n",
    "See the section on \"property-based testing\" for examples of how to do this."
   ]
  },
  {
   "cell_type": "markdown",
   "id": "1bcf79d9-eaef-4bc2-9aed-c32eb6478ad0",
   "metadata": {
    "editable": true,
    "slideshow": {
     "slide_type": "subslide"
    },
    "tags": []
   },
   "source": [
    "### Boundaries\n",
    "\n",
    "Check for correctness at the boundaries of the domain, or boundaries within parameters.\n",
    "Checking the boundary means the value on the boundary, just above, and (if valid) just below.\n",
    "\n",
    "The `gcd` function operates on integers and has a boundary at zero:"
   ]
  },
  {
   "cell_type": "code",
   "execution_count": 13,
   "id": "93e08b6b-190a-419f-8441-2b91bda0af9d",
   "metadata": {
    "ExecuteTime": {
     "start_time": "2023-09-22T18:43:28.163176Z"
    },
    "editable": true,
    "slideshow": {
     "slide_type": ""
    },
    "tags": []
   },
   "outputs": [],
   "source": [
    "assert gcd(1, 17) == 1  # should be 1\n",
    "assert gcd(0, 17) == 0  # should be 0"
   ]
  },
  {
   "cell_type": "markdown",
   "id": "9d556af0-23ce-4dba-80bd-cc52bfece2e2",
   "metadata": {
    "editable": true,
    "slideshow": {
     "slide_type": ""
    },
    "tags": []
   },
   "source": [
    "> Python doesn't have a bound on the size of integers, and we'll look at common errors with large values later."
   ]
  },
  {
   "cell_type": "markdown",
   "id": "c3d51cbe-b468-454b-87b0-c0c076c030fb",
   "metadata": {
    "editable": true,
    "slideshow": {
     "slide_type": "subslide"
    },
    "tags": []
   },
   "source": [
    "### Compound boundaries\n",
    "\n",
    "You should test the behavior of your function at places where several variables have boundaries.\n",
    "\n",
    "In the case of the `gcd`, this is relatively simple:"
   ]
  },
  {
   "cell_type": "code",
   "execution_count": 13,
   "id": "405c9a90-4127-4989-8c00-747d0c269d9b",
   "metadata": {
    "ExecuteTime": {
     "start_time": "2023-09-22T18:43:28.164531Z"
    },
    "editable": true,
    "slideshow": {
     "slide_type": ""
    },
    "tags": []
   },
   "outputs": [],
   "source": [
    "assert gcd(0, 0) == 0"
   ]
  },
  {
   "cell_type": "markdown",
   "id": "d3f22464-b980-47d9-bad3-24c3ff080cb7",
   "metadata": {
    "editable": true,
    "slideshow": {
     "slide_type": "subslide"
    },
    "tags": []
   },
   "source": [
    "### Special cases\n",
    "\n",
    "Check behavior at special values (if any exist):"
   ]
  },
  {
   "cell_type": "code",
   "execution_count": 14,
   "id": "589d2f86-dd2a-4b98-a0c7-9736c89491d3",
   "metadata": {
    "ExecuteTime": {
     "start_time": "2023-09-22T18:43:28.165907Z"
    },
    "editable": true,
    "slideshow": {
     "slide_type": ""
    },
    "tags": []
   },
   "outputs": [],
   "source": [
    "assert gcd(0, 0) == 0"
   ]
  },
  {
   "cell_type": "markdown",
   "id": "1712919a-f1f3-44f2-ab7e-a258006ac49a",
   "metadata": {
    "editable": true,
    "slideshow": {
     "slide_type": "subslide"
    },
    "tags": []
   },
   "source": [
    "### Symmetries\n",
    "\n",
    "We also know that $\\gcd(x, y) = \\displaystyle \\gcd(y, x)$ so we should test those too:"
   ]
  },
  {
   "cell_type": "code",
   "execution_count": 15,
   "id": "39ecdb86-cba3-4f7c-a770-99ef0cd57d67",
   "metadata": {
    "ExecuteTime": {
     "start_time": "2023-09-22T18:43:28.167237Z"
    },
    "editable": true,
    "slideshow": {
     "slide_type": ""
    },
    "tags": []
   },
   "outputs": [],
   "source": [
    "# Nominal\n",
    "assert gcd(21, 7) == 7\n",
    "assert gcd(10, 20) == 10\n",
    "assert gcd(24, 54) == 6\n",
    "\n",
    "# Boundary\n",
    "assert gcd(17, 1) == 1  # should be 1\n",
    "assert gcd(17, 0) == 0  # should be 0"
   ]
  },
  {
   "cell_type": "markdown",
   "id": "e7986522-124e-425b-a790-d13e1e4d16bf",
   "metadata": {
    "editable": true,
    "slideshow": {
     "slide_type": "subslide"
    },
    "tags": []
   },
   "source": [
    "### Minimum and Maximum Valid Configuration\n",
    "\n",
    "For programs which accept collections of things as arguments, we should check \n",
    "- the \"minimum normal configuration\", with the smallest valid dataset,\n",
    "- the \"maximum normal configuration\", with data at least as large as the largest expected dataset for the use case."
   ]
  },
  {
   "cell_type": "markdown",
   "id": "d6c79a0c-ead7-478e-ad9a-c0d06f0b35aa",
   "metadata": {
    "editable": true,
    "slideshow": {
     "slide_type": "subslide"
    },
    "tags": []
   },
   "source": [
    "### Old Data\n",
    "\n",
    "For programs which are upgraded over time and which are intended to be backwards compatible, we should pass data formatted in the \"old\" way, and ensure that these continue to be handled correctly."
   ]
  },
  {
   "cell_type": "markdown",
   "id": "1305366e-622e-4ea7-a338-c1ecdf0dc377",
   "metadata": {
    "editable": true,
    "slideshow": {
     "slide_type": "slide"
    },
    "tags": []
   },
   "source": [
    "## It is vital to test that our function also throws `Exceptions` correctly for **bad data**"
   ]
  },
  {
   "cell_type": "markdown",
   "id": "de4301dc-52f0-4f8b-9aa2-e69704496eda",
   "metadata": {
    "editable": true,
    "slideshow": {
     "slide_type": ""
    },
    "tags": []
   },
   "source": [
    "### Uninitialized data\n",
    "\n",
    "If we pass `None` (where `None` is a disallowed value), it should throw a `TypeError`:"
   ]
  },
  {
   "cell_type": "code",
   "execution_count": 16,
   "id": "4bbc3892-7e21-4d83-8f73-9e56cb3f9cde",
   "metadata": {
    "ExecuteTime": {
     "start_time": "2023-09-22T18:43:28.168724Z"
    },
    "editable": true,
    "slideshow": {
     "slide_type": ""
    },
    "tags": []
   },
   "outputs": [],
   "source": [
    "import pytest\n",
    "\n",
    "with pytest.raises(TypeError):\n",
    "    gcd(1, None)\n",
    "\n",
    "with pytest.raises(TypeError):\n",
    "    gcd(None, 2)"
   ]
  },
  {
   "cell_type": "markdown",
   "id": "083b5692-0d24-4e13-af23-3a6a60901973",
   "metadata": {
    "editable": true,
    "slideshow": {
     "slide_type": ""
    },
    "tags": []
   },
   "source": [
    "> Of course, if your function allows `None` as a valid input, it should be included in the **good data** tests. "
   ]
  },
  {
   "cell_type": "markdown",
   "id": "fa763d72-bd76-4368-b7c3-a10a95231bd4",
   "metadata": {
    "editable": true,
    "slideshow": {
     "slide_type": "subslide"
    },
    "tags": []
   },
   "source": [
    "### Incorrect type\n",
    "\n",
    "If we pass in the wrong `type` of data, it should throw a `TypeError`:"
   ]
  },
  {
   "cell_type": "code",
   "execution_count": 17,
   "id": "e2804f37-45f8-4f31-9f7c-aea758cd1dfa",
   "metadata": {
    "ExecuteTime": {
     "start_time": "2023-09-22T18:43:28.170113Z"
    },
    "editable": true,
    "slideshow": {
     "slide_type": ""
    },
    "tags": []
   },
   "outputs": [],
   "source": [
    "with pytest.raises(TypeError):\n",
    "    gcd(1, 2.4)\n",
    "\n",
    "with pytest.raises(TypeError):\n",
    "    gcd(1.2, 2)\n",
    "\n",
    "with pytest.raises(TypeError):\n",
    "    gcd(1.2, 2.4)\n",
    "\n",
    "with pytest.raises(TypeError):\n",
    "    gcd(\"one-point-two\", 2)"
   ]
  },
  {
   "cell_type": "markdown",
   "id": "db408524-7680-42be-bbc5-6f08333146ef",
   "metadata": {
    "editable": true,
    "slideshow": {
     "slide_type": "subslide"
    },
    "tags": []
   },
   "source": [
    "### Too little data\n",
    "\n",
    "If we pass in too little data it should throw an `Exception`:"
   ]
  },
  {
   "cell_type": "code",
   "execution_count": 18,
   "id": "00a77c29-6cc5-4122-a6dc-3578e6743ed5",
   "metadata": {
    "ExecuteTime": {
     "start_time": "2023-09-22T18:43:28.171601Z"
    },
    "editable": true,
    "slideshow": {
     "slide_type": ""
    },
    "tags": []
   },
   "outputs": [],
   "source": [
    "with pytest.raises(TypeError):\n",
    "    gcd()"
   ]
  },
  {
   "cell_type": "code",
   "execution_count": 19,
   "id": "0a05abc1-5971-4b2d-9a1f-9a2ffa9ee51f",
   "metadata": {
    "ExecuteTime": {
     "start_time": "2023-09-22T18:43:28.173252Z"
    },
    "editable": true,
    "slideshow": {
     "slide_type": ""
    },
    "tags": []
   },
   "outputs": [],
   "source": [
    "with pytest.raises(TypeError):\n",
    "    gcd(0)"
   ]
  },
  {
   "cell_type": "markdown",
   "id": "42153ae8-712b-4411-a1c4-78de200b8ed4",
   "metadata": {
    "editable": true,
    "slideshow": {
     "slide_type": "subslide"
    },
    "tags": []
   },
   "source": [
    "### Too much data\n",
    "\n",
    "If we pass in too little data it should throw an `Exception`:"
   ]
  },
  {
   "cell_type": "code",
   "execution_count": 20,
   "id": "6d6ac7ee-8768-4b3c-b76e-6efb0b3a9631",
   "metadata": {
    "ExecuteTime": {
     "start_time": "2023-09-22T18:43:28.174997Z"
    },
    "editable": true,
    "slideshow": {
     "slide_type": ""
    },
    "tags": [
     "raises-exception"
    ]
   },
   "outputs": [
    {
     "ename": "TypeError",
     "evalue": "gcd() takes 2 positional arguments but 3 were given",
     "output_type": "error",
     "traceback": [
      "\u001b[0;31m---------------------------------------------------------------------------\u001b[0m",
      "\u001b[0;31mTypeError\u001b[0m                                 Traceback (most recent call last)",
      "Cell \u001b[0;32mIn[20], line 1\u001b[0m\n\u001b[0;32m----> 1\u001b[0m \u001b[43mgcd\u001b[49m\u001b[43m(\u001b[49m\u001b[38;5;241;43m1\u001b[39;49m\u001b[43m,\u001b[49m\u001b[43m \u001b[49m\u001b[38;5;241;43m2\u001b[39;49m\u001b[43m,\u001b[49m\u001b[43m \u001b[49m\u001b[38;5;241;43m3\u001b[39;49m\u001b[43m)\u001b[49m  \u001b[38;5;66;03m# throws a type error\u001b[39;00m\n",
      "\u001b[0;31mTypeError\u001b[0m: gcd() takes 2 positional arguments but 3 were given"
     ]
    }
   ],
   "source": [
    "gcd(1, 2, 3)  # throws a type error"
   ]
  },
  {
   "cell_type": "code",
   "execution_count": 21,
   "id": "d1ba0db2-ccec-440d-9713-856f974be477",
   "metadata": {
    "ExecuteTime": {
     "start_time": "2023-09-22T18:43:28.176515Z"
    },
    "editable": true,
    "slideshow": {
     "slide_type": ""
    },
    "tags": []
   },
   "outputs": [],
   "source": [
    "with pytest.raises(TypeError):  # which we can catch like this\n",
    "    gcd(1, 2, 3)"
   ]
  },
  {
   "cell_type": "markdown",
   "id": "2d64ad9d-409a-4073-802d-68269cf76714",
   "metadata": {
    "editable": true,
    "slideshow": {
     "slide_type": "slide"
    },
    "tags": []
   },
   "source": [
    "## **Guess errors** to focus on tests which are disproportionately likely to show problems\n",
    "\n",
    "Some input values cause more errors than others. \n",
    "\n",
    "You might be able to guess which errors will crop up, and test more effectively by finding errors faster."
   ]
  },
  {
   "cell_type": "markdown",
   "id": "e82d46e4-cb68-48ee-b882-3672f9a0e2bf",
   "metadata": {
    "editable": true,
    "slideshow": {
     "slide_type": "subslide"
    },
    "tags": []
   },
   "source": [
    "### Numbers: Zeros\n",
    "Zeros often cause problems in numerical functions."
   ]
  },
  {
   "cell_type": "code",
   "execution_count": 22,
   "id": "cfb5e2d0-c3aa-486f-ab19-90608e2cfb8f",
   "metadata": {
    "ExecuteTime": {
     "start_time": "2023-09-22T18:43:28.177805Z"
    },
    "editable": true,
    "slideshow": {
     "slide_type": ""
    },
    "tags": []
   },
   "outputs": [],
   "source": [
    "assert gcd(0, 100) == 0"
   ]
  },
  {
   "cell_type": "markdown",
   "id": "f1813e74-0615-4c45-8d9c-eb3ef1bf61d9",
   "metadata": {
    "editable": true,
    "slideshow": {
     "slide_type": "subslide"
    },
    "tags": []
   },
   "source": [
    "### Numbers: Values at the limit of a type's definition may cause issues\n",
    "\n",
    "The \"natural\" maximum size of an integer might be $2^{63} - 1$ on a 64-bit system (which I'm using for this demo), so we'll treat that as a boundary.\n",
    "\n",
    "> As of python 3, the only size limit for an integer is the size of memory [[1]](https://docs.python.org/3/library/sys.html#sys.maxsize), but if you're using a library like Numpy which *does* impose a limit, you should check behavior below and above that limit. "
   ]
  },
  {
   "cell_type": "code",
   "execution_count": 23,
   "id": "062cc868-94e8-4cb9-984e-dc35460964ef",
   "metadata": {
    "ExecuteTime": {
     "start_time": "2023-09-22T18:43:28.179268Z"
    },
    "editable": true,
    "slideshow": {
     "slide_type": ""
    },
    "tags": []
   },
   "outputs": [],
   "source": [
    "a = 2**63-1  # prime factors: 7, 73, 127, 337, 92737, 649657, https://www.wikidata.org/wiki/Q10571632\n",
    "b = 649657 * 7 * 6  # the gcd is 649657 * 7 = 4547599 by construction\n",
    "assert gcd(a, b) == 4547599\n",
    "\n",
    "a = 2**63  # prime factors: 2 by construction\n",
    "b = 2**10  # 1024, for example\n",
    "assert gcd(a, b) == 1024\n",
    "\n",
    "a = 2**63+1  # prime factors: 3, 3, 3, 19, 43, 5419, 77158673929\n",
    "b = 43 * 5419 * 2  # the gcd is 43 * 5419 = 233017 by construction\n",
    "assert gcd(a, b) == 233017"
   ]
  },
  {
   "cell_type": "markdown",
   "id": "b9f32615-56da-466b-9b2f-a611d16e3a42",
   "metadata": {
    "editable": true,
    "slideshow": {
     "slide_type": "subslide"
    },
    "tags": []
   },
   "source": [
    "If we do the same test with a function which casts the values to numpy 64-bit integers, we get some errors:"
   ]
  },
  {
   "cell_type": "code",
   "execution_count": 24,
   "id": "b2b83f38-799b-4597-8e39-f26b21047778",
   "metadata": {
    "editable": true,
    "slideshow": {
     "slide_type": ""
    },
    "tags": [
     "raises-exception"
    ]
   },
   "outputs": [
    {
     "ename": "OverflowError",
     "evalue": "Python int too large to convert to C long",
     "output_type": "error",
     "traceback": [
      "\u001b[0;31m---------------------------------------------------------------------------\u001b[0m",
      "\u001b[0;31mOverflowError\u001b[0m                             Traceback (most recent call last)",
      "Cell \u001b[0;32mIn[24], line 9\u001b[0m\n\u001b[1;32m      7\u001b[0m a \u001b[38;5;241m=\u001b[39m \u001b[38;5;241m2\u001b[39m\u001b[38;5;241m*\u001b[39m\u001b[38;5;241m*\u001b[39m\u001b[38;5;241m63\u001b[39m  \u001b[38;5;66;03m# prime factors: 2 by construction\u001b[39;00m\n\u001b[1;32m      8\u001b[0m b \u001b[38;5;241m=\u001b[39m \u001b[38;5;241m2\u001b[39m\u001b[38;5;241m*\u001b[39m\u001b[38;5;241m*\u001b[39m\u001b[38;5;241m10\u001b[39m  \u001b[38;5;66;03m# 1024, for example\u001b[39;00m\n\u001b[0;32m----> 9\u001b[0m \u001b[38;5;28;01massert\u001b[39;00m \u001b[43mgcd_numpy\u001b[49m\u001b[43m(\u001b[49m\u001b[43ma\u001b[49m\u001b[43m,\u001b[49m\u001b[43m \u001b[49m\u001b[43mb\u001b[49m\u001b[43m)\u001b[49m \u001b[38;5;241m==\u001b[39m \u001b[38;5;241m1024\u001b[39m\n\u001b[1;32m     11\u001b[0m a \u001b[38;5;241m=\u001b[39m \u001b[38;5;241m2\u001b[39m\u001b[38;5;241m*\u001b[39m\u001b[38;5;241m*\u001b[39m\u001b[38;5;241m63\u001b[39m\u001b[38;5;241m+\u001b[39m\u001b[38;5;241m1\u001b[39m  \u001b[38;5;66;03m# prime factors: 3, 3, 3, 19, 43, 5419, 77158673929\u001b[39;00m\n\u001b[1;32m     12\u001b[0m b \u001b[38;5;241m=\u001b[39m \u001b[38;5;241m43\u001b[39m \u001b[38;5;241m*\u001b[39m \u001b[38;5;241m5419\u001b[39m \u001b[38;5;241m*\u001b[39m \u001b[38;5;241m2\u001b[39m  \u001b[38;5;66;03m# the gcd is 43 * 5419 = 233017 by construction\u001b[39;00m\n",
      "File \u001b[0;32m~/Developer/testingDSCoV/src/example/gcd/_numpy.py:6\u001b[0m, in \u001b[0;36mgcd_numpy\u001b[0;34m(x, y)\u001b[0m\n\u001b[1;32m      4\u001b[0m \u001b[38;5;28;01mdef\u001b[39;00m \u001b[38;5;21mgcd_numpy\u001b[39m(x: np\u001b[38;5;241m.\u001b[39mint64, y: np\u001b[38;5;241m.\u001b[39mint64) \u001b[38;5;241m-\u001b[39m\u001b[38;5;241m>\u001b[39m \u001b[38;5;28mint\u001b[39m:\n\u001b[1;32m      5\u001b[0m \u001b[38;5;250m    \u001b[39m\u001b[38;5;124;03m\"\"\"Algorithm to calculate the greatest common divisor of two integers\"\"\"\u001b[39;00m\n\u001b[0;32m----> 6\u001b[0m     x, y \u001b[38;5;241m=\u001b[39m \u001b[43mnp\u001b[49m\u001b[38;5;241;43m.\u001b[39;49m\u001b[43mint64\u001b[49m\u001b[43m(\u001b[49m\u001b[43mx\u001b[49m\u001b[43m)\u001b[49m, np\u001b[38;5;241m.\u001b[39mint64(y)\n\u001b[1;32m      8\u001b[0m     \u001b[38;5;28;01mif\u001b[39;00m \u001b[38;5;28mtype\u001b[39m(x) \u001b[38;5;129;01mis\u001b[39;00m \u001b[38;5;129;01mnot\u001b[39;00m np\u001b[38;5;241m.\u001b[39mint64 \u001b[38;5;129;01mor\u001b[39;00m \u001b[38;5;28mtype\u001b[39m(y) \u001b[38;5;129;01mis\u001b[39;00m \u001b[38;5;129;01mnot\u001b[39;00m np\u001b[38;5;241m.\u001b[39mint64:\n\u001b[1;32m      9\u001b[0m         \u001b[38;5;28;01mraise\u001b[39;00m \u001b[38;5;167;01mTypeError\u001b[39;00m(\u001b[38;5;124m\"\u001b[39m\u001b[38;5;124mx and y must be integers\u001b[39m\u001b[38;5;124m\"\u001b[39m)\n",
      "\u001b[0;31mOverflowError\u001b[0m: Python int too large to convert to C long"
     ]
    }
   ],
   "source": [
    "from example import gcd_numpy\n",
    "\n",
    "a = 2**63-1  # prime factors: 7, 73, 127, 337, 92737, 649657, https://www.wikidata.org/wiki/Q10571632\n",
    "b = 649657 * 7 * 6  # the gcd is 649657 * 7 = 4547599 by construction\n",
    "assert gcd_numpy(a, b) == 4547599\n",
    "\n",
    "a = 2**63  # prime factors: 2 by construction\n",
    "b = 2**10  # 1024, for example\n",
    "assert gcd_numpy(a, b) == 1024\n",
    "\n",
    "a = 2**63+1  # prime factors: 3, 3, 3, 19, 43, 5419, 77158673929\n",
    "b = 43 * 5419 * 2  # the gcd is 43 * 5419 = 233017 by construction\n",
    "assert gcd_numpy(a, b) == 233017"
   ]
  },
  {
   "cell_type": "markdown",
   "id": "97f02637-6f1c-49ad-a1d7-e66783d169fb",
   "metadata": {
    "editable": true,
    "slideshow": {
     "slide_type": "subslide"
    },
    "tags": []
   },
   "source": [
    "### Strings: empty, long, unicode\n",
    "\n",
    "In functions which operate on strings, test the behavior with strings which\n",
    "- are emtpy,\n",
    "- have a single character,\n",
    "- are very long compared to the \"normal\" case in your use case,\n",
    "- contain unicode characters.\n",
    "\n",
    "> Strings have a length limit of $(2^{63} - 1)\\,\\mathrm{B}$ – around $9\\,000\\,000\\,\\mathrm{TB}$. "
   ]
  },
  {
   "cell_type": "markdown",
   "id": "b96dc743-0002-4bfe-a9f0-bfeee24f9fdd",
   "metadata": {
    "editable": true,
    "slideshow": {
     "slide_type": "subslide"
    },
    "tags": []
   },
   "source": [
    "### Lists, Arrays, Dictionaries: Mutable datatypes can cause very strange errors\n",
    "\n",
    "In python, it's easy to introduce a fault which causes function to change its output each time you run it, even with the same inputs – check that a function returns the same output for the same input:"
   ]
  },
  {
   "cell_type": "code",
   "execution_count": 35,
   "id": "7a177c80-a422-446f-83c7-3f68aa48aebf",
   "metadata": {
    "ExecuteTime": {
     "start_time": "2023-09-22T18:43:28.180567Z"
    },
    "editable": true,
    "slideshow": {
     "slide_type": ""
    },
    "tags": []
   },
   "outputs": [
    {
     "name": "stdout",
     "output_type": "stream",
     "text": [
      "Help on function append in module example._lists:\n",
      "\n",
      "append(value: Any, the_list: Optional[list] = [1, 2, 2, 3, 3, 4, 4, 3, 3])\n",
      "    Appends a value to a list, and if the list isn't given, return the value on a new list.\n",
      "    \n",
      "    :param value: the value to append to `list`\n",
      "    :type value: Any\n",
      "    \n",
      "    :param the_list: the list to append to, defaults to an empty list\n",
      "    :type the_list: list, optional\n",
      "\n"
     ]
    }
   ],
   "source": [
    "# Example of a function which displays this behavior\n",
    "from example import append\n",
    "help(append)"
   ]
  },
  {
   "cell_type": "code",
   "execution_count": 26,
   "id": "2101be12-255a-4dd4-9a84-40f26eafa98c",
   "metadata": {
    "ExecuteTime": {
     "start_time": "2023-09-22T18:43:28.180567Z"
    },
    "editable": true,
    "slideshow": {
     "slide_type": ""
    },
    "tags": []
   },
   "outputs": [
    {
     "data": {
      "text/plain": [
       "[1]"
      ]
     },
     "execution_count": 26,
     "metadata": {},
     "output_type": "execute_result"
    }
   ],
   "source": [
    "# Works fine if we give it a list to extend:\n",
    "append(1, [])  # should return [1]"
   ]
  },
  {
   "cell_type": "code",
   "execution_count": 27,
   "id": "3f5b31ca-a4d5-4716-a7ef-09e8759bf46f",
   "metadata": {
    "ExecuteTime": {
     "start_time": "2023-09-22T18:43:28.181804Z"
    },
    "editable": true,
    "slideshow": {
     "slide_type": ""
    },
    "tags": []
   },
   "outputs": [],
   "source": [
    "assert append(1, []) == [1]"
   ]
  },
  {
   "cell_type": "markdown",
   "id": "b7d9a11f-82f7-47ec-8cdd-7ad7a14bc8e9",
   "metadata": {
    "editable": true,
    "slideshow": {
     "slide_type": ""
    },
    "tags": []
   },
   "source": [
    "If we don't give it a list to extend, it breaks:"
   ]
  },
  {
   "cell_type": "code",
   "execution_count": 28,
   "id": "85b908a1-004f-4951-a90b-f774b408cfa7",
   "metadata": {
    "ExecuteTime": {
     "start_time": "2023-09-22T18:43:28.183086Z"
    },
    "editable": true,
    "slideshow": {
     "slide_type": ""
    },
    "tags": [
     "raises-exception"
    ]
   },
   "outputs": [],
   "source": [
    "assert append(1) == [1]"
   ]
  },
  {
   "cell_type": "code",
   "execution_count": 29,
   "id": "94fa3fa8-74b0-4154-8bb8-3be7a98b6deb",
   "metadata": {
    "ExecuteTime": {
     "start_time": "2023-09-22T18:43:28.184096Z"
    },
    "editable": true,
    "slideshow": {
     "slide_type": ""
    },
    "tags": [
     "raises-exception"
    ]
   },
   "outputs": [
    {
     "ename": "AssertionError",
     "evalue": "",
     "output_type": "error",
     "traceback": [
      "\u001b[0;31m---------------------------------------------------------------------------\u001b[0m",
      "\u001b[0;31mAssertionError\u001b[0m                            Traceback (most recent call last)",
      "Cell \u001b[0;32mIn[29], line 1\u001b[0m\n\u001b[0;32m----> 1\u001b[0m \u001b[38;5;28;01massert\u001b[39;00m append(\u001b[38;5;241m2\u001b[39m) \u001b[38;5;241m==\u001b[39m [\u001b[38;5;241m2\u001b[39m]   \u001b[38;5;66;03m# should return [2]!!!\u001b[39;00m\n",
      "\u001b[0;31mAssertionError\u001b[0m: "
     ]
    }
   ],
   "source": [
    "assert append(2) == [2]   # should return [2]!!!"
   ]
  },
  {
   "cell_type": "markdown",
   "id": "72ae13c1-da24-4120-9321-38de26bd221d",
   "metadata": {
    "editable": true,
    "slideshow": {
     "slide_type": "subslide"
    },
    "tags": []
   },
   "source": [
    "What's going on? Let's try to debug this function:"
   ]
  },
  {
   "cell_type": "code",
   "execution_count": 30,
   "id": "454bfa50-b1fe-4920-8412-42ec6b605efd",
   "metadata": {
    "ExecuteTime": {
     "start_time": "2023-09-22T18:43:28.184978Z"
    },
    "editable": true,
    "slideshow": {
     "slide_type": ""
    },
    "tags": []
   },
   "outputs": [
    {
     "data": {
      "text/plain": [
       "[1, 2, 2]"
      ]
     },
     "execution_count": 30,
     "metadata": {},
     "output_type": "execute_result"
    }
   ],
   "source": [
    "append(2)"
   ]
  },
  {
   "cell_type": "markdown",
   "id": "51a38a2a-72ab-447a-b5bb-5f9a89435031",
   "metadata": {
    "editable": true,
    "slideshow": {
     "slide_type": ""
    },
    "tags": []
   },
   "source": [
    "The default value of `the_list` is getting extended each time we run the function."
   ]
  },
  {
   "cell_type": "markdown",
   "id": "bdd856a4-197f-405a-95c7-db91ac30eeb7",
   "metadata": {
    "editable": true,
    "slideshow": {
     "slide_type": "subslide"
    },
    "tags": []
   },
   "source": [
    "You might think that you can check this by running a test like this:"
   ]
  },
  {
   "cell_type": "code",
   "execution_count": 31,
   "id": "671768c1-3aa7-4678-973c-f10a9fa24c88",
   "metadata": {
    "ExecuteTime": {
     "start_time": "2023-09-22T18:43:28.185970Z"
    },
    "editable": true,
    "slideshow": {
     "slide_type": ""
    },
    "tags": []
   },
   "outputs": [],
   "source": [
    "assert append(3) == append(3)  # passes unexpectedly!"
   ]
  },
  {
   "cell_type": "markdown",
   "id": "51f73dbe-2073-450a-a098-7943db74bcf4",
   "metadata": {
    "editable": true,
    "slideshow": {
     "slide_type": ""
    },
    "tags": []
   },
   "source": [
    "... but the error is so insidious that this test fails! Both functions are appending to the same list! \n",
    "You actually need to store a copy of the value from the first run and compare it later:"
   ]
  },
  {
   "cell_type": "code",
   "execution_count": 32,
   "id": "4b07bd79-35e9-4168-b300-b94429e43722",
   "metadata": {
    "ExecuteTime": {
     "start_time": "2023-09-22T18:43:28.186807Z"
    },
    "editable": true,
    "slideshow": {
     "slide_type": ""
    },
    "tags": [
     "raises-exception"
    ]
   },
   "outputs": [
    {
     "ename": "AssertionError",
     "evalue": "[1, 2, 2, 3, 3, 4] != [1, 2, 2, 3, 3, 4, 4]",
     "output_type": "error",
     "traceback": [
      "\u001b[0;31m---------------------------------------------------------------------------\u001b[0m",
      "\u001b[0;31mAssertionError\u001b[0m                            Traceback (most recent call last)",
      "Cell \u001b[0;32mIn[32], line 6\u001b[0m\n\u001b[1;32m      3\u001b[0m first_result \u001b[38;5;241m=\u001b[39m copy\u001b[38;5;241m.\u001b[39mdeepcopy(append(\u001b[38;5;241m4\u001b[39m))\n\u001b[1;32m      4\u001b[0m second_result \u001b[38;5;241m=\u001b[39m copy\u001b[38;5;241m.\u001b[39mdeepcopy(append(\u001b[38;5;241m4\u001b[39m))\n\u001b[0;32m----> 6\u001b[0m \u001b[38;5;28;01massert\u001b[39;00m first_result \u001b[38;5;241m==\u001b[39m second_result, \u001b[38;5;124m\"\u001b[39m\u001b[38;5;132;01m%s\u001b[39;00m\u001b[38;5;124m != \u001b[39m\u001b[38;5;132;01m%s\u001b[39;00m\u001b[38;5;124m\"\u001b[39m \u001b[38;5;241m%\u001b[39m (first_result, second_result)\n",
      "\u001b[0;31mAssertionError\u001b[0m: [1, 2, 2, 3, 3, 4] != [1, 2, 2, 3, 3, 4, 4]"
     ]
    }
   ],
   "source": [
    "import copy\n",
    "\n",
    "first_result = copy.deepcopy(append(4))\n",
    "second_result = copy.deepcopy(append(4))\n",
    "\n",
    "assert first_result == second_result, \"%s != %s\" % (first_result, second_result)"
   ]
  },
  {
   "cell_type": "markdown",
   "id": "d489a036-8657-4947-b1ce-b355877dda14",
   "metadata": {
    "editable": true,
    "slideshow": {
     "slide_type": "skip"
    },
    "tags": []
   },
   "source": [
    "To fix this, we replace the mutable list in the function with a `None`:"
   ]
  },
  {
   "cell_type": "code",
   "execution_count": 36,
   "id": "064c0d72-3d2c-4423-b5f7-284f7216b762",
   "metadata": {
    "ExecuteTime": {
     "start_time": "2023-09-22T18:43:28.187652Z"
    },
    "editable": true,
    "slideshow": {
     "slide_type": "skip"
    },
    "tags": []
   },
   "outputs": [],
   "source": [
    "from example import append_fixed\n",
    "\n",
    "first_result = copy.deepcopy(append_fixed(4))\n",
    "second_result = copy.deepcopy(append_fixed(4))\n",
    "\n",
    "assert first_result == second_result, \"%s != %s\" % (first_result, second_result)"
   ]
  },
  {
   "cell_type": "markdown",
   "id": "09c9c69c-5b15-4d7e-adf3-efee50d787a0",
   "metadata": {
    "editable": true,
    "slideshow": {
     "slide_type": "subslide"
    },
    "tags": []
   },
   "source": [
    "In the context of our `gcd` function, the test would be:"
   ]
  },
  {
   "cell_type": "code",
   "execution_count": 41,
   "id": "20054dc5-94f9-4ced-bcdb-d9a05278aba3",
   "metadata": {
    "ExecuteTime": {
     "start_time": "2023-09-22T18:43:28.188515Z"
    },
    "editable": true,
    "slideshow": {
     "slide_type": ""
    },
    "tags": []
   },
   "outputs": [],
   "source": [
    "first_gcd = copy.deepcopy(gcd(32, 8))\n",
    "second_gcd = copy.deepcopy(gcd(32, 8))\n",
    "\n",
    "assert first_gcd == second_gcd, \"%s != %s\" % (first_gcd, second_gcd)"
   ]
  },
  {
   "cell_type": "markdown",
   "id": "44a806d9-0189-4786-b51e-cb7cb9775e6c",
   "metadata": {
    "editable": true,
    "slideshow": {
     "slide_type": "subslide"
    },
    "tags": []
   },
   "source": [
    "### Write a **regression test** test for every bug\n",
    "\n",
    "A rich source of errors is *faults which were already fixed*. If a faults re-emerges, it is called a **regression**.\n",
    "\n",
    "So, every time you find a bug: \n",
    "\n",
    "- Make a test case which fails because of the bug.\n",
    "- Fix the bug (so the test case passes)\n",
    "- Leave the test case in your testing library."
   ]
  },
  {
   "cell_type": "markdown",
   "id": "70e628de-ed37-46f6-808b-791dd1d6a2bd",
   "metadata": {
    "editable": true,
    "slideshow": {
     "slide_type": "subslide"
    },
    "tags": []
   },
   "source": [
    "### Testing can ensure we don't regress when we upgrade, and we can leverage **existing implementations** if we have them\n",
    "\n",
    "When we reimplement something, we can also introduce regressions. By comparing outputs, we can ensure that the new implementation is equivalent to the new implementation."
   ]
  },
  {
   "cell_type": "markdown",
   "id": "b6ac563d-404e-4afb-8a60-f0151ff51983",
   "metadata": {
    "ExecuteTime": {
     "start_time": "2023-09-22T18:43:28.198867Z"
    },
    "editable": true,
    "slideshow": {
     "slide_type": "subslide"
    },
    "tags": []
   },
   "source": [
    "Suppose we want to test an implementation of the Euclidean GCD algorithm which I copied from [geeksforgeeks.org](https://www.geeksforgeeks.org/euclidean-algorithms-basic-and-extended/): "
   ]
  },
  {
   "cell_type": "code",
   "execution_count": 42,
   "id": "4d60bcd9-ac63-455e-bcbb-6d5dbb64b13c",
   "metadata": {
    "editable": true,
    "slideshow": {
     "slide_type": ""
    },
    "tags": []
   },
   "outputs": [],
   "source": [
    "from example import gcd_euclidean\n",
    "\n",
    "assert gcd_euclidean(4, 12) == 4\n",
    "assert gcd_euclidean(71383, 27455) == 5491  # from an earlier test using prime factors"
   ]
  },
  {
   "cell_type": "markdown",
   "id": "e3406a19-e03b-441f-8ea7-01cf5adb0426",
   "metadata": {
    "editable": true,
    "slideshow": {
     "slide_type": "slide"
    },
    "tags": []
   },
   "source": [
    "It looks good! It might even be a lot faster than our existing code:"
   ]
  },
  {
   "cell_type": "code",
   "execution_count": 43,
   "id": "c4a3e2ae-1aab-41af-b6da-0b945134d557",
   "metadata": {
    "editable": true,
    "slideshow": {
     "slide_type": ""
    },
    "tags": []
   },
   "outputs": [
    {
     "name": "stdout",
     "output_type": "stream",
     "text": [
      "491 ns ± 4.12 ns per loop (mean ± std. dev. of 7 runs, 1,000,000 loops each)\n"
     ]
    }
   ],
   "source": [
    "%timeit gcd_euclidean(71383, 27455)"
   ]
  },
  {
   "cell_type": "code",
   "execution_count": 44,
   "id": "916aa632-5141-43a2-90f8-ee27d3004d72",
   "metadata": {
    "editable": true,
    "slideshow": {
     "slide_type": ""
    },
    "tags": []
   },
   "outputs": [
    {
     "name": "stdout",
     "output_type": "stream",
     "text": [
      "1.58 ms ± 1.36 µs per loop (mean ± std. dev. of 7 runs, 1,000 loops each)\n"
     ]
    }
   ],
   "source": [
    "%timeit gcd(71383, 27455)"
   ]
  },
  {
   "cell_type": "markdown",
   "id": "190b16d5-1c22-4d53-a3e2-bebb575e3a6b",
   "metadata": {
    "editable": true,
    "slideshow": {
     "slide_type": ""
    },
    "tags": []
   },
   "source": [
    "Wow! A speed up of $\\times 3000$! Amazing!"
   ]
  },
  {
   "cell_type": "markdown",
   "id": "eea3b8c7-9f80-4dba-87d6-a45bd9f974b4",
   "metadata": {
    "editable": true,
    "slideshow": {
     "slide_type": "subslide"
    },
    "tags": []
   },
   "source": [
    "#### We can use a reference implementation to show that `gcd_euclidean`, though fast, is defective\n",
    "\n",
    "Let's test it against our existing reference implementation, just to see if it's working for all the values we are already confident in. "
   ]
  },
  {
   "cell_type": "code",
   "execution_count": 46,
   "id": "cefb8238-bc32-4058-859b-226eb301e0a1",
   "metadata": {
    "editable": true,
    "slideshow": {
     "slide_type": ""
    },
    "tags": [
     "raises-exception"
    ]
   },
   "outputs": [
    {
     "name": "stdout",
     "output_type": "stream",
     "text": [
      "0\n",
      "1\n",
      "2\n",
      "3\n",
      "4\n",
      "5\n",
      "6\n",
      "7\n",
      "8\n",
      "9\n",
      "10\n",
      "11\n",
      "12\n",
      "13\n",
      "14\n",
      "15\n",
      "16\n",
      "17\n",
      "18\n",
      "19\n",
      "20\n",
      "21\n",
      "22\n",
      "23\n",
      "24\n",
      "25\n",
      "26\n",
      "27\n",
      "28\n",
      "29\n",
      "30\n",
      "31\n",
      "32\n",
      "33\n",
      "34\n",
      "35\n",
      "36\n",
      "37\n",
      "38\n",
      "39\n",
      "40\n",
      "41\n",
      "42\n",
      "43\n",
      "44\n",
      "45\n",
      "46\n",
      "47\n",
      "48\n",
      "49\n",
      "50\n",
      "51\n",
      "52\n",
      "53\n",
      "54\n",
      "55\n",
      "56\n",
      "57\n",
      "58\n",
      "59\n",
      "60\n",
      "61\n",
      "62\n",
      "63\n",
      "64\n",
      "65\n",
      "66\n",
      "67\n",
      "68\n",
      "69\n",
      "70\n",
      "71\n",
      "72\n",
      "73\n",
      "74\n",
      "75\n",
      "76\n",
      "77\n",
      "78\n",
      "79\n",
      "80\n",
      "81\n",
      "82\n",
      "83\n",
      "84\n",
      "85\n",
      "86\n",
      "87\n",
      "88\n",
      "89\n",
      "90\n",
      "91\n",
      "92\n",
      "93\n",
      "94\n",
      "95\n",
      "96\n",
      "97\n",
      "98\n",
      "99\n",
      "100\n",
      "101\n",
      "102\n",
      "103\n",
      "104\n",
      "105\n",
      "106\n",
      "107\n",
      "108\n",
      "109\n",
      "110\n",
      "111\n",
      "112\n",
      "113\n",
      "114\n",
      "115\n",
      "116\n",
      "117\n",
      "118\n",
      "119\n",
      "120\n",
      "121\n",
      "122\n",
      "123\n",
      "124\n",
      "125\n",
      "126\n"
     ]
    },
    {
     "ename": "AssertionError",
     "evalue": "Fails for a=841, b=0",
     "output_type": "error",
     "traceback": [
      "\u001b[0;31m---------------------------------------------------------------------------\u001b[0m",
      "\u001b[0;31mAssertionError\u001b[0m                            Traceback (most recent call last)",
      "Cell \u001b[0;32mIn[46], line 7\u001b[0m\n\u001b[1;32m      5\u001b[0m a \u001b[38;5;241m=\u001b[39m random\u001b[38;5;241m.\u001b[39mrandrange(\u001b[38;5;241m0\u001b[39m, \u001b[38;5;241m1000\u001b[39m)\n\u001b[1;32m      6\u001b[0m b \u001b[38;5;241m=\u001b[39m random\u001b[38;5;241m.\u001b[39mrandrange(\u001b[38;5;241m0\u001b[39m, \u001b[38;5;241m1000\u001b[39m)\n\u001b[0;32m----> 7\u001b[0m \u001b[38;5;28;01massert\u001b[39;00m gcd(a, b) \u001b[38;5;241m==\u001b[39m gcd_euclidean(a, b), \u001b[38;5;124mf\u001b[39m\u001b[38;5;124m\"\u001b[39m\u001b[38;5;124mFails for \u001b[39m\u001b[38;5;132;01m{\u001b[39;00ma\u001b[38;5;132;01m=}\u001b[39;00m\u001b[38;5;124m, \u001b[39m\u001b[38;5;132;01m{\u001b[39;00mb\u001b[38;5;132;01m=}\u001b[39;00m\u001b[38;5;124m\"\u001b[39m\n",
      "\u001b[0;31mAssertionError\u001b[0m: Fails for a=841, b=0"
     ]
    }
   ],
   "source": [
    "import random\n",
    "random.seed(180)\n",
    "for i in range(1000):\n",
    "    print(i)\n",
    "    a = random.randrange(0, 1000)\n",
    "    b = random.randrange(0, 1000)\n",
    "    assert gcd(a, b) == gcd_euclidean(a, b), f\"Fails for {a=}, {b=}\""
   ]
  },
  {
   "cell_type": "markdown",
   "id": "11af25e0-7ca1-4552-95d8-ab83c59ef14f",
   "metadata": {
    "editable": true,
    "slideshow": {
     "slide_type": ""
    },
    "tags": []
   },
   "source": [
    "It's failing for at least one case. But is it failing because of `a`, or because of `b`?"
   ]
  },
  {
   "cell_type": "markdown",
   "id": "a04acf54-1843-48c4-85f7-2e75d33b85d5",
   "metadata": {
    "editable": true,
    "slideshow": {
     "slide_type": "slide"
    },
    "tags": []
   },
   "source": [
    "## **Property-based testing** helps check more values and locate minimal failing cases\n",
    "\n",
    "Property-based testing libraries like [`hypothesis`](https://hypothesis.readthedocs.io/): \n",
    "- Check that invariant properties of a function are fulfilled for a range of input values.\n",
    "- \"Shrinking\" inputs which cause errors systematically to find the \"minimal\" failing case.\n",
    "\n",
    "You can convert existing \"Example-based\" tests into property-based tests."
   ]
  },
  {
   "cell_type": "markdown",
   "id": "db94ef6d-dab9-4b1b-9eea-b121c5227a52",
   "metadata": {
    "editable": true,
    "slideshow": {
     "slide_type": "subslide"
    },
    "tags": []
   },
   "source": [
    "### The basic behavior includes the output types and the symmetry between the input values:"
   ]
  },
  {
   "cell_type": "code",
   "execution_count": 48,
   "id": "208b5a55-9be3-47f3-897b-2a9f9a2567c4",
   "metadata": {
    "ExecuteTime": {
     "start_time": "2023-09-22T18:43:28.189378Z"
    },
    "editable": true,
    "slideshow": {
     "slide_type": ""
    },
    "tags": []
   },
   "outputs": [
    {
     "name": "stdout",
     "output_type": "stream",
     "text": [
      "a=0, b=0, 0\n",
      "a=0, b=0, 0\n",
      "a=0, b=0, 0\n",
      "a=0, b=0, 0\n",
      "a=0, b=0, 0\n",
      "a=0, b=0, 0\n",
      "a=0, b=0, 0\n",
      "a=0, b=0, 0\n",
      "a=0, b=0, 0\n",
      "a=0, b=0, 0\n",
      "a=0, b=0, 0\n",
      "a=18906, b=2913, 3\n",
      "a=18906, b=18906, 18906\n",
      "a=28485, b=23736, 3\n",
      "a=28485, b=23736, 3\n",
      "a=23736, b=23736, 23736\n",
      "a=2219, b=2219, 2219\n",
      "a=2219, b=2219, 2219\n",
      "a=0, b=0, 0\n",
      "a=22, b=7885, 1\n",
      "a=0, b=0, 0\n",
      "a=22564, b=2280, 4\n",
      "a=88, b=513, 1\n",
      "a=0, b=0, 0\n",
      "a=20865, b=20865, 20865\n",
      "a=10045, b=10045, 10045\n",
      "a=21536, b=1414, 2\n",
      "a=21536, b=1414, 2\n",
      "a=1414, b=1414, 1414\n",
      "a=28823, b=2842, 1\n",
      "a=2842, b=2842, 2842\n",
      "a=47, b=47, 47\n",
      "a=19921, b=19921, 19921\n",
      "a=58, b=21718, 2\n",
      "a=58, b=58, 58\n",
      "a=43, b=43, 43\n",
      "a=43, b=43, 43\n",
      "a=14313, b=1240, 1\n",
      "a=14313, b=14313, 14313\n",
      "a=19626, b=109, 1\n",
      "a=19626, b=28002, 6\n",
      "a=28002, b=28002, 28002\n",
      "a=28002, b=109, 1\n",
      "a=28002, b=27988, 2\n",
      "a=20477, b=20477, 20477\n",
      "a=0, b=0, 0\n",
      "a=18981, b=25005, 3\n",
      "a=119, b=119, 119\n",
      "a=0, b=0, 0\n",
      "a=11278, b=23863, 1\n",
      "a=11278, b=93, 1\n",
      "a=11278, b=11278, 11278\n",
      "a=19536, b=19536, 19536\n",
      "a=66, b=66, 66\n",
      "a=71, b=28466, 1\n",
      "a=71, b=111, 1\n",
      "a=111, b=111, 111\n",
      "a=26037, b=55, 11\n",
      "a=26037, b=14106, 3\n",
      "a=26037, b=26037, 26037\n",
      "a=32359, b=32359, 32359\n",
      "a=26241, b=26241, 26241\n",
      "a=26241, b=26241, 26241\n",
      "a=30153, b=30153, 30153\n",
      "a=41, b=95, 1\n",
      "a=95, b=95, 95\n",
      "a=27836, b=27836, 27836\n",
      "a=26274, b=10474, 2\n",
      "a=26274, b=10474, 2\n",
      "a=26274, b=26274, 26274\n",
      "a=12, b=0, 0\n",
      "a=1553, b=1553, 1553\n",
      "a=1598, b=19690, 2\n",
      "a=1598, b=19690, 2\n",
      "a=19690, b=19690, 19690\n",
      "a=3983, b=106, 1\n",
      "a=29325, b=29325, 29325\n",
      "a=30698, b=30698, 30698\n",
      "a=20259, b=20259, 20259\n",
      "a=20259, b=20259, 20259\n",
      "a=2, b=32142, 2\n",
      "a=513, b=19, 19\n",
      "a=513, b=0, 0\n",
      "a=9, b=9, 9\n",
      "a=9, b=0, 0\n",
      "a=9, b=9, 9\n",
      "a=13486, b=26415, 1\n",
      "a=13486, b=13486, 13486\n",
      "a=88, b=88, 88\n",
      "a=88, b=88, 88\n",
      "a=49, b=37, 1\n",
      "a=37, b=37, 37\n",
      "a=1695, b=1695, 1695\n",
      "a=73, b=73, 73\n",
      "a=73, b=0, 0\n",
      "a=73, b=73, 73\n",
      "a=54, b=54, 54\n",
      "a=21339, b=13, 1\n",
      "a=21339, b=21339, 21339\n",
      "a=116, b=256, 4\n"
     ]
    }
   ],
   "source": [
    "from hypothesis import given, strategies, assume\n",
    "\n",
    "@given(strategies.integers(), strategies.integers())\n",
    "def test_gcd_type_symmetry(a, b):\n",
    "    # Set the boundaries we'll test within. Valid inputs are >= 0\n",
    "    # Values > 4_000_000 took too long, so limit the upper range.\n",
    "    assume(0 <= a < 4_000_000 and 0 <= b < 4_000_000)\n",
    "    \n",
    "    # Calculate the result\n",
    "    result = gcd(a, b)\n",
    "\n",
    "    print(f\"{a=}, {b=}, {result}\")\n",
    "\n",
    "    # Check the type and sign\n",
    "    assert type(result) is int\n",
    "    assert result >= 0\n",
    "\n",
    "    # Check the results are the same when we swap a and b\n",
    "    result_swapped = gcd(b, a)\n",
    "    assert result == result_swapped\n",
    "\n",
    "test_gcd_type_symmetry()"
   ]
  },
  {
   "cell_type": "markdown",
   "id": "a691fb8b279bb732",
   "metadata": {
    "collapsed": false,
    "editable": true,
    "jupyter": {
     "outputs_hidden": false
    },
    "slideshow": {
     "slide_type": "subslide"
    },
    "tags": []
   },
   "source": [
    "### We can also check the degenerate cases where one of the values is 1\n",
    "$\\gcd(x, 1) = 1, x \\geq 1$:"
   ]
  },
  {
   "cell_type": "code",
   "execution_count": 49,
   "id": "ec0b6d45defbd0fb",
   "metadata": {
    "ExecuteTime": {
     "start_time": "2023-09-22T18:43:28.190171Z"
    },
    "collapsed": false,
    "editable": true,
    "jupyter": {
     "outputs_hidden": false
    },
    "slideshow": {
     "slide_type": ""
    },
    "tags": []
   },
   "outputs": [],
   "source": [
    "@given(strategies.integers())\n",
    "def test_gcd_type_one(a):\n",
    "    # Calculate the result\n",
    "    assume(1 <= a)\n",
    "    assert gcd(a, 1) == 1\n",
    "\n",
    "test_gcd_type_one()"
   ]
  },
  {
   "cell_type": "markdown",
   "id": "dcab8ea089c46370",
   "metadata": {
    "collapsed": false,
    "editable": true,
    "jupyter": {
     "outputs_hidden": false
    },
    "slideshow": {
     "slide_type": "subslide"
    },
    "tags": []
   },
   "source": [
    "### ... or one of the values is 0\n",
    "$\\gcd(x, 0) = 0$:"
   ]
  },
  {
   "cell_type": "code",
   "execution_count": 50,
   "id": "fc5bca599fba677a",
   "metadata": {
    "ExecuteTime": {
     "start_time": "2023-09-22T18:43:28.191004Z"
    },
    "collapsed": false,
    "editable": true,
    "jupyter": {
     "outputs_hidden": false
    },
    "slideshow": {
     "slide_type": ""
    },
    "tags": []
   },
   "outputs": [],
   "source": [
    "@given(strategies.integers())\n",
    "def test_gcd_type_zero(a):\n",
    "    # Calculate the result\n",
    "    assume(0 <= a)\n",
    "    assert gcd(a, 0) == 0\n",
    "\n",
    "test_gcd_type_zero()"
   ]
  },
  {
   "cell_type": "markdown",
   "id": "9c42179d-25fb-471c-a7bc-76ee75a67c36",
   "metadata": {
    "editable": true,
    "slideshow": {
     "slide_type": "slide"
    },
    "tags": []
   },
   "source": [
    "### If we have a reference implementation, we can use that to run a larger sample of tests\n",
    "\n",
    "We can reimplement our breaking case from before, using properties instead, and see that it's the 0, not the 841, which causes us problems:"
   ]
  },
  {
   "cell_type": "code",
   "execution_count": 51,
   "id": "f7cfa490-eaa2-48ed-8605-203eb40acb17",
   "metadata": {
    "editable": true,
    "slideshow": {
     "slide_type": ""
    },
    "tags": [
     "raises-exception"
    ]
   },
   "outputs": [
    {
     "ename": "AssertionError",
     "evalue": "",
     "output_type": "error",
     "traceback": [
      "\u001b[0;31m---------------------------------------------------------------------------\u001b[0m",
      "\u001b[0;31mAssertionError\u001b[0m                            Traceback (most recent call last)",
      "Cell \u001b[0;32mIn[51], line 6\u001b[0m\n\u001b[1;32m      3\u001b[0m     assume(\u001b[38;5;241m0\u001b[39m \u001b[38;5;241m<\u001b[39m\u001b[38;5;241m=\u001b[39m a \u001b[38;5;241m<\u001b[39m \u001b[38;5;241m4_000_000\u001b[39m \u001b[38;5;129;01mand\u001b[39;00m \u001b[38;5;241m0\u001b[39m \u001b[38;5;241m<\u001b[39m\u001b[38;5;241m=\u001b[39m b \u001b[38;5;241m<\u001b[39m \u001b[38;5;241m4_000_000\u001b[39m)\n\u001b[1;32m      4\u001b[0m     \u001b[38;5;28;01massert\u001b[39;00m gcd(a, b) \u001b[38;5;241m==\u001b[39m gcd_euclidean(a, b)\n\u001b[0;32m----> 6\u001b[0m \u001b[43mtest_gcd_euclidean_against_reference\u001b[49m\u001b[43m(\u001b[49m\u001b[43m)\u001b[49m\n",
      "Cell \u001b[0;32mIn[51], line 2\u001b[0m, in \u001b[0;36mtest_gcd_euclidean_against_reference\u001b[0;34m()\u001b[0m\n\u001b[1;32m      1\u001b[0m \u001b[38;5;129m@given\u001b[39m(strategies\u001b[38;5;241m.\u001b[39mintegers(), strategies\u001b[38;5;241m.\u001b[39mintegers())\n\u001b[0;32m----> 2\u001b[0m \u001b[38;5;28;01mdef\u001b[39;00m \u001b[38;5;21mtest_gcd_euclidean_against_reference\u001b[39m(a, b):\n\u001b[1;32m      3\u001b[0m     assume(\u001b[38;5;241m0\u001b[39m \u001b[38;5;241m<\u001b[39m\u001b[38;5;241m=\u001b[39m a \u001b[38;5;241m<\u001b[39m \u001b[38;5;241m4_000_000\u001b[39m \u001b[38;5;129;01mand\u001b[39;00m \u001b[38;5;241m0\u001b[39m \u001b[38;5;241m<\u001b[39m\u001b[38;5;241m=\u001b[39m b \u001b[38;5;241m<\u001b[39m \u001b[38;5;241m4_000_000\u001b[39m)\n\u001b[1;32m      4\u001b[0m     \u001b[38;5;28;01massert\u001b[39;00m gcd(a, b) \u001b[38;5;241m==\u001b[39m gcd_euclidean(a, b)\n",
      "    \u001b[0;31m[... skipping hidden 1 frame]\u001b[0m\n",
      "Cell \u001b[0;32mIn[51], line 4\u001b[0m, in \u001b[0;36mtest_gcd_euclidean_against_reference\u001b[0;34m(a, b)\u001b[0m\n\u001b[1;32m      1\u001b[0m \u001b[38;5;129m@given\u001b[39m(strategies\u001b[38;5;241m.\u001b[39mintegers(), strategies\u001b[38;5;241m.\u001b[39mintegers())\n\u001b[1;32m      2\u001b[0m \u001b[38;5;28;01mdef\u001b[39;00m \u001b[38;5;21mtest_gcd_euclidean_against_reference\u001b[39m(a, b):\n\u001b[1;32m      3\u001b[0m     assume(\u001b[38;5;241m0\u001b[39m \u001b[38;5;241m<\u001b[39m\u001b[38;5;241m=\u001b[39m a \u001b[38;5;241m<\u001b[39m \u001b[38;5;241m4_000_000\u001b[39m \u001b[38;5;129;01mand\u001b[39;00m \u001b[38;5;241m0\u001b[39m \u001b[38;5;241m<\u001b[39m\u001b[38;5;241m=\u001b[39m b \u001b[38;5;241m<\u001b[39m \u001b[38;5;241m4_000_000\u001b[39m)\n\u001b[0;32m----> 4\u001b[0m     \u001b[38;5;28;01massert\u001b[39;00m gcd(a, b) \u001b[38;5;241m==\u001b[39m gcd_euclidean(a, b)\n",
      "\u001b[0;31mAssertionError\u001b[0m: ",
      "\u001b[0mFalsifying example: test_gcd_euclidean_against_reference(\n    a=0,\n    b=1,\n)"
     ]
    }
   ],
   "source": [
    "@given(strategies.integers(), strategies.integers())\n",
    "def test_gcd_euclidean_against_reference(a, b):\n",
    "    assume(0 <= a < 4_000_000 and 0 <= b < 4_000_000)\n",
    "    assert gcd(a, b) == gcd_euclidean(a, b)\n",
    "    \n",
    "test_gcd_euclidean_against_reference()"
   ]
  },
  {
   "cell_type": "markdown",
   "id": "8e6030ef-146f-487b-a156-24868b4e2c8a",
   "metadata": {
    "editable": true,
    "slideshow": {
     "slide_type": "subslide"
    },
    "tags": []
   },
   "source": [
    "### If we have a way to construct known correct results, we can use that"
   ]
  },
  {
   "cell_type": "markdown",
   "id": "1dda7620-dd7b-4c83-895b-4b058f016eea",
   "metadata": {
    "editable": true,
    "slideshow": {
     "slide_type": "slide"
    },
    "tags": []
   },
   "source": [
    "We can use the fact that for two numbers the $\\gcd$ is the product of the intersection of their \n",
    "prime factors (or 1, if they have no matching factors)."
   ]
  },
  {
   "cell_type": "markdown",
   "id": "3abc6e0a-cb3a-4f94-a566-1384ca399e68",
   "metadata": {
    "collapsed": false,
    "editable": true,
    "jupyter": {
     "outputs_hidden": false
    },
    "slideshow": {
     "slide_type": "subslide"
    },
    "tags": []
   },
   "source": [
    "#### We make a way to generate lists of primes (with replacement)"
   ]
  },
  {
   "cell_type": "code",
   "execution_count": 52,
   "id": "686c8bb1138d9701",
   "metadata": {
    "ExecuteTime": {
     "start_time": "2023-09-22T18:43:28.191814Z"
    },
    "collapsed": false,
    "editable": true,
    "jupyter": {
     "outputs_hidden": false
    },
    "slideshow": {
     "slide_type": ""
    },
    "tags": []
   },
   "outputs": [
    {
     "data": {
      "text/plain": [
       "[3, 23]"
      ]
     },
     "execution_count": 52,
     "metadata": {},
     "output_type": "execute_result"
    }
   ],
   "source": [
    "from functools import reduce\n",
    "from sympy import primerange\n",
    "\n",
    "list_of_primes_strategy = strategies.lists(\n",
    "    strategies.sampled_from(\n",
    "        list(primerange(0, 30)) \n",
    "    ), \n",
    "    min_size=0, \n",
    "    max_size=30,\n",
    "    unique=False\n",
    ")\n",
    " \n",
    "list_of_primes_strategy.example()  # show an example"
   ]
  },
  {
   "cell_type": "markdown",
   "id": "51f9a44dc0d8ff4f",
   "metadata": {
    "collapsed": false,
    "editable": true,
    "jupyter": {
     "outputs_hidden": false
    },
    "slideshow": {
     "slide_type": "subslide"
    },
    "tags": []
   },
   "source": [
    "#### We need to find the product of a list of integers"
   ]
  },
  {
   "cell_type": "code",
   "execution_count": 53,
   "id": "4de1dc7cd40c5a15",
   "metadata": {
    "ExecuteTime": {
     "start_time": "2023-09-22T18:43:28.192631Z"
    },
    "collapsed": false,
    "editable": true,
    "jupyter": {
     "outputs_hidden": false
    },
    "slideshow": {
     "slide_type": ""
    },
    "tags": []
   },
   "outputs": [],
   "source": [
    "def product(x: list[int]):\n",
    "    if len(x) == 0:\n",
    "        result = 0\n",
    "    else:\n",
    "        result = reduce(lambda x, y: x * y, x, 1)\n",
    "    return result\n",
    "\n",
    "# Plausibility checks:\n",
    "assert product([]) == 0\n",
    "assert product([1]) == 1\n",
    "assert product([1, 2]) == 2\n",
    "assert product([3]) == 3\n",
    "assert product([3]) == 3  # check that we get the same result with the same data\n",
    "assert product([3, 3, 3]) == 27\n",
    "assert product([3, 3, 3, 2]) == 54"
   ]
  },
  {
   "cell_type": "markdown",
   "id": "7171fcd73f6faeb4",
   "metadata": {
    "collapsed": false,
    "editable": true,
    "jupyter": {
     "outputs_hidden": false
    },
    "slideshow": {
     "slide_type": "subslide"
    },
    "tags": []
   },
   "source": [
    "Here is the product of an example list of primes:"
   ]
  },
  {
   "cell_type": "code",
   "execution_count": 55,
   "id": "23a382d8135ff04e",
   "metadata": {
    "ExecuteTime": {
     "start_time": "2023-09-22T18:43:28.193499Z"
    },
    "collapsed": false,
    "editable": true,
    "jupyter": {
     "outputs_hidden": false
    },
    "slideshow": {
     "slide_type": ""
    },
    "tags": []
   },
   "outputs": [
    {
     "name": "stdout",
     "output_type": "stream",
     "text": [
      "the_primes=[11, 5, 11, 17, 7, 23, 29, 3, 7, 17, 17, 3, 17, 5, 11, 13, 17, 3, 3, 19, 5, 29, 19, 19, 17], product(the_primes)=27491009166704690478246375\n"
     ]
    }
   ],
   "source": [
    "the_primes = list_of_primes_strategy.example()\n",
    "print(f\"{the_primes=}, {product(the_primes)=}\") "
   ]
  },
  {
   "cell_type": "markdown",
   "id": "ec78368b58258534",
   "metadata": {
    "collapsed": false,
    "editable": true,
    "jupyter": {
     "outputs_hidden": false
    },
    "slideshow": {
     "slide_type": "subslide"
    },
    "tags": []
   },
   "source": [
    "#### We also need to get the common elements from two lists"
   ]
  },
  {
   "cell_type": "code",
   "execution_count": 56,
   "id": "86d87c28d74d4b6e",
   "metadata": {
    "ExecuteTime": {
     "start_time": "2023-09-22T18:43:28.194521Z"
    },
    "collapsed": false,
    "editable": true,
    "jupyter": {
     "outputs_hidden": false
    },
    "slideshow": {
     "slide_type": ""
    },
    "tags": []
   },
   "outputs": [],
   "source": [
    "from collections import Counter\n",
    "\n",
    "def get_common_elements(ai: list[int], bi: list[int]) -> list[int]:\n",
    "    # From https://stackoverflow.com/a/37645155, thanks to \"miradulo\"\n",
    "    common_elements = list((Counter(ai) & Counter(bi)).elements())\n",
    "    return common_elements\n",
    "\n",
    "# And test it\n",
    "assert get_common_elements([], []) == []\n",
    "assert get_common_elements([1], []) == []\n",
    "assert get_common_elements([], [1]) == []\n",
    "assert get_common_elements([1], [1]) == [1]\n",
    "assert get_common_elements([1], [2]) == []\n",
    "assert get_common_elements([1, 1], [1]) == [1]\n",
    "assert get_common_elements([1, 1], [1, 1]) == [1, 1]\n",
    "assert get_common_elements([1, 2], [1, 2]) == [1, 2]\n",
    "assert get_common_elements([1, 2], [3]) == []\n",
    "    "
   ]
  },
  {
   "cell_type": "markdown",
   "id": "722ad29b82c0efef",
   "metadata": {
    "collapsed": false,
    "editable": true,
    "jupyter": {
     "outputs_hidden": false
    },
    "slideshow": {
     "slide_type": "subslide"
    },
    "tags": []
   },
   "source": [
    "#### Now we can construct as many middle-of-the-road examples as we like"
   ]
  },
  {
   "cell_type": "code",
   "execution_count": 58,
   "id": "dbdb7ada-51bf-45e3-8901-932b71e40f14",
   "metadata": {
    "ExecuteTime": {
     "start_time": "2023-09-22T18:43:28.195490Z"
    },
    "editable": true,
    "slideshow": {
     "slide_type": ""
    },
    "tags": []
   },
   "outputs": [
    {
     "name": "stdout",
     "output_type": "stream",
     "text": [
      "gcd(        1,         1) =         1 ==         1\n",
      "gcd(        2,         1) =         1 ==         1\n",
      "gcd(       99,        23) =         1 ==         1\n",
      "gcd(        2,         1) =         1 ==         1\n",
      "gcd(        1,         1) =         1 ==         1\n",
      "gcd(        2,         1) =         1 ==         1\n",
      "gcd(        2,         1) =         1 ==         1\n",
      "gcd(        1,         2) =         1 ==         1\n",
      "gcd(        2,         1) =         1 ==         1\n",
      "gcd(        2,         1) =         1 ==         1\n",
      "gcd(        2,         1) =         1 ==         1\n",
      "gcd(2,344,650,        49) =        49 ==        49\n",
      "gcd(       49,        49) =        49 ==        49\n",
      "gcd(    3,971,         7) =         1 ==         1\n",
      "gcd(        1,        76) =         1 ==         1\n",
      "gcd(        1,        58) =         1 ==         1\n",
      "gcd(        1,         1) =         1 ==         1\n",
      "gcd(        1,       266) =         1 ==         1\n",
      "gcd(        1,   124,355) =         1 ==         1\n",
      "gcd(        1,       323) =         1 ==         1\n",
      "gcd(        1,       782) =         1 ==         1\n",
      "gcd(   21,945,    21,945) =    21,945 ==    21,945\n",
      "gcd(   34,017,    17,017) =        17 ==        17\n",
      "gcd(    1,105,       874) =         1 ==         1\n",
      "gcd(    1,235,       874) =        19 ==        19\n",
      "gcd(   37,468,    13,294) =        34 ==        34\n",
      "gcd(       29,       798) =         1 ==         1\n",
      "gcd(  393,414,   451,605) =       357 ==       357\n",
      "gcd(   10,659,         1) =         1 ==         1\n",
      "gcd(        1,         5) =         1 ==         1\n",
      "gcd(        1,       750) =         1 ==         1\n",
      "gcd(        1,        25) =         1 ==         1\n",
      "gcd(       25,        25) =        25 ==        25\n",
      "gcd(  142,766,         3) =         1 ==         1\n",
      "gcd(       19,     7,514) =         1 ==         1\n",
      "gcd(       19,        19) =        19 ==        19\n",
      "gcd(    2,093,        69) =        23 ==        23\n",
      "gcd(        1,     2,975) =         1 ==         1\n",
      "gcd(    1,102,       323) =        19 ==        19\n",
      "gcd(   36,179,         1) =         1 ==         1\n",
      "gcd(        1,    12,155) =         1 ==         1\n",
      "gcd(        5,     7,293) =         1 ==         1\n",
      "gcd(  182,325,         1) =         1 ==         1\n",
      "gcd(  401,115,         1) =         1 ==         1\n",
      "gcd(       49,   210,375) =         1 ==         1\n",
      "gcd(        1,       609) =         1 ==         1\n",
      "gcd(      609,       609) =       609 ==       609\n",
      "gcd(  350,727,         1) =         1 ==         1\n",
      "gcd(  458,643,         1) =         1 ==         1\n",
      "gcd(2,978,822,        13) =         1 ==         1\n",
      "gcd(       11,        11) =        11 ==        11\n",
      "gcd(       11,     2,871) =        11 ==        11\n",
      "gcd(  915,849,         1) =         1 ==         1\n",
      "gcd(   94,743,         1) =         1 ==         1\n",
      "gcd(   94,743,         1) =         1 ==         1\n",
      "gcd(   94,743,         1) =         1 ==         1\n",
      "gcd(    5,083,    50,255) =        23 ==        23\n",
      "gcd(        6,     5,746) =         2 ==         2\n",
      "gcd(        1,        26) =         1 ==         1\n",
      "gcd(       17,         5) =         1 ==         1\n",
      "gcd(        5,         5) =         5 ==         5\n",
      "gcd(        1,       391) =         1 ==         1\n",
      "gcd(        1,       825) =         1 ==         1\n",
      "gcd(        1,       825) =         1 ==         1\n",
      "gcd(        1,        13) =         1 ==         1\n",
      "gcd(        1,        51) =         1 ==         1\n",
      "gcd(  357,425,        17) =        17 ==        17\n",
      "gcd(       17,        17) =        17 ==        17\n",
      "gcd(        2,    90,321) =         1 ==         1\n",
      "gcd(        1,    42,891) =         1 ==         1\n",
      "gcd(   42,891,    42,891) =    42,891 ==    42,891\n",
      "gcd(    4,437,    42,891) =     1,479 ==     1,479\n",
      "gcd(    4,437,    42,891) =     1,479 ==     1,479\n",
      "gcd(   25,143,    42,891) =     1,479 ==     1,479\n",
      "gcd(  414,613,    42,891) =    14,297 ==    14,297\n",
      "gcd(       87,        29) =        29 ==        29\n",
      "gcd(   33,810,         1) =         1 ==         1\n",
      "gcd(   64,220,        39) =        13 ==        13\n",
      "gcd(        1,    73,117) =         1 ==         1\n",
      "gcd(       13,        13) =        13 ==        13\n",
      "gcd(      494,         1) =         1 ==         1\n",
      "gcd(      874, 2,851,310) =        46 ==        46\n",
      "gcd(      161,         7) =         7 ==         7\n",
      "gcd(       23,       665) =         1 ==         1\n",
      "gcd(       23,        23) =        23 ==        23\n",
      "gcd(       23,         1) =         1 ==         1\n",
      "gcd(        2,        23) =         1 ==         1\n",
      "gcd(        2,   260,797) =         1 ==         1\n",
      "gcd(        2,   192,763) =         1 ==         1\n",
      "gcd(        1,        11) =         1 ==         1\n",
      "gcd(        1,   164,749) =         1 ==         1\n",
      "gcd(        1,       551) =         1 ==         1\n",
      "gcd(        1,        19) =         1 ==         1\n",
      "gcd(       19,         1) =         1 ==         1\n",
      "gcd(        3,         3) =         3 ==         3\n",
      "gcd(        1,         6) =         1 ==         1\n",
      "gcd(        1,         9) =         1 ==         1\n",
      "gcd(2,272,875,         1) =         1 ==         1\n",
      "gcd(        5,       374) =         1 ==         1\n",
      "gcd(        5,         5) =         5 ==         5\n"
     ]
    }
   ],
   "source": [
    "@given(list_of_primes_strategy, list_of_primes_strategy)\n",
    "def test_gcd_constructed_known_cases(a_prime_factors, b_prime_factors):\n",
    "    # Include 1 in the list of factors to simplify the logic if the list of prime factors is empty\n",
    "    a_factors = [1] + a_prime_factors\n",
    "    b_factors = [1] + b_prime_factors\n",
    "    a, b = product(a_factors), product(b_factors)  \n",
    "    \n",
    "    # Skip the testcase if the numbers are negative or too large\n",
    "    assume(0 <= a < 4_000_000 and 0 <= b < 4_000_000)\n",
    "    \n",
    "    # Get the gcd by construction\n",
    "    common_factors = get_common_elements(a_factors, b_factors)\n",
    "    known_gcd = product(common_factors)\n",
    "    \n",
    "    # Calculate the result using the function\n",
    "    calculated_gcd = gcd(a, b) \n",
    "    assert calculated_gcd == known_gcd\n",
    "    \n",
    "    # Report for debugging purposes\n",
    "    print(f\"gcd({a:9,}, {b:9,}) = {known_gcd:9,} == {calculated_gcd:9,}\")\n",
    "\n",
    "test_gcd_constructed_known_cases()"
   ]
  },
  {
   "cell_type": "markdown",
   "id": "d9c1b023-c442-43e3-a3e8-00d652b88d45",
   "metadata": {
    "editable": true,
    "slideshow": {
     "slide_type": "slide"
    },
    "tags": []
   },
   "source": [
    "## Once we can see the code, we can do **white-box** tests to ensure every line and every option is exercised, complementing our black-box tests\n",
    "\n",
    "\n",
    "**Beware!** White-box tests check each line of code does what we intended it to do, but not that the software as a whole meets its specifications.\n",
    "\n",
    "Only with a combination of black- and white-box testing can we be confident in software."
   ]
  },
  {
   "cell_type": "markdown",
   "id": "87abb5e3-cad2-4ceb-b5d4-ccbe788670e2",
   "metadata": {
    "editable": true,
    "slideshow": {
     "slide_type": "notes"
    },
    "tags": []
   },
   "source": [
    "- All the tests up until now could, in principle, be written before the implementation of the code.\n",
    "- Once the code is written, we can look at the code itself, reason about what it is doing, and be more confident that it can *only* do what we intend. This is called \"white-box testing\".|\n",
    "\n",
    "An equivalent definition is to ensure that every logical path through each part of the code is tested at least once.\n",
    "\n",
    "\"Basis path testing\" (also called \"structured basis testing\", \"structured testing\", \"structural testing\") seeks a minimal set of test cases which achieve 100% coverage. \n",
    "\n",
    "> This is subtly different to testing *every possible path* through the *whole code* – we don't aim to run every possible scenario, because that can be prohibitively time consuming and expensive, even if automated."
   ]
  },
  {
   "cell_type": "markdown",
   "id": "f13a46ea-e73f-407d-a78f-4cb825cc0920",
   "metadata": {
    "editable": true,
    "slideshow": {
     "slide_type": "subslide"
    },
    "tags": []
   },
   "source": [
    "### With coverage testing, we ensure that all the code written is actually tested\n",
    "\n",
    "Our black-box tests should cover every path through our code. If they don't:\n",
    "- Our black-box tests might be insufficient to test all the **intended use-cases** boundaries, special cases and bugfixes we implemented,\n",
    "- We might be doing calculations which are **unintended use-cases** and should be separate functions,\n",
    "- We might have **redundant code** which make comprehension more difficult and should be deleted. "
   ]
  },
  {
   "cell_type": "markdown",
   "id": "be11ae62-dcd1-4cfe-bfdd-34bde6bdf774",
   "metadata": {
    "editable": true,
    "slideshow": {
     "slide_type": "subslide"
    },
    "tags": []
   },
   "source": [
    "#### 100% branch coverage $\\gt$ 100% statement coverage\n",
    "\n",
    "You should aim for \"100% branch coverage\":\n",
    "- ensuring that **every statement is tested** (100% statement coverage), _and_\n",
    "- that every **predicate term** is tested for at least **one true** and **one false** value.\n",
    "\n",
    "(\"100% statement coverage\" alone is **insufficient** as it will often miss key logical faults in code.)"
   ]
  },
  {
   "cell_type": "markdown",
   "id": "a074b0f8-0531-468f-b23d-e5aec70c62ce",
   "metadata": {
    "editable": true,
    "slideshow": {
     "slide_type": "subslide"
    },
    "tags": []
   },
   "source": [
    "#### Let's work out what tests we need to exercise all the `gcd` source code."
   ]
  },
  {
   "cell_type": "code",
   "execution_count": 59,
   "id": "268dc1f5-a2ec-42f7-9e32-692021dffc92",
   "metadata": {
    "editable": true,
    "slideshow": {
     "slide_type": ""
    },
    "tags": []
   },
   "outputs": [
    {
     "name": "stdout",
     "output_type": "stream",
     "text": [
      "def gcd(x: int, y: int) -> int:\n",
      "    \"\"\"Algorithm to calculate the greatest common divisor of two integers\"\"\"\n",
      "\n",
      "    if type(x) is not int or type(y) is not int:\n",
      "        raise TypeError(\"x and y must be integers\")\n",
      "    if x < 0 or y < 0:\n",
      "        raise ValueError(\"x and y must be ≥ 0\")\n",
      "\n",
      "    low, high = min(x, y), max(x, y)\n",
      "\n",
      "    _gcd = 0\n",
      "\n",
      "    div = low\n",
      "    while div > 0:\n",
      "        if (low % div == 0) and (high % div == 0):\n",
      "            if _gcd < div:\n",
      "                _gcd = div\n",
      "        div -= 1\n",
      "\n",
      "    return _gcd\n",
      "\n"
     ]
    }
   ],
   "source": [
    "import inspect \n",
    "print(inspect.getsource(gcd))"
   ]
  },
  {
   "cell_type": "markdown",
   "id": "c63d64ac-c438-4f10-aa5a-25b827af8985",
   "metadata": {
    "editable": true,
    "slideshow": {
     "slide_type": "subslide"
    },
    "tags": []
   },
   "source": [
    "#### Every statement gets a test which exercises all of its modes of execution"
   ]
  },
  {
   "cell_type": "code",
   "execution_count": null,
   "id": "f34e1535-3d04-4035-b472-d57b824b0280",
   "metadata": {
    "editable": true,
    "slideshow": {
     "slide_type": ""
    },
    "tags": []
   },
   "outputs": [],
   "source": [
    "def gcd_(x: int, y: int) -> int:                     #  1: nominal case, x > y, e.g. gcd(18, 24)\n",
    "    if type(x) is not int or type(y) is not int:     #  2: x is a non-integer\n",
    "                                                     #  3: y is a non-integer\n",
    "        raise TypeError(\"x and y must be integers\")  #     -> expect TypeError\n",
    "    if x < 0 or y < 0:                               #  4: x is a negative integer\n",
    "                                                     #  5: y is a negative integer, x is positive\n",
    "        raise ValueError(\"x and y must be ≥ 0\")      #     -> expect ValueError\n",
    "    low, high = min(x, y), max(x, y)                 #  _: x > y – covered by the nominal case\n",
    "                                                     #  6: x < y – e.g. gcd(24, 18)\n",
    "                                                     #  7: x = y - e.g. gcd(18, 18)\n",
    "    _gcd = 0                                         #  _: covered by the nominal case\n",
    "    div = low                                        #  _: covered by the nominal case\n",
    "    while div > 0:                                   #  _: where div starts > zero, covered by the nominal case\n",
    "                                                     #  8: where div starts at zero, e.g. gcd(0, 0)\n",
    "        if (low % div == 0) and (high % div == 0):   #  9: low % div == 0, high % div == 0 – low is gcd, e.g. gcd(12, 4)\n",
    "                                                     # 10: low % div == 0, high % div =! 0 – happens if low is not gcd,\n",
    "                                                     #     covered by nominal case\n",
    "                                                     # 11: low % div =! 0, high % div == 0 – can't happen in 1st iter,\n",
    "                                                     #     in 2nd low = 2, high is even, e.g. gcd(3, 8)\n",
    "                                                     # 12: low % div =! 0, high % div =! 0 – can't happen in 1st iter,\n",
    "                                                     #     in 2nd low = 2, high is prime != 2, e.g. gcd(3, 7)\n",
    "            if _gcd < div:                           #  _: _gcd < div – covered by the nominal case\n",
    "                                                     #     gcd(18, 24) when div reaches 6\n",
    "                                                     #  _: _gcd > div – covered by the nominal case gcd(18, 24)\n",
    "                                                     #     when div reaches 3 (and _gcd is 6)\n",
    "                _gcd = div                           #  _: covered by the nominal case\n",
    "        div -= 1                                     #  _: covered by the nominal case\n",
    "    return _gcd                                      #  _: covered by the nominal case"
   ]
  },
  {
   "cell_type": "markdown",
   "id": "b37e0dec-8d93-4cdf-86a5-5061c63cdf2f",
   "metadata": {
    "editable": true,
    "slideshow": {
     "slide_type": "notes"
    },
    "tags": []
   },
   "source": [
    "The tests required here are:\n",
    "\n",
    "- The nominal case – a middle-of-the-road example with `a` > `b`, like `gcd(18, 24)`\n",
    "- `if` statement about types:\n",
    "  - `a` is a non-integer, expect `TypeError`\n",
    "  - `b` is a non-integer, expect `TypeError`\n",
    "- `if` statement about $\\gt 0$:\n",
    "  - `a` is a negative integer, expect `ValueError`\n",
    "  - `b` is a negative integer, expect `ValueError`\n",
    "- `low, high`:\n",
    "  - `a` > `b` – covered by the nominal case\n",
    "  - `b` > `a`\n",
    "  - `a` = `b`\n",
    "- `while` statement:\n",
    "  - A case where `div` starts at zero, say `a` = 0 and `b` > 0\n",
    "- `if` statement with remainders:\n",
    "  - `low % div == 0` – covered by the nominal case, always true in the first step as `div` > 0 if we get here\n",
    "  - `low % div != 0` – a case like `gcd(3, 7)` where in the second step of the code, `div` = 2\n",
    "  - `high % div == 0` – a case where the lower number is the $\\gcd$, like `gcd(12, 4)`\n",
    "  - `high % div != 0` – covered by the nominal case, where the lower number is not the $\\gcd$, like `gcd(12, 5)`\n",
    "- `if` statement with `_gcd < div`:\n",
    "  - `_gcd < div`: covered by the nominal case `gcd(18, 24)` when `div` reaches 6\n",
    "  - `_gcd > div`: covered by the nominal case `gcd(18, 24)` when `div` reaches 3 (and `_gcd` is 6)"
   ]
  },
  {
   "cell_type": "markdown",
   "id": "f93c111e-4a8c-4d97-9f8d-79401482cb81",
   "metadata": {
    "editable": true,
    "slideshow": {
     "slide_type": "subslide"
    },
    "tags": []
   },
   "source": [
    "#### A minimum test set would cover all of these cases"
   ]
  },
  {
   "cell_type": "code",
   "execution_count": 60,
   "id": "e79a0430-2cfe-426a-8b95-b5f1220f4794",
   "metadata": {
    "editable": true,
    "slideshow": {
     "slide_type": ""
    },
    "tags": []
   },
   "outputs": [
    {
     "name": "stdout",
     "output_type": "stream",
     "text": [
      "def test_gcd_basis(gcd_fn=gcd):\n",
      "    assert gcd_fn(24, 18) == 6\n",
      "\n",
      "    with pytest.raises(TypeError):\n",
      "        gcd_fn(float(24), 18)\n",
      "    with pytest.raises(TypeError):\n",
      "        gcd_fn(24, float(18))\n",
      "\n",
      "    with pytest.raises(ValueError):\n",
      "        gcd_fn(-24, 18)\n",
      "    with pytest.raises(ValueError):\n",
      "        gcd_fn(24, -18)\n",
      "\n",
      "    assert gcd_fn(18, 24) == 6\n",
      "    assert gcd_fn(33, 33) == 33\n",
      "    assert gcd_fn(0, 5) == 0\n",
      "    assert gcd_fn(3, 7) == 1\n",
      "    assert gcd_fn(3, 8) == 1\n",
      "    assert gcd_fn(12, 4) == 4\n",
      "    assert gcd_fn(12, 5) == 1\n",
      "\n"
     ]
    }
   ],
   "source": [
    "from example.gcd.test_reference import test_gcd_basis\n",
    "print(inspect.getsource(test_gcd_basis))"
   ]
  },
  {
   "cell_type": "markdown",
   "id": "d65dd13d-09f9-46a2-9b07-93dbd0526e11",
   "metadata": {
    "editable": true,
    "slideshow": {
     "slide_type": "subslide"
    },
    "tags": []
   },
   "source": [
    "#### Manual coverage checks are time consuming and need repeating – use tooling like `coverage` to help\n",
    "\n",
    "Manual basis testing as a technique for planning test cases:\n",
    "- is extremely time consuming,\n",
    "- needs to be re-done every time the code changes as they are linked to the specific implementation.\n",
    "\n",
    "Recommendation: \n",
    "- Use something like [`coverage`](https://coverage.readthedocs.io/) with \"branch coverage\" to ensure that every line of code was run when going through your black-box tests.\n",
    "- Use specific white-box tests only when necessary to test particular behaviors you can't easily create in black-box tests.\n",
    "\n"
   ]
  },
  {
   "cell_type": "code",
   "execution_count": 63,
   "id": "38342332-a096-441c-b2ec-e9f5b2f437d9",
   "metadata": {
    "editable": true,
    "slideshow": {
     "slide_type": ""
    },
    "tags": []
   },
   "outputs": [
    {
     "name": "stdout",
     "output_type": "stream",
     "text": [
      "\u001b[1m============================= test session starts ==============================\u001b[0m\n",
      "platform darwin -- Python 3.10.12, pytest-7.4.2, pluggy-1.3.0\n",
      "rootdir: /Users/jholla10/Developer/testingDSCoV\n",
      "plugins: anyio-4.0.0, hypothesis-6.86.2\n",
      "collected 4 items                                                              \u001b[0m\n",
      "\n",
      "../src/example/gcd/test_euclid.py \u001b[32m.\u001b[0m\u001b[31mF\u001b[0m\u001b[31m                                     [ 50%]\u001b[0m\n",
      "../src/example/gcd/test_optimize.py \u001b[32m.\u001b[0m\u001b[31m                                    [ 75%]\u001b[0m\n",
      "../src/example/gcd/test_reference.py \u001b[32m.\u001b[0m\u001b[31m                                   [100%]\u001b[0m\n",
      "\n",
      "=================================== FAILURES ===================================\n",
      "\u001b[31m\u001b[1m_______________________________ test_gcd_euclid ________________________________\u001b[0m\n",
      "\n",
      "    \u001b[94mdef\u001b[39;49;00m \u001b[92mtest_gcd_euclid\u001b[39;49;00m():\u001b[90m\u001b[39;49;00m\n",
      ">       test_gcd_basis(gcd_euclidean)\u001b[90m\u001b[39;49;00m\n",
      "\n",
      "\u001b[1m\u001b[31m../src/example/gcd/test_euclid.py\u001b[0m:6: \n",
      "_ _ _ _ _ _ _ _ _ _ _ _ _ _ _ _ _ _ _ _ _ _ _ _ _ _ _ _ _ _ _ _ _ _ _ _ _ _ _ _ \n",
      "\n",
      "gcd_fn = <function gcd_euclidean at 0x104742a70>\n",
      "\n",
      "    \u001b[94mdef\u001b[39;49;00m \u001b[92mtest_gcd_basis\u001b[39;49;00m(gcd_fn=gcd):\u001b[90m\u001b[39;49;00m\n",
      "        \u001b[94massert\u001b[39;49;00m gcd_fn(\u001b[94m24\u001b[39;49;00m, \u001b[94m18\u001b[39;49;00m) == \u001b[94m6\u001b[39;49;00m\u001b[90m\u001b[39;49;00m\n",
      "    \u001b[90m\u001b[39;49;00m\n",
      ">       \u001b[94mwith\u001b[39;49;00m pytest.raises(\u001b[96mTypeError\u001b[39;49;00m):\u001b[90m\u001b[39;49;00m\n",
      "\u001b[1m\u001b[31mE       Failed: DID NOT RAISE <class 'TypeError'>\u001b[0m\n",
      "\n",
      "\u001b[1m\u001b[31m../src/example/gcd/test_reference.py\u001b[0m:8: Failed\n",
      "\u001b[36m\u001b[1m=========================== short test summary info ============================\u001b[0m\n",
      "\u001b[31mFAILED\u001b[0m ../src/example/gcd/test_euclid.py::\u001b[1mtest_gcd_euclid\u001b[0m - Failed: DID NOT RAISE <class 'TypeError'>\n",
      "\u001b[31m========================= \u001b[31m\u001b[1m1 failed\u001b[0m, \u001b[32m3 passed\u001b[0m\u001b[31m in 0.28s\u001b[0m\u001b[31m ==========================\u001b[0m\n",
      "Wrote HTML report to \u001b]8;;file:///Users/jholla10/Developer/testingDSCoV/notebooks/htmlcov/index.html\u0007htmlcov/index.html\u001b]8;;\u0007\n"
     ]
    }
   ],
   "source": [
    "!coverage run --branch -m pytest ../\n",
    "!coverage html\n",
    "!browser htmlcov/index.html"
   ]
  },
  {
   "cell_type": "code",
   "execution_count": null,
   "id": "a696607d-5fc7-49df-a6bb-55710dee2a2b",
   "metadata": {},
   "outputs": [],
   "source": []
  }
 ],
 "metadata": {
  "kernelspec": {
   "display_name": "Python 3 (ipykernel)",
   "language": "python",
   "name": "python3"
  },
  "language_info": {
   "codemirror_mode": {
    "name": "ipython",
    "version": 3
   },
   "file_extension": ".py",
   "mimetype": "text/x-python",
   "name": "python",
   "nbconvert_exporter": "python",
   "pygments_lexer": "ipython3",
   "version": "3.10.12"
  }
 },
 "nbformat": 4,
 "nbformat_minor": 5
}
