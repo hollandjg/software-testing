{
 "cells": [
  {
   "cell_type": "markdown",
   "id": "1b46b26b0db6fff1",
   "metadata": {
    "collapsed": false,
    "editable": true,
    "jupyter": {
     "outputs_hidden": false
    },
    "slideshow": {
     "slide_type": "slide"
    },
    "tags": []
   },
   "source": [
    "# Building a comprehensive test suite for a simple function (with examples in python)"
   ]
  },
  {
   "cell_type": "markdown",
   "id": "00fdbe75-6b0f-4ef2-b29f-4a62bdef0902",
   "metadata": {
    "collapsed": false,
    "editable": true,
    "jp-MarkdownHeadingCollapsed": true,
    "jupyter": {
     "outputs_hidden": false
    },
    "slideshow": {
     "slide_type": "slide"
    },
    "tags": []
   },
   "source": [
    "## Aim: build a comprehensive test suite for a \"greatest common divisor\" function, `gcd`"
   ]
  },
  {
   "cell_type": "markdown",
   "id": "3dd40333-fbb2-4279-ae31-64558f35fe0e",
   "metadata": {
    "collapsed": false,
    "editable": true,
    "jp-MarkdownHeadingCollapsed": true,
    "jupyter": {
     "outputs_hidden": false
    },
    "slideshow": {
     "slide_type": "slide"
    },
    "tags": []
   },
   "source": [
    "> Definition: the **greatest common divisor** (GCD) of two or more integers, which are not all zero, is the largest positive integer that divides each of the integers. \n",
    "> For two integers $x$, $y$, the greatest common divisor of $x$ and $y$ is denoted\n",
    "$\\displaystyle \\gcd(x, y)$.\n",
    ">\n",
    "> For example, $\\displaystyle \\gcd(8, 12) = 4$.\n",
    ">\n",
    "> ... $\\displaystyle \\gcd(0, 0)$ is commonly defined as $0$ [*and this is our definition today*].\n",
    ">\n",
    "> _Source: Wikipedia, https://en.wikipedia.org/wiki/Greatest_common_divisor, retrieved on September 21 2023_"
   ]
  },
  {
   "cell_type": "code",
   "execution_count": 1,
   "id": "initial_id",
   "metadata": {
    "ExecuteTime": {
     "end_time": "2023-09-21T18:36:52.636224Z",
     "start_time": "2023-09-21T18:36:52.632971Z"
    },
    "editable": true,
    "slideshow": {
     "slide_type": ""
    },
    "tags": []
   },
   "outputs": [],
   "source": [
    "# import our gcd function from our example module\n",
    "from gcd import gcd\n",
    "\n",
    "# Import some other useful utilities\n",
    "import pytest\n",
    "import copy"
   ]
  },
  {
   "cell_type": "markdown",
   "id": "1d833044-91fe-48ab-bf7e-8858c7a00624",
   "metadata": {
    "editable": true,
    "slideshow": {
     "slide_type": "slide"
    },
    "tags": []
   },
   "source": [
    "## Essential tooling: `assert` lets us throw an error if a check is false\n",
    "\n",
    "We can use assert statements in python to write tests.\n",
    "\n",
    "The assert statement in python raises an `Error` if the result of a calculation is \"Falsy\":"
   ]
  },
  {
   "cell_type": "code",
   "execution_count": 2,
   "id": "ed5b2ef1-3e19-49a4-9d2d-1253dcf711e2",
   "metadata": {
    "editable": true,
    "slideshow": {
     "slide_type": ""
    },
    "tags": []
   },
   "outputs": [],
   "source": [
    "assert True  # no Error"
   ]
  },
  {
   "cell_type": "code",
   "execution_count": 3,
   "id": "c5e10806-a0fd-4404-874d-255c6e33cef4",
   "metadata": {
    "editable": true,
    "slideshow": {
     "slide_type": ""
    },
    "tags": [
     "raises-exception"
    ]
   },
   "outputs": [
    {
     "ename": "AssertionError",
     "evalue": "",
     "output_type": "error",
     "traceback": [
      "\u001b[0;31m---------------------------------------------------------------------------\u001b[0m",
      "\u001b[0;31mAssertionError\u001b[0m                            Traceback (most recent call last)",
      "Cell \u001b[0;32mIn[3], line 1\u001b[0m\n\u001b[0;32m----> 1\u001b[0m \u001b[38;5;28;01massert\u001b[39;00m \u001b[38;5;28;01mFalse\u001b[39;00m  \u001b[38;5;66;03m# raises an Exception\u001b[39;00m\n",
      "\u001b[0;31mAssertionError\u001b[0m: "
     ]
    }
   ],
   "source": [
    "assert False  # raises an Exception"
   ]
  },
  {
   "cell_type": "code",
   "execution_count": 4,
   "id": "091fe334-c207-4a30-a457-b719c882ad9c",
   "metadata": {
    "editable": true,
    "slideshow": {
     "slide_type": ""
    },
    "tags": []
   },
   "outputs": [],
   "source": [
    "assert 1 == 1  # no Error"
   ]
  },
  {
   "cell_type": "code",
   "execution_count": 5,
   "id": "3c45898d-8b63-4e78-a57d-0a8b48849434",
   "metadata": {
    "editable": true,
    "slideshow": {
     "slide_type": ""
    },
    "tags": []
   },
   "outputs": [],
   "source": [
    "assert 1 > 0  # no Error"
   ]
  },
  {
   "cell_type": "code",
   "execution_count": 6,
   "id": "632fbcbd-dde1-40a6-82ba-dd5e796977ee",
   "metadata": {
    "editable": true,
    "slideshow": {
     "slide_type": ""
    },
    "tags": [
     "raises-exception"
    ]
   },
   "outputs": [
    {
     "ename": "AssertionError",
     "evalue": "",
     "output_type": "error",
     "traceback": [
      "\u001b[0;31m---------------------------------------------------------------------------\u001b[0m",
      "\u001b[0;31mAssertionError\u001b[0m                            Traceback (most recent call last)",
      "Cell \u001b[0;32mIn[6], line 1\u001b[0m\n\u001b[0;32m----> 1\u001b[0m \u001b[38;5;28;01massert\u001b[39;00m \u001b[38;5;241m0\u001b[39m \u001b[38;5;241m>\u001b[39m \u001b[38;5;241m1\u001b[39m  \u001b[38;5;66;03m# False, so raises an exception\u001b[39;00m\n",
      "\u001b[0;31mAssertionError\u001b[0m: "
     ]
    }
   ],
   "source": [
    "assert 0 > 1  # False, so raises an exception"
   ]
  },
  {
   "cell_type": "code",
   "execution_count": 7,
   "id": "3453c3ce-2c48-4d3b-b8c1-9ff55fd2a486",
   "metadata": {
    "editable": true,
    "slideshow": {
     "slide_type": ""
    },
    "tags": []
   },
   "outputs": [],
   "source": [
    "assert \"a\"  # a string is truthy..."
   ]
  },
  {
   "cell_type": "code",
   "execution_count": 8,
   "id": "02cb39f9-c254-4557-a3e8-0ba66311f018",
   "metadata": {
    "editable": true,
    "slideshow": {
     "slide_type": ""
    },
    "tags": [
     "raises-exception"
    ]
   },
   "outputs": [
    {
     "ename": "AssertionError",
     "evalue": "",
     "output_type": "error",
     "traceback": [
      "\u001b[0;31m---------------------------------------------------------------------------\u001b[0m",
      "\u001b[0;31mAssertionError\u001b[0m                            Traceback (most recent call last)",
      "Cell \u001b[0;32mIn[8], line 1\u001b[0m\n\u001b[0;32m----> 1\u001b[0m \u001b[38;5;28;01massert\u001b[39;00m \u001b[38;5;124m\"\u001b[39m\u001b[38;5;124m\"\u001b[39m  \u001b[38;5;66;03m# but an empty string is falsy\u001b[39;00m\n",
      "\u001b[0;31mAssertionError\u001b[0m: "
     ]
    }
   ],
   "source": [
    "assert \"\"  # but an empty string is falsy"
   ]
  },
  {
   "cell_type": "markdown",
   "id": "97904569-c2c5-48ea-94a0-36aa43fbac0f",
   "metadata": {
    "editable": true,
    "slideshow": {
     "slide_type": ""
    },
    "tags": []
   },
   "source": [
    "> Beware: `assert` is meant for debugging, and can be turned off by running `python` with the `-O` flag.\n",
    "> Use `raise` statements and conditions if your code relies on the check being run."
   ]
  },
  {
   "cell_type": "markdown",
   "id": "4bde404c-405f-4031-b047-a59c2ffe9484",
   "metadata": {
    "editable": true,
    "jp-MarkdownHeadingCollapsed": true,
    "slideshow": {
     "slide_type": "slide"
    },
    "tags": []
   },
   "source": [
    "## We want to check for correct functionality with **good data**"
   ]
  },
  {
   "cell_type": "markdown",
   "id": "2833460b-7366-4fc1-83ca-4c6d0b1abe9e",
   "metadata": {
    "editable": true,
    "jp-MarkdownHeadingCollapsed": true,
    "slideshow": {
     "slide_type": "subslide"
    },
    "tags": []
   },
   "source": [
    "### Type test\n",
    "\n",
    "Does it produce sensible results, like the correct datatype?"
   ]
  },
  {
   "cell_type": "code",
   "execution_count": 9,
   "id": "8e835e6463b32609",
   "metadata": {
    "ExecuteTime": {
     "end_time": "2023-09-21T18:40:46.701341Z",
     "start_time": "2023-09-21T18:40:46.680843Z"
    },
    "collapsed": false,
    "editable": true,
    "jupyter": {
     "outputs_hidden": false
    },
    "slideshow": {
     "slide_type": ""
    },
    "tags": []
   },
   "outputs": [],
   "source": [
    "assert type(gcd(8, 12)) is int  "
   ]
  },
  {
   "cell_type": "markdown",
   "id": "4d469618-5f75-4ba8-a799-c1b1ec321826",
   "metadata": {
    "ExecuteTime": {
     "end_time": "2023-09-21T18:36:52.661161Z",
     "start_time": "2023-09-21T18:36:52.641903Z"
    },
    "collapsed": false,
    "editable": true,
    "jupyter": {
     "outputs_hidden": false
    },
    "slideshow": {
     "slide_type": ""
    },
    "tags": []
   },
   "source": [
    "... or the correct sign (+ rather than -)?"
   ]
  },
  {
   "cell_type": "code",
   "execution_count": 10,
   "id": "a21a8df8-c653-4c02-8dca-e2238ccf0dd5",
   "metadata": {
    "editable": true,
    "slideshow": {
     "slide_type": ""
    },
    "tags": []
   },
   "outputs": [],
   "source": [
    "assert gcd(8, 12) > 0"
   ]
  },
  {
   "cell_type": "markdown",
   "id": "39de497a-1054-40a7-8627-e7f224fecb0e",
   "metadata": {
    "editable": true,
    "jp-MarkdownHeadingCollapsed": true,
    "slideshow": {
     "slide_type": "subslide"
    },
    "tags": []
   },
   "source": [
    "### Nominal cases\n",
    "\n",
    "Check for correct result in all \"normal\" cases."
   ]
  },
  {
   "cell_type": "code",
   "execution_count": 11,
   "id": "3f55d098-f936-4789-8829-7ef04a5e3c9a",
   "metadata": {
    "editable": true,
    "slideshow": {
     "slide_type": ""
    },
    "tags": []
   },
   "outputs": [],
   "source": [
    "assert gcd(7, 21) == 7\n",
    "assert gcd(20, 10) == 10\n",
    "assert gcd(54, 24) == 6"
   ]
  },
  {
   "cell_type": "markdown",
   "id": "1bcf79d9-eaef-4bc2-9aed-c32eb6478ad0",
   "metadata": {
    "editable": true,
    "slideshow": {
     "slide_type": "subslide"
    },
    "tags": []
   },
   "source": [
    "### Boundary cases\n",
    "\n",
    "Check for correctness at the boundaries of the domain, or boundaries within parameters.\n",
    "Checking the boundary means the value on the boundary, just above, and (if valid) just below.\n",
    "\n",
    "The `gcd` function operates on integers and has a boundary at zero:"
   ]
  },
  {
   "cell_type": "code",
   "execution_count": 12,
   "id": "93e08b6b-190a-419f-8441-2b91bda0af9d",
   "metadata": {
    "editable": true,
    "slideshow": {
     "slide_type": ""
    },
    "tags": []
   },
   "outputs": [],
   "source": [
    "assert gcd(1, 17) == 1  # should be 1\n",
    "assert gcd(0, 17) == 0  # should be 0"
   ]
  },
  {
   "cell_type": "markdown",
   "id": "9d556af0-23ce-4dba-80bd-cc52bfece2e2",
   "metadata": {
    "editable": true,
    "slideshow": {
     "slide_type": ""
    },
    "tags": []
   },
   "source": [
    "> Python doesn't have a bound on the size of integers, and we'll look at common errors with large values later."
   ]
  },
  {
   "cell_type": "markdown",
   "id": "d3f22464-b980-47d9-bad3-24c3ff080cb7",
   "metadata": {
    "editable": true,
    "jp-MarkdownHeadingCollapsed": true,
    "slideshow": {
     "slide_type": "subslide"
    },
    "tags": []
   },
   "source": [
    "### Special cases\n",
    "\n",
    "Check behavior at special values (if any exist):"
   ]
  },
  {
   "cell_type": "code",
   "execution_count": 13,
   "id": "589d2f86-dd2a-4b98-a0c7-9736c89491d3",
   "metadata": {
    "editable": true,
    "slideshow": {
     "slide_type": ""
    },
    "tags": []
   },
   "outputs": [],
   "source": [
    "assert gcd(0, 0) == 0"
   ]
  },
  {
   "cell_type": "markdown",
   "id": "1712919a-f1f3-44f2-ab7e-a258006ac49a",
   "metadata": {
    "editable": true,
    "jp-MarkdownHeadingCollapsed": true,
    "slideshow": {
     "slide_type": "subslide"
    },
    "tags": []
   },
   "source": [
    "### Symmetries\n",
    "\n",
    "We also know that $\\displaystyle \\gcd(x, y) = \\displaystyle \\gcd(y, x)$ so we should test those too:"
   ]
  },
  {
   "cell_type": "code",
   "execution_count": 14,
   "id": "39ecdb86-cba3-4f7c-a770-99ef0cd57d67",
   "metadata": {
    "editable": true,
    "slideshow": {
     "slide_type": ""
    },
    "tags": []
   },
   "outputs": [],
   "source": [
    "# Nominal\n",
    "assert gcd(21, 7) == 7\n",
    "assert gcd(10, 20) == 10\n",
    "assert gcd(24, 54) == 6\n",
    "\n",
    "# Boundary\n",
    "assert gcd(17, 1) == 1  # should be 1\n",
    "assert gcd(17, 0) == 0  # should be 0"
   ]
  },
  {
   "cell_type": "markdown",
   "id": "1305366e-622e-4ea7-a338-c1ecdf0dc377",
   "metadata": {
    "editable": true,
    "jp-MarkdownHeadingCollapsed": true,
    "slideshow": {
     "slide_type": "subslide"
    },
    "tags": []
   },
   "source": [
    "## It is vital to test that our function also *fails* correctly for **bad data**\n",
    "\n"
   ]
  },
  {
   "cell_type": "markdown",
   "id": "fa763d72-bd76-4368-b7c3-a10a95231bd4",
   "metadata": {
    "editable": true,
    "jp-MarkdownHeadingCollapsed": true,
    "slideshow": {
     "slide_type": "subslide"
    },
    "tags": []
   },
   "source": [
    "### Incorrect type\n",
    "\n",
    "If we pass in the wrong kind of data, it should also fail:"
   ]
  },
  {
   "cell_type": "code",
   "execution_count": 15,
   "id": "e2804f37-45f8-4f31-9f7c-aea758cd1dfa",
   "metadata": {
    "editable": true,
    "slideshow": {
     "slide_type": ""
    },
    "tags": []
   },
   "outputs": [],
   "source": [
    "with pytest.raises(TypeError):\n",
    "    gcd(1.2, 2.4)"
   ]
  },
  {
   "cell_type": "markdown",
   "id": "db408524-7680-42be-bbc5-6f08333146ef",
   "metadata": {
    "editable": true,
    "jp-MarkdownHeadingCollapsed": true,
    "slideshow": {
     "slide_type": "subslide"
    },
    "tags": []
   },
   "source": [
    "### Too little data\n",
    "\n",
    "Analogously, if we pass in too little data:"
   ]
  },
  {
   "cell_type": "code",
   "execution_count": 16,
   "id": "00a77c29-6cc5-4122-a6dc-3578e6743ed5",
   "metadata": {
    "editable": true,
    "slideshow": {
     "slide_type": ""
    },
    "tags": []
   },
   "outputs": [],
   "source": [
    "with pytest.raises(TypeError):\n",
    "    gcd()"
   ]
  },
  {
   "cell_type": "code",
   "execution_count": 17,
   "id": "0a05abc1-5971-4b2d-9a1f-9a2ffa9ee51f",
   "metadata": {
    "editable": true,
    "slideshow": {
     "slide_type": ""
    },
    "tags": []
   },
   "outputs": [],
   "source": [
    "with pytest.raises(TypeError):\n",
    "    gcd(0)"
   ]
  },
  {
   "cell_type": "markdown",
   "id": "42153ae8-712b-4411-a1c4-78de200b8ed4",
   "metadata": {
    "editable": true,
    "slideshow": {
     "slide_type": "subslide"
    },
    "tags": []
   },
   "source": [
    "### Too much data\n",
    "\n",
    "If we pass in too much data:"
   ]
  },
  {
   "cell_type": "code",
   "execution_count": 18,
   "id": "6d6ac7ee-8768-4b3c-b76e-6efb0b3a9631",
   "metadata": {
    "editable": true,
    "slideshow": {
     "slide_type": ""
    },
    "tags": [
     "raises-exception"
    ]
   },
   "outputs": [
    {
     "ename": "TypeError",
     "evalue": "gcd() takes 2 positional arguments but 3 were given",
     "output_type": "error",
     "traceback": [
      "\u001b[0;31m---------------------------------------------------------------------------\u001b[0m",
      "\u001b[0;31mTypeError\u001b[0m                                 Traceback (most recent call last)",
      "Cell \u001b[0;32mIn[18], line 1\u001b[0m\n\u001b[0;32m----> 1\u001b[0m \u001b[43mgcd\u001b[49m\u001b[43m(\u001b[49m\u001b[38;5;241;43m1\u001b[39;49m\u001b[43m,\u001b[49m\u001b[43m \u001b[49m\u001b[38;5;241;43m2\u001b[39;49m\u001b[43m,\u001b[49m\u001b[43m \u001b[49m\u001b[38;5;241;43m3\u001b[39;49m\u001b[43m)\u001b[49m  \u001b[38;5;66;03m# throws a type error\u001b[39;00m\n",
      "\u001b[0;31mTypeError\u001b[0m: gcd() takes 2 positional arguments but 3 were given"
     ]
    }
   ],
   "source": [
    "gcd(1, 2, 3)  # throws a type error"
   ]
  },
  {
   "cell_type": "code",
   "execution_count": 34,
   "id": "d1ba0db2-ccec-440d-9713-856f974be477",
   "metadata": {
    "editable": true,
    "slideshow": {
     "slide_type": ""
    },
    "tags": []
   },
   "outputs": [],
   "source": [
    "with pytest.raises(TypeError):  # ... which we catch like this\n",
    "    gcd(1, 2, 3)"
   ]
  },
  {
   "cell_type": "markdown",
   "id": "2d64ad9d-409a-4073-802d-68269cf76714",
   "metadata": {
    "editable": true,
    "slideshow": {
     "slide_type": "slide"
    },
    "tags": []
   },
   "source": [
    "## Practically, you might be able to run tests which are disproportionately likely to show errors\n",
    "\n",
    "Some input values cause more errors than others. \n",
    "\n",
    "You might be able to guess which errors will crop up, and test more effectively by finding errors faster."
   ]
  },
  {
   "cell_type": "markdown",
   "id": "e82d46e4-cb68-48ee-b882-3672f9a0e2bf",
   "metadata": {
    "editable": true,
    "slideshow": {
     "slide_type": "subslide"
    },
    "tags": []
   },
   "source": [
    "### Zeros\n",
    "Zeros often cause problems."
   ]
  },
  {
   "cell_type": "code",
   "execution_count": 22,
   "id": "cfb5e2d0-c3aa-486f-ab19-90608e2cfb8f",
   "metadata": {
    "editable": true,
    "slideshow": {
     "slide_type": ""
    },
    "tags": []
   },
   "outputs": [],
   "source": [
    "assert gcd(0, 100) == 0"
   ]
  },
  {
   "cell_type": "markdown",
   "id": "f1813e74-0615-4c45-8d9c-eb3ef1bf61d9",
   "metadata": {
    "editable": true,
    "slideshow": {
     "slide_type": "subslide"
    },
    "tags": []
   },
   "source": [
    "### Values at the limit of a type's definition may cause issues\n",
    "\n",
    "The \"natural\" maximum size of an integer might be $2^{63} - 1$ on a 64-bit system, so we'll check that.\n",
    "\n",
    "> As of python 3, the only size limit for an integer is the size of memory [[1]](https://docs.python.org/3/library/sys.html#sys.maxsize). "
   ]
  },
  {
   "cell_type": "code",
   "execution_count": 35,
   "id": "062cc868-94e8-4cb9-984e-dc35460964ef",
   "metadata": {
    "editable": true,
    "slideshow": {
     "slide_type": ""
    },
    "tags": []
   },
   "outputs": [],
   "source": [
    "a = 2**63-1  # prime factors: 7, 73, 127, 337, 92737, 649657, https://www.wikidata.org/wiki/Q10571632\n",
    "b = 649657 * 7 * 6  # the gcd is 649657 * 7 by construction\n",
    "assert gcd(a, b) == 649657 * 7"
   ]
  },
  {
   "cell_type": "markdown",
   "id": "b96dc743-0002-4bfe-a9f0-bfeee24f9fdd",
   "metadata": {
    "editable": true,
    "slideshow": {
     "slide_type": "subslide"
    },
    "tags": []
   },
   "source": [
    "### Mutable datatypes can cause very strange errors\n",
    "\n",
    "In python, it's easy to introduce a fault which causes function to change its output each time you run it, even with the same inputs – check that a function returns the same output for the same input:"
   ]
  },
  {
   "cell_type": "code",
   "execution_count": 24,
   "id": "6930cb7e-fb76-45d2-a025-5cce15d100d1",
   "metadata": {
    "editable": true,
    "slideshow": {
     "slide_type": ""
    },
    "tags": []
   },
   "outputs": [
    {
     "data": {
      "text/plain": [
       "[1]"
      ]
     },
     "execution_count": 24,
     "metadata": {},
     "output_type": "execute_result"
    }
   ],
   "source": [
    "# Example of a function which displays this behavior\n",
    "def append(value, the_list=[]):\n",
    "    \"\"\"\n",
    "    Appends a value to a list, and if the list isn't given, return the value on a new list\n",
    "    \"\"\"\n",
    "    the_list.append(value)\n",
    "    return the_list\n",
    "\n",
    "# Works fine if we give it a list to extend:\n",
    "append(1, [])  # should return [1]"
   ]
  },
  {
   "cell_type": "code",
   "execution_count": 25,
   "id": "3f5b31ca-a4d5-4716-a7ef-09e8759bf46f",
   "metadata": {
    "editable": true,
    "slideshow": {
     "slide_type": ""
    },
    "tags": []
   },
   "outputs": [],
   "source": [
    "assert append(1, []) == [1]"
   ]
  },
  {
   "cell_type": "markdown",
   "id": "b7d9a11f-82f7-47ec-8cdd-7ad7a14bc8e9",
   "metadata": {
    "editable": true,
    "slideshow": {
     "slide_type": ""
    },
    "tags": []
   },
   "source": [
    "If we don't give it a list to extend, it breaks:"
   ]
  },
  {
   "cell_type": "code",
   "execution_count": 26,
   "id": "85b908a1-004f-4951-a90b-f774b408cfa7",
   "metadata": {
    "editable": true,
    "slideshow": {
     "slide_type": ""
    },
    "tags": [
     "raises-exception"
    ]
   },
   "outputs": [],
   "source": [
    "assert append(1) == [1]"
   ]
  },
  {
   "cell_type": "code",
   "execution_count": 27,
   "id": "94fa3fa8-74b0-4154-8bb8-3be7a98b6deb",
   "metadata": {
    "editable": true,
    "slideshow": {
     "slide_type": ""
    },
    "tags": [
     "raises-exception"
    ]
   },
   "outputs": [
    {
     "ename": "AssertionError",
     "evalue": "",
     "output_type": "error",
     "traceback": [
      "\u001b[0;31m---------------------------------------------------------------------------\u001b[0m",
      "\u001b[0;31mAssertionError\u001b[0m                            Traceback (most recent call last)",
      "Cell \u001b[0;32mIn[27], line 1\u001b[0m\n\u001b[0;32m----> 1\u001b[0m \u001b[38;5;28;01massert\u001b[39;00m append(\u001b[38;5;241m2\u001b[39m) \u001b[38;5;241m==\u001b[39m [\u001b[38;5;241m2\u001b[39m]   \u001b[38;5;66;03m# should return [2]!!!\u001b[39;00m\n",
      "\u001b[0;31mAssertionError\u001b[0m: "
     ]
    }
   ],
   "source": [
    "assert append(2) == [2]   # should return [2]!!!"
   ]
  },
  {
   "cell_type": "markdown",
   "id": "72ae13c1-da24-4120-9321-38de26bd221d",
   "metadata": {
    "editable": true,
    "slideshow": {
     "slide_type": "subslide"
    },
    "tags": []
   },
   "source": [
    "What's going on? Let's try to debug this function:"
   ]
  },
  {
   "cell_type": "code",
   "execution_count": 28,
   "id": "454bfa50-b1fe-4920-8412-42ec6b605efd",
   "metadata": {
    "editable": true,
    "slideshow": {
     "slide_type": ""
    },
    "tags": []
   },
   "outputs": [
    {
     "data": {
      "text/plain": [
       "[1, 2, 2]"
      ]
     },
     "execution_count": 28,
     "metadata": {},
     "output_type": "execute_result"
    }
   ],
   "source": [
    "append(2)"
   ]
  },
  {
   "cell_type": "markdown",
   "id": "51a38a2a-72ab-447a-b5bb-5f9a89435031",
   "metadata": {
    "editable": true,
    "slideshow": {
     "slide_type": ""
    },
    "tags": []
   },
   "source": [
    "The default value of `the_list` is getting extended each time we run the function."
   ]
  },
  {
   "cell_type": "markdown",
   "id": "bdd856a4-197f-405a-95c7-db91ac30eeb7",
   "metadata": {
    "editable": true,
    "slideshow": {
     "slide_type": "subslide"
    },
    "tags": []
   },
   "source": [
    "You might think that you can check this by running a test like this:"
   ]
  },
  {
   "cell_type": "code",
   "execution_count": 29,
   "id": "671768c1-3aa7-4678-973c-f10a9fa24c88",
   "metadata": {
    "editable": true,
    "slideshow": {
     "slide_type": ""
    },
    "tags": []
   },
   "outputs": [],
   "source": [
    "assert append(3) == append(3)  # passes unexpectedly!"
   ]
  },
  {
   "cell_type": "markdown",
   "id": "51f73dbe-2073-450a-a098-7943db74bcf4",
   "metadata": {
    "editable": true,
    "slideshow": {
     "slide_type": ""
    },
    "tags": []
   },
   "source": [
    "... but the error is so insidious that this test fails! Both functions are appending to the same list! \n",
    "You actually need to store a copy of the value from the first run and compare it later:"
   ]
  },
  {
   "cell_type": "code",
   "execution_count": 30,
   "id": "4b07bd79-35e9-4168-b300-b94429e43722",
   "metadata": {
    "editable": true,
    "slideshow": {
     "slide_type": ""
    },
    "tags": [
     "raises-exception"
    ]
   },
   "outputs": [
    {
     "ename": "AssertionError",
     "evalue": "[1, 2, 2, 3, 3, 4] != [1, 2, 2, 3, 3, 4, 4]",
     "output_type": "error",
     "traceback": [
      "\u001b[0;31m---------------------------------------------------------------------------\u001b[0m",
      "\u001b[0;31mAssertionError\u001b[0m                            Traceback (most recent call last)",
      "Cell \u001b[0;32mIn[30], line 4\u001b[0m\n\u001b[1;32m      1\u001b[0m first_result \u001b[38;5;241m=\u001b[39m copy\u001b[38;5;241m.\u001b[39mdeepcopy(append(\u001b[38;5;241m4\u001b[39m))\n\u001b[1;32m      2\u001b[0m second_result \u001b[38;5;241m=\u001b[39m copy\u001b[38;5;241m.\u001b[39mdeepcopy(append(\u001b[38;5;241m4\u001b[39m))\n\u001b[0;32m----> 4\u001b[0m \u001b[38;5;28;01massert\u001b[39;00m first_result \u001b[38;5;241m==\u001b[39m second_result, \u001b[38;5;124m\"\u001b[39m\u001b[38;5;132;01m%s\u001b[39;00m\u001b[38;5;124m != \u001b[39m\u001b[38;5;132;01m%s\u001b[39;00m\u001b[38;5;124m\"\u001b[39m \u001b[38;5;241m%\u001b[39m (first_result, second_result)\n",
      "\u001b[0;31mAssertionError\u001b[0m: [1, 2, 2, 3, 3, 4] != [1, 2, 2, 3, 3, 4, 4]"
     ]
    }
   ],
   "source": [
    "first_result = copy.deepcopy(append(4))\n",
    "second_result = copy.deepcopy(append(4))\n",
    "\n",
    "assert first_result == second_result, \"%s != %s\" % (first_result, second_result)"
   ]
  },
  {
   "cell_type": "markdown",
   "id": "d489a036-8657-4947-b1ce-b355877dda14",
   "metadata": {
    "editable": true,
    "slideshow": {
     "slide_type": "subslide"
    },
    "tags": []
   },
   "source": [
    "To fix this, we replace the mutable list in the function with a `None`:"
   ]
  },
  {
   "cell_type": "code",
   "execution_count": 36,
   "id": "064c0d72-3d2c-4423-b5f7-284f7216b762",
   "metadata": {
    "editable": true,
    "slideshow": {
     "slide_type": ""
    },
    "tags": []
   },
   "outputs": [],
   "source": [
    "def append_fixed(value, the_list=None):\n",
    "    \"\"\"\n",
    "    Appends a value to a list, and if the list isn't given, return the value on a new list\n",
    "    \"\"\"\n",
    "    if the_list is None:\n",
    "        the_list = []\n",
    "    the_list.append(value)\n",
    "    return the_list\n",
    "\n",
    "first_result = copy.deepcopy(append_fixed(4))\n",
    "second_result = copy.deepcopy(append_fixed(4))\n",
    "\n",
    "assert first_result == second_result, \"%s != %s\" % (first_result, second_result)"
   ]
  },
  {
   "cell_type": "markdown",
   "id": "09c9c69c-5b15-4d7e-adf3-efee50d787a0",
   "metadata": {
    "editable": true,
    "slideshow": {
     "slide_type": "subslide"
    },
    "tags": []
   },
   "source": [
    "In the context of our `gcd` function, the test would be:"
   ]
  },
  {
   "cell_type": "code",
   "execution_count": 31,
   "id": "20054dc5-94f9-4ced-bcdb-d9a05278aba3",
   "metadata": {
    "editable": true,
    "slideshow": {
     "slide_type": ""
    },
    "tags": []
   },
   "outputs": [],
   "source": [
    "first_gcd = copy.deepcopy(gcd(32, 8))\n",
    "second_gcd = copy.deepcopy(gcd(32, 8))\n",
    "\n",
    "assert first_gcd == second_gcd, \"%s != %s\" % (first_gcd, second_gcd)"
   ]
  },
  {
   "cell_type": "markdown",
   "id": "44a806d9-0189-4786-b51e-cb7cb9775e6c",
   "metadata": {
    "editable": true,
    "slideshow": {
     "slide_type": "subslide"
    },
    "tags": []
   },
   "source": [
    "### A test for every bug – regression tests\n",
    "\n",
    "A rich source of errors is *faults which were already fixed*.\n",
    "\n",
    "These faults can re-emerge, and are then called \"regressions\". \n",
    "\n",
    "Solution: Every time you find a bug: \n",
    "\n",
    "- Make a test case which fails because of the bug.\n",
    "- Fix the bug (so the test case passes)\n",
    "- Leave the test case in your testing library."
   ]
  },
  {
   "cell_type": "markdown",
   "id": "ddcb23bc-002e-4f62-abce-a3974633769e",
   "metadata": {
    "editable": true,
    "slideshow": {
     "slide_type": "slide"
    },
    "tags": []
   },
   "source": [
    "## Organizing tests"
   ]
  },
  {
   "cell_type": "markdown",
   "id": "dc58e1866a869a25",
   "metadata": {
    "collapsed": false,
    "editable": true,
    "jp-MarkdownHeadingCollapsed": true,
    "jupyter": {
     "outputs_hidden": false
    },
    "slideshow": {
     "slide_type": "subslide"
    },
    "tags": []
   },
   "source": [
    "### Smoke test\n",
    "\n",
    "Check for basic plausibility. Does it run without failing?"
   ]
  },
  {
   "cell_type": "code",
   "execution_count": 20,
   "id": "26352090afac2554",
   "metadata": {
    "ExecuteTime": {
     "end_time": "2023-09-21T18:40:49.280605Z",
     "start_time": "2023-09-21T18:40:49.256892Z"
    },
    "collapsed": false,
    "editable": true,
    "jupyter": {
     "outputs_hidden": false
    },
    "slideshow": {
     "slide_type": ""
    },
    "tags": []
   },
   "outputs": [
    {
     "data": {
      "text/plain": [
       "4"
      ]
     },
     "execution_count": 20,
     "metadata": {},
     "output_type": "execute_result"
    }
   ],
   "source": [
    "gcd(8, 12)  # runs without failing"
   ]
  },
  {
   "cell_type": "markdown",
   "id": "7e7fded3-b161-4c1f-81e4-67e829d34d2f",
   "metadata": {
    "editable": true,
    "slideshow": {
     "slide_type": ""
    },
    "tags": []
   },
   "source": [
    "Does it produce the same result if a and b are swapped? (Only true for commutative operations)"
   ]
  },
  {
   "cell_type": "code",
   "execution_count": 21,
   "id": "0430ba24-2f38-4e5f-ab99-aba0d94f94aa",
   "metadata": {
    "editable": true,
    "slideshow": {
     "slide_type": ""
    },
    "tags": []
   },
   "outputs": [],
   "source": [
    "assert gcd(12, 8)"
   ]
  },
  {
   "cell_type": "markdown",
   "id": "af5eadc737b51358",
   "metadata": {
    "collapsed": false,
    "editable": true,
    "jupyter": {
     "outputs_hidden": false
    },
    "slideshow": {
     "slide_type": "slide"
    },
    "tags": []
   },
   "source": [
    "## The \"black-box\" approach varies the inputs to a function and checks its outputs\n",
    "\n",
    "<Image of a black box here>"
   ]
  },
  {
   "cell_type": "markdown",
   "id": "97e5f533-9de7-4487-888a-9e911ecbe622",
   "metadata": {
    "editable": true,
    "raw_mimetype": "",
    "slideshow": {
     "slide_type": "notes"
    },
    "tags": []
   },
   "source": [
    "The first approach we'll use is the \"black-box\" approach, which treats the function as a black box which we can't see inside. \n",
    "\n",
    "We'll look at inputs and check that they produce the correct outputs."
   ]
  },
  {
   "cell_type": "code",
   "execution_count": null,
   "id": "da2b4ac0-84a0-4957-b950-db879d4dc687",
   "metadata": {
    "editable": true,
    "slideshow": {
     "slide_type": ""
    },
    "tags": []
   },
   "outputs": [],
   "source": []
  }
 ],
 "metadata": {
  "kernelspec": {
   "display_name": "Python 3 (ipykernel)",
   "language": "python",
   "name": "python3"
  },
  "language_info": {
   "codemirror_mode": {
    "name": "ipython",
    "version": 3
   },
   "file_extension": ".py",
   "mimetype": "text/x-python",
   "name": "python",
   "nbconvert_exporter": "python",
   "pygments_lexer": "ipython3",
   "version": "3.10.12"
  }
 },
 "nbformat": 4,
 "nbformat_minor": 5
}
