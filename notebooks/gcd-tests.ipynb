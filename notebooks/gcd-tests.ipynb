{
 "cells": [
  {
   "cell_type": "markdown",
   "id": "1b46b26b0db6fff1",
   "metadata": {
    "collapsed": false,
    "editable": true,
    "jupyter": {
     "outputs_hidden": false
    },
    "slideshow": {
     "slide_type": "slide"
    },
    "tags": []
   },
   "source": [
    "# Building a comprehensive test suite for a simple function"
   ]
  },
  {
   "cell_type": "markdown",
   "id": "621dc6d403a2cbd8",
   "metadata": {
    "collapsed": false,
    "editable": true,
    "jupyter": {
     "outputs_hidden": false
    },
    "slideshow": {
     "slide_type": "slide"
    },
    "tags": []
   },
   "source": [
    "## Aim: build a test suite for a \"greatest common divisor function\", `gcd`\n",
    "\n",
    "> Definition: the greatest common divisor (GCD) of two or more integers, which are not all zero, is the largest positive integer that divides each of the integers. \n",
    "> For two integers $x$, $y$, the greatest common divisor of $x$ and $y$ is denoted\n",
    "$\\displaystyle \\gcd(x, y)$.\n",
    ">\n",
    "> For example, $\\displaystyle \\gcd(8, 12) = 4$.\n",
    ">\n",
    "> ... gcd(0, 0) is commonly defined as 0 [*and this is our definition today*].\n",
    ">\n",
    "> _Source: Wikipedia, https://en.wikipedia.org/wiki/Greatest_common_divisor, retrieved on September 21 2023_\n"
   ]
  },
  {
   "cell_type": "code",
   "execution_count": 1,
   "id": "initial_id",
   "metadata": {
    "ExecuteTime": {
     "end_time": "2023-09-21T18:36:52.636224Z",
     "start_time": "2023-09-21T18:36:52.632971Z"
    },
    "editable": true,
    "slideshow": {
     "slide_type": ""
    },
    "tags": []
   },
   "outputs": [],
   "source": [
    "from gcd import gcd"
   ]
  },
  {
   "cell_type": "markdown",
   "id": "af5eadc737b51358",
   "metadata": {
    "collapsed": false,
    "editable": true,
    "jupyter": {
     "outputs_hidden": false
    },
    "slideshow": {
     "slide_type": "slide"
    },
    "tags": []
   },
   "source": [
    "## The \"black-box\" approach varies the inputs to a function and checks its outputs\n",
    "\n",
    "<Image of a black box here>"
   ]
  },
  {
   "cell_type": "markdown",
   "id": "97e5f533-9de7-4487-888a-9e911ecbe622",
   "metadata": {
    "editable": true,
    "raw_mimetype": "",
    "slideshow": {
     "slide_type": "notes"
    },
    "tags": []
   },
   "source": [
    "The first approach we'll use is the \"black-box\" approach, which treats the function as a black box which we can't see inside. \n",
    "\n",
    "We'll look at inputs and check that they produce the correct outputs."
   ]
  },
  {
   "cell_type": "markdown",
   "id": "dc58e1866a869a25",
   "metadata": {
    "collapsed": false,
    "editable": true,
    "jupyter": {
     "outputs_hidden": false
    },
    "slideshow": {
     "slide_type": "subslide"
    },
    "tags": []
   },
   "source": [
    "## Smoke test\n",
    "\n",
    "Check for basic plausibility. Does it run without failing?"
   ]
  },
  {
   "cell_type": "code",
   "execution_count": 2,
   "id": "26352090afac2554",
   "metadata": {
    "ExecuteTime": {
     "end_time": "2023-09-21T18:40:49.280605Z",
     "start_time": "2023-09-21T18:40:49.256892Z"
    },
    "collapsed": false,
    "editable": true,
    "jupyter": {
     "outputs_hidden": false
    },
    "slideshow": {
     "slide_type": ""
    },
    "tags": []
   },
   "outputs": [
    {
     "data": {
      "text/plain": [
       "4"
      ]
     },
     "execution_count": 2,
     "metadata": {},
     "output_type": "execute_result"
    }
   ],
   "source": [
    "gcd(8, 12)  # runs without failing"
   ]
  },
  {
   "cell_type": "markdown",
   "id": "2833460b-7366-4fc1-83ca-4c6d0b1abe9e",
   "metadata": {
    "editable": true,
    "slideshow": {
     "slide_type": ""
    },
    "tags": []
   },
   "source": [
    "Does it produce sensible results, like the correct datatype?"
   ]
  },
  {
   "cell_type": "code",
   "execution_count": 3,
   "id": "8e835e6463b32609",
   "metadata": {
    "ExecuteTime": {
     "end_time": "2023-09-21T18:40:46.701341Z",
     "start_time": "2023-09-21T18:40:46.680843Z"
    },
    "collapsed": false,
    "editable": true,
    "jupyter": {
     "outputs_hidden": false
    },
    "slideshow": {
     "slide_type": ""
    },
    "tags": []
   },
   "outputs": [],
   "source": [
    "assert type(gcd(8, 12)) is int  "
   ]
  },
  {
   "cell_type": "markdown",
   "id": "4d469618-5f75-4ba8-a799-c1b1ec321826",
   "metadata": {
    "ExecuteTime": {
     "end_time": "2023-09-21T18:36:52.661161Z",
     "start_time": "2023-09-21T18:36:52.641903Z"
    },
    "collapsed": false,
    "editable": true,
    "jupyter": {
     "outputs_hidden": false
    },
    "slideshow": {
     "slide_type": ""
    },
    "tags": []
   },
   "source": [
    "... or the correct sign (+ rather than -)?"
   ]
  },
  {
   "cell_type": "code",
   "execution_count": 4,
   "id": "a21a8df8-c653-4c02-8dca-e2238ccf0dd5",
   "metadata": {
    "editable": true,
    "slideshow": {
     "slide_type": ""
    },
    "tags": []
   },
   "outputs": [],
   "source": [
    "assert gcd(8, 12) > 0"
   ]
  },
  {
   "cell_type": "markdown",
   "id": "7e7fded3-b161-4c1f-81e4-67e829d34d2f",
   "metadata": {
    "editable": true,
    "slideshow": {
     "slide_type": ""
    },
    "tags": []
   },
   "source": [
    "Does it produce the same result if a and b are swapped? (Only true for commutative operations)"
   ]
  },
  {
   "cell_type": "code",
   "execution_count": 5,
   "id": "0430ba24-2f38-4e5f-ab99-aba0d94f94aa",
   "metadata": {
    "editable": true,
    "slideshow": {
     "slide_type": ""
    },
    "tags": []
   },
   "outputs": [],
   "source": [
    "assert gcd(12, 8)"
   ]
  },
  {
   "cell_type": "markdown",
   "id": "1d833044-91fe-48ab-bf7e-8858c7a00624",
   "metadata": {
    "editable": true,
    "slideshow": {
     "slide_type": "subslide"
    },
    "tags": []
   },
   "source": [
    "## Essential tooling: `assert`\n",
    "\n",
    "We can use assert statements in python to write tests.\n",
    "\n",
    "The assert statement in python raises an Error if the result of a calculation is \"Falsy\":"
   ]
  },
  {
   "cell_type": "code",
   "execution_count": 6,
   "id": "ed5b2ef1-3e19-49a4-9d2d-1253dcf711e2",
   "metadata": {
    "editable": true,
    "slideshow": {
     "slide_type": ""
    },
    "tags": []
   },
   "outputs": [],
   "source": [
    "assert True  # no Error"
   ]
  },
  {
   "cell_type": "code",
   "execution_count": 7,
   "id": "c5e10806-a0fd-4404-874d-255c6e33cef4",
   "metadata": {
    "editable": true,
    "slideshow": {
     "slide_type": ""
    },
    "tags": [
     "raises-exception"
    ]
   },
   "outputs": [
    {
     "ename": "AssertionError",
     "evalue": "",
     "output_type": "error",
     "traceback": [
      "\u001b[0;31m---------------------------------------------------------------------------\u001b[0m",
      "\u001b[0;31mAssertionError\u001b[0m                            Traceback (most recent call last)",
      "Cell \u001b[0;32mIn[7], line 1\u001b[0m\n\u001b[0;32m----> 1\u001b[0m \u001b[38;5;28;01massert\u001b[39;00m \u001b[38;5;28;01mFalse\u001b[39;00m  \u001b[38;5;66;03m# raises an Exception\u001b[39;00m\n",
      "\u001b[0;31mAssertionError\u001b[0m: "
     ]
    }
   ],
   "source": [
    "assert False  # raises an Exception"
   ]
  },
  {
   "cell_type": "code",
   "execution_count": 8,
   "id": "091fe334-c207-4a30-a457-b719c882ad9c",
   "metadata": {
    "editable": true,
    "slideshow": {
     "slide_type": ""
    },
    "tags": []
   },
   "outputs": [],
   "source": [
    "assert 1 == 1  # no Error"
   ]
  },
  {
   "cell_type": "code",
   "execution_count": 9,
   "id": "3c45898d-8b63-4e78-a57d-0a8b48849434",
   "metadata": {
    "editable": true,
    "slideshow": {
     "slide_type": ""
    },
    "tags": []
   },
   "outputs": [],
   "source": [
    "assert 1 > 0  # no Error"
   ]
  },
  {
   "cell_type": "code",
   "execution_count": 10,
   "id": "632fbcbd-dde1-40a6-82ba-dd5e796977ee",
   "metadata": {
    "editable": true,
    "slideshow": {
     "slide_type": ""
    },
    "tags": [
     "raises-exception"
    ]
   },
   "outputs": [
    {
     "ename": "AssertionError",
     "evalue": "",
     "output_type": "error",
     "traceback": [
      "\u001b[0;31m---------------------------------------------------------------------------\u001b[0m",
      "\u001b[0;31mAssertionError\u001b[0m                            Traceback (most recent call last)",
      "Cell \u001b[0;32mIn[10], line 1\u001b[0m\n\u001b[0;32m----> 1\u001b[0m \u001b[38;5;28;01massert\u001b[39;00m \u001b[38;5;241m0\u001b[39m \u001b[38;5;241m>\u001b[39m \u001b[38;5;241m1\u001b[39m  \u001b[38;5;66;03m# False, so raises an exception\u001b[39;00m\n",
      "\u001b[0;31mAssertionError\u001b[0m: "
     ]
    }
   ],
   "source": [
    "assert 0 > 1  # False, so raises an exception"
   ]
  },
  {
   "cell_type": "code",
   "execution_count": 11,
   "id": "3453c3ce-2c48-4d3b-b8c1-9ff55fd2a486",
   "metadata": {
    "editable": true,
    "slideshow": {
     "slide_type": ""
    },
    "tags": []
   },
   "outputs": [],
   "source": [
    "assert \"a\"  # a string is truthy..."
   ]
  },
  {
   "cell_type": "code",
   "execution_count": 12,
   "id": "02cb39f9-c254-4557-a3e8-0ba66311f018",
   "metadata": {
    "editable": true,
    "slideshow": {
     "slide_type": ""
    },
    "tags": [
     "raises-exception"
    ]
   },
   "outputs": [
    {
     "ename": "AssertionError",
     "evalue": "",
     "output_type": "error",
     "traceback": [
      "\u001b[0;31m---------------------------------------------------------------------------\u001b[0m",
      "\u001b[0;31mAssertionError\u001b[0m                            Traceback (most recent call last)",
      "Cell \u001b[0;32mIn[12], line 1\u001b[0m\n\u001b[0;32m----> 1\u001b[0m \u001b[38;5;28;01massert\u001b[39;00m \u001b[38;5;124m\"\u001b[39m\u001b[38;5;124m\"\u001b[39m  \u001b[38;5;66;03m# but an empty string is falsy\u001b[39;00m\n",
      "\u001b[0;31mAssertionError\u001b[0m: "
     ]
    }
   ],
   "source": [
    "assert \"\"  # but an empty string is falsy"
   ]
  },
  {
   "cell_type": "markdown",
   "id": "39de497a-1054-40a7-8627-e7f224fecb0e",
   "metadata": {
    "editable": true,
    "slideshow": {
     "slide_type": "subslide"
    },
    "tags": []
   },
   "source": [
    "## Nominal case\n",
    "\n",
    "Check for correct result in some nominal cases."
   ]
  },
  {
   "cell_type": "code",
   "execution_count": 13,
   "id": "3f55d098-f936-4789-8829-7ef04a5e3c9a",
   "metadata": {
    "editable": true,
    "slideshow": {
     "slide_type": ""
    },
    "tags": []
   },
   "outputs": [],
   "source": [
    "assert gcd(7, 21) == 7"
   ]
  },
  {
   "cell_type": "code",
   "execution_count": 14,
   "id": "0478c793-3764-4270-b610-ebdf3ae7cc1d",
   "metadata": {
    "editable": true,
    "slideshow": {
     "slide_type": ""
    },
    "tags": []
   },
   "outputs": [],
   "source": [
    "assert gcd(20, 10) == 10"
   ]
  },
  {
   "cell_type": "code",
   "execution_count": 15,
   "id": "b28e8311-0697-41ea-80b8-5366982c7206",
   "metadata": {
    "editable": true,
    "slideshow": {
     "slide_type": ""
    },
    "tags": []
   },
   "outputs": [],
   "source": [
    "assert gcd(54, 24) == 6"
   ]
  },
  {
   "cell_type": "markdown",
   "id": "1bcf79d9-eaef-4bc2-9aed-c32eb6478ad0",
   "metadata": {
    "editable": true,
    "slideshow": {
     "slide_type": "subslide"
    },
    "tags": []
   },
   "source": [
    "## Boundary analysis\n",
    "\n",
    "Check for correctness at the boundaries of the domain, or boundaries within parameters."
   ]
  },
  {
   "cell_type": "code",
   "execution_count": 16,
   "id": "93e08b6b-190a-419f-8441-2b91bda0af9d",
   "metadata": {
    "editable": true,
    "slideshow": {
     "slide_type": ""
    },
    "tags": []
   },
   "outputs": [],
   "source": [
    "assert gcd(0, 17) == 0"
   ]
  },
  {
   "cell_type": "code",
   "execution_count": 17,
   "id": "9af96371-eb8f-43d4-a481-97a3d0a7a471",
   "metadata": {
    "editable": true,
    "slideshow": {
     "slide_type": ""
    },
    "tags": [
     "raises-exception"
    ]
   },
   "outputs": [
    {
     "ename": "AssertionError",
     "evalue": "",
     "output_type": "error",
     "traceback": [
      "\u001b[0;31m---------------------------------------------------------------------------\u001b[0m",
      "\u001b[0;31mAssertionError\u001b[0m                            Traceback (most recent call last)",
      "Cell \u001b[0;32mIn[17], line 1\u001b[0m\n\u001b[0;32m----> 1\u001b[0m \u001b[38;5;28;01massert\u001b[39;00m gcd(\u001b[38;5;241m1\u001b[39m, \u001b[38;5;241m1_000_000\u001b[39m) \u001b[38;5;241m==\u001b[39m \u001b[38;5;241m1\u001b[39m\n",
      "\u001b[0;31mAssertionError\u001b[0m: "
     ]
    }
   ],
   "source": [
    "assert gcd(1, 1_000_000) == 1"
   ]
  },
  {
   "cell_type": "markdown",
   "id": "6b8f0db0-d1e7-4072-90b3-9d53ef7b0277",
   "metadata": {
    "editable": true,
    "slideshow": {
     "slide_type": ""
    },
    "tags": []
   },
   "source": [
    "The `gcd` function operates on integers and has a boundary at zero"
   ]
  },
  {
   "cell_type": "markdown",
   "id": "d3f22464-b980-47d9-bad3-24c3ff080cb7",
   "metadata": {
    "editable": true,
    "slideshow": {
     "slide_type": ""
    },
    "tags": []
   },
   "source": [
    "## Known special cases\n",
    "\n",
    "Check special behavior at special values which might be explicitly defined."
   ]
  },
  {
   "cell_type": "code",
   "execution_count": 18,
   "id": "589d2f86-dd2a-4b98-a0c7-9736c89491d3",
   "metadata": {
    "editable": true,
    "slideshow": {
     "slide_type": ""
    },
    "tags": []
   },
   "outputs": [],
   "source": [
    "assert gcd(0, 0) == 0"
   ]
  },
  {
   "cell_type": "markdown",
   "id": "70e2bf5d-265b-42d2-a951-6e2cd993b267",
   "metadata": {
    "editable": true,
    "slideshow": {
     "slide_type": "subslide"
    },
    "tags": []
   },
   "source": [
    "## Error guessing\n",
    "\n",
    "Some input values cause more errors than others. \n",
    "\n",
    "You might be able to guess which errors will crop up."
   ]
  },
  {
   "cell_type": "markdown",
   "id": "e82d46e4-cb68-48ee-b882-3672f9a0e2bf",
   "metadata": {
    "editable": true,
    "slideshow": {
     "slide_type": "subslide"
    },
    "tags": []
   },
   "source": [
    "### Zeros\n",
    "Zeros often cause problems."
   ]
  },
  {
   "cell_type": "code",
   "execution_count": 19,
   "id": "cfb5e2d0-c3aa-486f-ab19-90608e2cfb8f",
   "metadata": {
    "editable": true,
    "slideshow": {
     "slide_type": ""
    },
    "tags": []
   },
   "outputs": [],
   "source": [
    "assert gcd(0, 100) == 0"
   ]
  },
  {
   "cell_type": "markdown",
   "id": "f1813e74-0615-4c45-8d9c-eb3ef1bf61d9",
   "metadata": {
    "editable": true,
    "slideshow": {
     "slide_type": "subslide"
    },
    "tags": []
   },
   "source": [
    "### Values at the limit of a type's definition may cause issues\n",
    "\n",
    "The \"natural\" maximum size of an integer might be $2^{63} - 1$ on a 64-bit system, so we'll check that.\n",
    "\n",
    "> As of python 3, the only size limit for an integer is the size of memory [[1]](https://docs.python.org/3/library/sys.html#sys.maxsize). "
   ]
  },
  {
   "cell_type": "code",
   "execution_count": 44,
   "id": "062cc868-94e8-4cb9-984e-dc35460964ef",
   "metadata": {
    "editable": true,
    "slideshow": {
     "slide_type": ""
    },
    "tags": []
   },
   "outputs": [],
   "source": [
    "a = 2**63-1  # prime factors: 7, 73, 127, 337, 92737, 649657, https://www.wikidata.org/wiki/Q10571632\n",
    "b = 649657 * 7 * 6  # the gcd is 649657 * 7 by construction\n",
    "assert gcd(a, b) == 649657 * 7"
   ]
  },
  {
   "cell_type": "markdown",
   "id": "b96dc743-0002-4bfe-a9f0-bfeee24f9fdd",
   "metadata": {
    "editable": true,
    "slideshow": {
     "slide_type": "subslide"
    },
    "tags": []
   },
   "source": [
    "### Mutable default values can cause very strange errors\n",
    "\n",
    "In python, it's easy to introduce a fault which causes function to change its output each time you run it, even with the same inputs – check that a function returns the same output for the same input:"
   ]
  },
  {
   "cell_type": "code",
   "execution_count": 45,
   "id": "6930cb7e-fb76-45d2-a025-5cce15d100d1",
   "metadata": {
    "editable": true,
    "slideshow": {
     "slide_type": ""
    },
    "tags": []
   },
   "outputs": [
    {
     "data": {
      "text/plain": [
       "[1]"
      ]
     },
     "execution_count": 45,
     "metadata": {},
     "output_type": "execute_result"
    }
   ],
   "source": [
    "# Example of a function which displays this behavior\n",
    "def append(value, the_list=[]):\n",
    "    \"\"\"\n",
    "    Appends a value to a list, and if the list isn't given, return the value on a new list\n",
    "    \"\"\"\n",
    "    the_list.append(value)\n",
    "    return the_list\n",
    "\n",
    "# Works fine if we give it a list to extend:\n",
    "append(1, [])  # should return [1]"
   ]
  },
  {
   "cell_type": "code",
   "execution_count": 46,
   "id": "3f5b31ca-a4d5-4716-a7ef-09e8759bf46f",
   "metadata": {
    "editable": true,
    "slideshow": {
     "slide_type": ""
    },
    "tags": []
   },
   "outputs": [],
   "source": [
    "assert append(1, []) == [1]"
   ]
  },
  {
   "cell_type": "markdown",
   "id": "b7d9a11f-82f7-47ec-8cdd-7ad7a14bc8e9",
   "metadata": {
    "editable": true,
    "slideshow": {
     "slide_type": ""
    },
    "tags": []
   },
   "source": [
    "If we don't give it a list to extend, it breaks:"
   ]
  },
  {
   "cell_type": "code",
   "execution_count": 47,
   "id": "85b908a1-004f-4951-a90b-f774b408cfa7",
   "metadata": {
    "editable": true,
    "slideshow": {
     "slide_type": ""
    },
    "tags": [
     "raises-exception"
    ]
   },
   "outputs": [],
   "source": [
    "assert append(1) == [1]"
   ]
  },
  {
   "cell_type": "code",
   "execution_count": 49,
   "id": "94fa3fa8-74b0-4154-8bb8-3be7a98b6deb",
   "metadata": {
    "editable": true,
    "slideshow": {
     "slide_type": ""
    },
    "tags": []
   },
   "outputs": [
    {
     "ename": "AssertionError",
     "evalue": "",
     "output_type": "error",
     "traceback": [
      "\u001b[0;31m---------------------------------------------------------------------------\u001b[0m",
      "\u001b[0;31mAssertionError\u001b[0m                            Traceback (most recent call last)",
      "Cell \u001b[0;32mIn[49], line 1\u001b[0m\n\u001b[0;32m----> 1\u001b[0m \u001b[38;5;28;01massert\u001b[39;00m append(\u001b[38;5;241m2\u001b[39m) \u001b[38;5;241m==\u001b[39m [\u001b[38;5;241m2\u001b[39m]   \u001b[38;5;66;03m# should return [2]!!!\u001b[39;00m\n",
      "\u001b[0;31mAssertionError\u001b[0m: "
     ]
    }
   ],
   "source": [
    "assert append(2) == [2]   # should return [2]!!!"
   ]
  },
  {
   "cell_type": "markdown",
   "id": "72ae13c1-da24-4120-9321-38de26bd221d",
   "metadata": {
    "editable": true,
    "slideshow": {
     "slide_type": ""
    },
    "tags": []
   },
   "source": [
    "What's going on? Let's try to debug this function:"
   ]
  },
  {
   "cell_type": "code",
   "execution_count": 51,
   "id": "454bfa50-b1fe-4920-8412-42ec6b605efd",
   "metadata": {
    "editable": true,
    "slideshow": {
     "slide_type": ""
    },
    "tags": []
   },
   "outputs": [
    {
     "data": {
      "text/plain": [
       "[1, 2, 2, 2]"
      ]
     },
     "execution_count": 51,
     "metadata": {},
     "output_type": "execute_result"
    }
   ],
   "source": [
    "append(2)"
   ]
  },
  {
   "cell_type": "markdown",
   "id": "51a38a2a-72ab-447a-b5bb-5f9a89435031",
   "metadata": {
    "editable": true,
    "slideshow": {
     "slide_type": ""
    },
    "tags": []
   },
   "source": [
    "The default value of `the_list` is getting extended each time we run the function."
   ]
  },
  {
   "cell_type": "markdown",
   "id": "bdd856a4-197f-405a-95c7-db91ac30eeb7",
   "metadata": {
    "editable": true,
    "slideshow": {
     "slide_type": ""
    },
    "tags": []
   },
   "source": [
    "You might think that you can check this by running a test like this:"
   ]
  },
  {
   "cell_type": "code",
   "execution_count": 52,
   "id": "671768c1-3aa7-4678-973c-f10a9fa24c88",
   "metadata": {
    "editable": true,
    "slideshow": {
     "slide_type": ""
    },
    "tags": []
   },
   "outputs": [],
   "source": [
    "assert append(3) == append(3)  # passes unexpectedly!"
   ]
  },
  {
   "cell_type": "markdown",
   "id": "51f73dbe-2073-450a-a098-7943db74bcf4",
   "metadata": {
    "editable": true,
    "slideshow": {
     "slide_type": ""
    },
    "tags": []
   },
   "source": [
    "... but the error is so insidious that this test fails! Both functions are appending to the same list! \n",
    "You actually need to store a copy of the value from the first run and compare it later:"
   ]
  },
  {
   "cell_type": "code",
   "execution_count": 53,
   "id": "4b07bd79-35e9-4168-b300-b94429e43722",
   "metadata": {
    "editable": true,
    "slideshow": {
     "slide_type": ""
    },
    "tags": [
     "raises-exception"
    ]
   },
   "outputs": [
    {
     "ename": "AssertionError",
     "evalue": "[1, 2, 2, 2, 3, 3, 4] != [1, 2, 2, 2, 3, 3, 4, 4]",
     "output_type": "error",
     "traceback": [
      "\u001b[0;31m---------------------------------------------------------------------------\u001b[0m",
      "\u001b[0;31mAssertionError\u001b[0m                            Traceback (most recent call last)",
      "Cell \u001b[0;32mIn[53], line 7\u001b[0m\n\u001b[1;32m      4\u001b[0m first_result \u001b[38;5;241m=\u001b[39m copy\u001b[38;5;241m.\u001b[39mdeepcopy(append(\u001b[38;5;241m4\u001b[39m))\n\u001b[1;32m      5\u001b[0m second_result \u001b[38;5;241m=\u001b[39m copy\u001b[38;5;241m.\u001b[39mdeepcopy(append(\u001b[38;5;241m4\u001b[39m))\n\u001b[0;32m----> 7\u001b[0m \u001b[38;5;28;01massert\u001b[39;00m first_result \u001b[38;5;241m==\u001b[39m second_result, \u001b[38;5;124m\"\u001b[39m\u001b[38;5;132;01m%s\u001b[39;00m\u001b[38;5;124m != \u001b[39m\u001b[38;5;132;01m%s\u001b[39;00m\u001b[38;5;124m\"\u001b[39m \u001b[38;5;241m%\u001b[39m (first_result, second_result)\n",
      "\u001b[0;31mAssertionError\u001b[0m: [1, 2, 2, 2, 3, 3, 4] != [1, 2, 2, 2, 3, 3, 4, 4]"
     ]
    }
   ],
   "source": [
    "import copy\n",
    "\n",
    "\n",
    "first_result = copy.deepcopy(append(4))\n",
    "second_result = copy.deepcopy(append(4))\n",
    "\n",
    "assert first_result == second_result, \"%s != %s\" % (first_result, second_result)"
   ]
  },
  {
   "cell_type": "markdown",
   "id": "09c9c69c-5b15-4d7e-adf3-efee50d787a0",
   "metadata": {
    "editable": true,
    "slideshow": {
     "slide_type": ""
    },
    "tags": []
   },
   "source": [
    "In the context of our `gcd` function, this means:"
   ]
  },
  {
   "cell_type": "code",
   "execution_count": 55,
   "id": "20054dc5-94f9-4ced-bcdb-d9a05278aba3",
   "metadata": {
    "editable": true,
    "slideshow": {
     "slide_type": ""
    },
    "tags": []
   },
   "outputs": [],
   "source": [
    "first_gcd = copy.deepcopy(gcd(32, 8))\n",
    "second_gcd = copy.deepcopy(gcd(32, 8))\n",
    "\n",
    "assert first_gcd == second_gcd, \"%s != %s\" % (first_gcd, second_gcd)"
   ]
  },
  {
   "cell_type": "code",
   "execution_count": null,
   "id": "00bdb11f-0adf-42c1-95de-e071ad734835",
   "metadata": {
    "editable": true,
    "slideshow": {
     "slide_type": ""
    },
    "tags": []
   },
   "outputs": [],
   "source": []
  },
  {
   "cell_type": "code",
   "execution_count": null,
   "id": "13e1d3e8-6142-464d-8bfe-a248d822a382",
   "metadata": {
    "editable": true,
    "slideshow": {
     "slide_type": ""
    },
    "tags": []
   },
   "outputs": [],
   "source": []
  },
  {
   "cell_type": "code",
   "execution_count": null,
   "id": "f7092069-5f9c-4df3-922c-5ec48340d9f5",
   "metadata": {
    "editable": true,
    "slideshow": {
     "slide_type": ""
    },
    "tags": []
   },
   "outputs": [],
   "source": []
  }
 ],
 "metadata": {
  "kernelspec": {
   "display_name": "Python 3 (ipykernel)",
   "language": "python",
   "name": "python3"
  },
  "language_info": {
   "codemirror_mode": {
    "name": "ipython",
    "version": 3
   },
   "file_extension": ".py",
   "mimetype": "text/x-python",
   "name": "python",
   "nbconvert_exporter": "python",
   "pygments_lexer": "ipython3",
   "version": "3.10.12"
  }
 },
 "nbformat": 4,
 "nbformat_minor": 5
}
