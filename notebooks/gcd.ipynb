{
 "cells": [
  {
   "cell_type": "markdown",
   "id": "1b46b26b0db6fff1",
   "metadata": {
    "collapsed": false,
    "editable": true,
    "slideshow": {
     "slide_type": "subslide"
    },
    "tags": []
   },
   "source": [
    "# Building a comprehensive test suite for a simple function (with examples in python)"
   ]
  },
  {
   "cell_type": "markdown",
   "id": "00fdbe75-6b0f-4ef2-b29f-4a62bdef0902",
   "metadata": {
    "collapsed": false,
    "editable": true,
    "jp-MarkdownHeadingCollapsed": true,
    "slideshow": {
     "slide_type": "slide"
    },
    "tags": []
   },
   "source": [
    "## Aim: build a comprehensive test suite for a \"greatest common divisor\" function, `gcd`"
   ]
  },
  {
   "cell_type": "markdown",
   "id": "3dd40333-fbb2-4279-ae31-64558f35fe0e",
   "metadata": {
    "collapsed": false,
    "editable": true,
    "jp-MarkdownHeadingCollapsed": true,
    "slideshow": {
     "slide_type": "slide"
    },
    "tags": []
   },
   "source": [
    "> Definition: the **greatest common divisor** (GCD) of two or more integers, which are not all zero, is the largest positive integer that divides each of the integers. \n",
    "> For two integers $x$, $y$, the greatest common divisor of $x$ and $y$ is denoted\n",
    "$\\displaystyle \\gcd(x, y)$.\n",
    ">\n",
    "> For example, $\\displaystyle \\gcd(8, 12) = 4$.\n",
    ">\n",
    "> ... $\\displaystyle \\gcd(0, 0)$ is commonly defined as $0$ [*and this is our definition today*].\n",
    ">\n",
    "> _Source: Wikipedia, https://en.wikipedia.org/wiki/Greatest_common_divisor, retrieved on September 21 2023_"
   ]
  },
  {
   "cell_type": "code",
   "execution_count": 55,
   "id": "initial_id",
   "metadata": {
    "editable": true,
    "slideshow": {
     "slide_type": ""
    },
    "tags": [],
    "ExecuteTime": {
     "end_time": "2023-09-22T18:37:09.698618Z",
     "start_time": "2023-09-22T18:37:09.471727Z"
    }
   },
   "outputs": [],
   "source": [
    "# import our gcd function from our example module\n",
    "from gcd import gcd as gcd\n",
    "\n",
    "# Import some other useful utilities\n",
    "import pytest\n",
    "import copy"
   ]
  },
  {
   "cell_type": "markdown",
   "id": "4bde404c-405f-4031-b047-a59c2ffe9484",
   "metadata": {
    "editable": true,
    "slideshow": {
     "slide_type": "slide"
    },
    "tags": []
   },
   "source": [
    "## We want to check for correct functionality with **good data**"
   ]
  },
  {
   "cell_type": "markdown",
   "id": "1d833044-91fe-48ab-bf7e-8858c7a00624",
   "metadata": {
    "editable": true,
    "jp-MarkdownHeadingCollapsed": true,
    "slideshow": {
     "slide_type": "subslide"
    },
    "tags": []
   },
   "source": [
    "### Essential tooling: `assert` lets us throw an error if a check is false\n",
    "\n",
    "We can use assert statements in python to write tests.\n",
    "\n",
    "The assert statement in python raises an `Error` if the result of a calculation is \"Falsy\":"
   ]
  },
  {
   "cell_type": "code",
   "execution_count": 56,
   "id": "ed5b2ef1-3e19-49a4-9d2d-1253dcf711e2",
   "metadata": {
    "editable": true,
    "slideshow": {
     "slide_type": ""
    },
    "tags": [],
    "ExecuteTime": {
     "end_time": "2023-09-22T18:37:09.746531Z",
     "start_time": "2023-09-22T18:37:09.481533Z"
    }
   },
   "outputs": [],
   "source": [
    "assert True  # no Error"
   ]
  },
  {
   "cell_type": "code",
   "execution_count": 57,
   "id": "c5e10806-a0fd-4404-874d-255c6e33cef4",
   "metadata": {
    "editable": true,
    "slideshow": {
     "slide_type": ""
    },
    "tags": [
     "raises-exception"
    ],
    "ExecuteTime": {
     "end_time": "2023-09-22T18:37:09.758487Z",
     "start_time": "2023-09-22T18:37:09.490713Z"
    }
   },
   "outputs": [
    {
     "ename": "AssertionError",
     "evalue": "",
     "output_type": "error",
     "traceback": [
      "\u001B[0;31m---------------------------------------------------------------------------\u001B[0m",
      "\u001B[0;31mAssertionError\u001B[0m                            Traceback (most recent call last)",
      "Cell \u001B[0;32mIn[57], line 1\u001B[0m\n\u001B[0;32m----> 1\u001B[0m \u001B[38;5;28;01massert\u001B[39;00m \u001B[38;5;28;01mFalse\u001B[39;00m  \u001B[38;5;66;03m# raises an Exception\u001B[39;00m\n",
      "\u001B[0;31mAssertionError\u001B[0m: "
     ]
    }
   ],
   "source": [
    "assert False  # raises an Exception"
   ]
  },
  {
   "cell_type": "code",
   "execution_count": null,
   "id": "091fe334-c207-4a30-a457-b719c882ad9c",
   "metadata": {
    "editable": true,
    "slideshow": {
     "slide_type": ""
    },
    "tags": [],
    "ExecuteTime": {
     "start_time": "2023-09-22T18:37:09.493397Z"
    }
   },
   "outputs": [],
   "source": [
    "assert 1 == 1  # no Error"
   ]
  },
  {
   "cell_type": "code",
   "execution_count": null,
   "id": "3c45898d-8b63-4e78-a57d-0a8b48849434",
   "metadata": {
    "editable": true,
    "slideshow": {
     "slide_type": ""
    },
    "tags": [],
    "ExecuteTime": {
     "start_time": "2023-09-22T18:37:09.494716Z"
    }
   },
   "outputs": [],
   "source": [
    "assert 1 > 0  # no Error"
   ]
  },
  {
   "cell_type": "code",
   "execution_count": null,
   "id": "632fbcbd-dde1-40a6-82ba-dd5e796977ee",
   "metadata": {
    "editable": true,
    "slideshow": {
     "slide_type": ""
    },
    "tags": [
     "raises-exception"
    ],
    "ExecuteTime": {
     "start_time": "2023-09-22T18:37:09.496001Z"
    }
   },
   "outputs": [],
   "source": [
    "assert 0 > 1  # False, so raises an exception"
   ]
  },
  {
   "cell_type": "code",
   "execution_count": null,
   "id": "3453c3ce-2c48-4d3b-b8c1-9ff55fd2a486",
   "metadata": {
    "editable": true,
    "slideshow": {
     "slide_type": ""
    },
    "tags": [],
    "ExecuteTime": {
     "start_time": "2023-09-22T18:37:09.497165Z"
    }
   },
   "outputs": [],
   "source": [
    "assert \"a\"  # a string is truthy..."
   ]
  },
  {
   "cell_type": "code",
   "execution_count": null,
   "id": "02cb39f9-c254-4557-a3e8-0ba66311f018",
   "metadata": {
    "editable": true,
    "slideshow": {
     "slide_type": ""
    },
    "tags": [
     "raises-exception"
    ],
    "ExecuteTime": {
     "start_time": "2023-09-22T18:37:09.498570Z"
    }
   },
   "outputs": [],
   "source": [
    "assert \"\"  # but an empty string is falsy"
   ]
  },
  {
   "cell_type": "markdown",
   "id": "97904569-c2c5-48ea-94a0-36aa43fbac0f",
   "metadata": {
    "editable": true,
    "jp-MarkdownHeadingCollapsed": true,
    "slideshow": {
     "slide_type": ""
    },
    "tags": []
   },
   "source": [
    "> Beware: `assert` is meant for debugging, and can be turned off by running `python` with the `-O` flag.\n",
    "> Use `raise` statements and conditions if your code relies on the check being run."
   ]
  },
  {
   "cell_type": "markdown",
   "id": "2833460b-7366-4fc1-83ca-4c6d0b1abe9e",
   "metadata": {
    "editable": true,
    "slideshow": {
     "slide_type": "subslide"
    },
    "tags": []
   },
   "source": [
    "### Type test\n",
    "\n",
    "Does it produce sensible results, like the correct datatype?"
   ]
  },
  {
   "cell_type": "code",
   "execution_count": null,
   "id": "8e835e6463b32609",
   "metadata": {
    "collapsed": false,
    "editable": true,
    "slideshow": {
     "slide_type": ""
    },
    "tags": [],
    "ExecuteTime": {
     "start_time": "2023-09-22T18:37:09.499516Z"
    }
   },
   "outputs": [],
   "source": [
    "assert type(gcd(8, 12)) is int  "
   ]
  },
  {
   "cell_type": "markdown",
   "id": "4d469618-5f75-4ba8-a799-c1b1ec321826",
   "metadata": {
    "ExecuteTime": {
     "end_time": "2023-09-21T18:36:52.661161Z",
     "start_time": "2023-09-21T18:36:52.641903Z"
    },
    "collapsed": false,
    "editable": true,
    "slideshow": {
     "slide_type": ""
    },
    "tags": []
   },
   "source": [
    "... or the correct sign (+ rather than -)?"
   ]
  },
  {
   "cell_type": "code",
   "execution_count": null,
   "id": "a21a8df8-c653-4c02-8dca-e2238ccf0dd5",
   "metadata": {
    "editable": true,
    "slideshow": {
     "slide_type": ""
    },
    "tags": [],
    "ExecuteTime": {
     "start_time": "2023-09-22T18:37:09.500436Z"
    }
   },
   "outputs": [],
   "source": [
    "assert gcd(8, 12) > 0"
   ]
  },
  {
   "cell_type": "markdown",
   "id": "39de497a-1054-40a7-8627-e7f224fecb0e",
   "metadata": {
    "editable": true,
    "slideshow": {
     "slide_type": "subslide"
    },
    "tags": []
   },
   "source": [
    "### Nominal cases\n",
    "\n",
    "Check for correct result in \"normal\", middle-of-the-road cases. "
   ]
  },
  {
   "cell_type": "code",
   "execution_count": 58,
   "id": "3f55d098-f936-4789-8829-7ef04a5e3c9a",
   "metadata": {
    "editable": true,
    "slideshow": {
     "slide_type": ""
    },
    "tags": [],
    "ExecuteTime": {
     "end_time": "2023-09-22T18:37:09.898761Z",
     "start_time": "2023-09-22T18:37:09.501407Z"
    }
   },
   "outputs": [],
   "source": [
    "assert gcd(7, 21) == 7\n",
    "assert gcd(20, 10) == 10\n",
    "assert gcd(54, 24) == 6"
   ]
  },
  {
   "cell_type": "markdown",
   "id": "c8f21d97-a90c-4c93-8337-119d82ff36ec",
   "metadata": {
    "editable": true,
    "slideshow": {
     "slide_type": ""
    },
    "tags": []
   },
   "source": [
    "Ideally, you'd want to test many nominal cases. This could be through calculating them by hand, or constructing examples at random. \n",
    "\n",
    "See the section on \"property-based testing\" for examples of how to do this."
   ]
  },
  {
   "cell_type": "markdown",
   "id": "1bcf79d9-eaef-4bc2-9aed-c32eb6478ad0",
   "metadata": {
    "editable": true,
    "slideshow": {
     "slide_type": "subslide"
    },
    "tags": []
   },
   "source": [
    "### Boundaries\n",
    "\n",
    "Check for correctness at the boundaries of the domain, or boundaries within parameters.\n",
    "Checking the boundary means the value on the boundary, just above, and (if valid) just below.\n",
    "\n",
    "The `gcd` function operates on integers and has a boundary at zero:"
   ]
  },
  {
   "cell_type": "code",
   "execution_count": 59,
   "id": "93e08b6b-190a-419f-8441-2b91bda0af9d",
   "metadata": {
    "editable": true,
    "slideshow": {
     "slide_type": ""
    },
    "tags": [],
    "ExecuteTime": {
     "end_time": "2023-09-22T18:37:09.912839Z",
     "start_time": "2023-09-22T18:37:09.506848Z"
    }
   },
   "outputs": [],
   "source": [
    "assert gcd(1, 17) == 1  # should be 1\n",
    "assert gcd(0, 17) == 0  # should be 0"
   ]
  },
  {
   "cell_type": "markdown",
   "id": "9d556af0-23ce-4dba-80bd-cc52bfece2e2",
   "metadata": {
    "editable": true,
    "slideshow": {
     "slide_type": ""
    },
    "tags": []
   },
   "source": [
    "> Python doesn't have a bound on the size of integers, and we'll look at common errors with large values later."
   ]
  },
  {
   "cell_type": "markdown",
   "id": "c3d51cbe-b468-454b-87b0-c0c076c030fb",
   "metadata": {
    "editable": true,
    "jp-MarkdownHeadingCollapsed": true,
    "slideshow": {
     "slide_type": "subslide"
    },
    "tags": []
   },
   "source": [
    "### Compound boundaries\n",
    "\n",
    "You should test the behavior of your function at places where several variables have boundaries.\n",
    "\n",
    "In the case of the `gcd`, this is relatively simple:"
   ]
  },
  {
   "cell_type": "code",
   "execution_count": 60,
   "id": "405c9a90-4127-4989-8c00-747d0c269d9b",
   "metadata": {
    "editable": true,
    "slideshow": {
     "slide_type": ""
    },
    "tags": [],
    "ExecuteTime": {
     "end_time": "2023-09-22T18:37:09.922523Z",
     "start_time": "2023-09-22T18:37:09.515178Z"
    }
   },
   "outputs": [],
   "source": [
    "assert gcd(0, 0) == 0"
   ]
  },
  {
   "cell_type": "markdown",
   "id": "d3f22464-b980-47d9-bad3-24c3ff080cb7",
   "metadata": {
    "editable": true,
    "slideshow": {
     "slide_type": "subslide"
    },
    "tags": []
   },
   "source": [
    "### Special cases\n",
    "\n",
    "Check behavior at special values (if any exist):"
   ]
  },
  {
   "cell_type": "code",
   "execution_count": 61,
   "id": "589d2f86-dd2a-4b98-a0c7-9736c89491d3",
   "metadata": {
    "editable": true,
    "slideshow": {
     "slide_type": ""
    },
    "tags": [],
    "ExecuteTime": {
     "end_time": "2023-09-22T18:37:09.927015Z",
     "start_time": "2023-09-22T18:37:09.519225Z"
    }
   },
   "outputs": [],
   "source": [
    "assert gcd(0, 0) == 0"
   ]
  },
  {
   "cell_type": "markdown",
   "id": "1712919a-f1f3-44f2-ab7e-a258006ac49a",
   "metadata": {
    "editable": true,
    "jp-MarkdownHeadingCollapsed": true,
    "slideshow": {
     "slide_type": "subslide"
    },
    "tags": []
   },
   "source": [
    "### Symmetries\n",
    "\n",
    "We also know that $\\gcd(x, y) = \\displaystyle \\gcd(y, x)$ so we should test those too:"
   ]
  },
  {
   "cell_type": "code",
   "execution_count": 62,
   "id": "39ecdb86-cba3-4f7c-a770-99ef0cd57d67",
   "metadata": {
    "editable": true,
    "slideshow": {
     "slide_type": ""
    },
    "tags": [],
    "ExecuteTime": {
     "end_time": "2023-09-22T18:37:09.934635Z",
     "start_time": "2023-09-22T18:37:09.524126Z"
    }
   },
   "outputs": [],
   "source": [
    "# Nominal\n",
    "assert gcd(21, 7) == 7\n",
    "assert gcd(10, 20) == 10\n",
    "assert gcd(24, 54) == 6\n",
    "\n",
    "# Boundary\n",
    "assert gcd(17, 1) == 1  # should be 1\n",
    "assert gcd(17, 0) == 0  # should be 0"
   ]
  },
  {
   "cell_type": "markdown",
   "id": "1305366e-622e-4ea7-a338-c1ecdf0dc377",
   "metadata": {
    "editable": true,
    "jp-MarkdownHeadingCollapsed": true,
    "slideshow": {
     "slide_type": "subslide"
    },
    "tags": []
   },
   "source": [
    "## It is vital to test that our function also throws `Exceptions` correctly for **bad data**\n",
    "\n"
   ]
  },
  {
   "cell_type": "markdown",
   "id": "de4301dc-52f0-4f8b-9aa2-e69704496eda",
   "metadata": {
    "editable": true,
    "jp-MarkdownHeadingCollapsed": true,
    "slideshow": {
     "slide_type": ""
    },
    "tags": []
   },
   "source": [
    "### Uninitialized data\n",
    "\n",
    "If we pass `None` (where `None` is a disallowed value), it should throw a `TypeError`:"
   ]
  },
  {
   "cell_type": "code",
   "execution_count": 63,
   "id": "4bbc3892-7e21-4d83-8f73-9e56cb3f9cde",
   "metadata": {
    "editable": true,
    "slideshow": {
     "slide_type": ""
    },
    "tags": [],
    "ExecuteTime": {
     "end_time": "2023-09-22T18:37:09.938765Z",
     "start_time": "2023-09-22T18:37:09.539231Z"
    }
   },
   "outputs": [],
   "source": [
    "with pytest.raises(TypeError):\n",
    "    gcd(1, None)\n",
    "\n",
    "with pytest.raises(TypeError):\n",
    "    gcd(None, 2)"
   ]
  },
  {
   "cell_type": "markdown",
   "id": "083b5692-0d24-4e13-af23-3a6a60901973",
   "metadata": {
    "editable": true,
    "slideshow": {
     "slide_type": ""
    },
    "tags": []
   },
   "source": [
    "> Of course, if your function allows `None` as a valid input, it should be included in the **good data** tests. "
   ]
  },
  {
   "cell_type": "markdown",
   "id": "fa763d72-bd76-4368-b7c3-a10a95231bd4",
   "metadata": {
    "editable": true,
    "slideshow": {
     "slide_type": "subslide"
    },
    "tags": []
   },
   "source": [
    "### Incorrect type\n",
    "\n",
    "If we pass in the wrong `type` of data, it should throw a `TypeError`:"
   ]
  },
  {
   "cell_type": "code",
   "execution_count": 64,
   "id": "e2804f37-45f8-4f31-9f7c-aea758cd1dfa",
   "metadata": {
    "editable": true,
    "slideshow": {
     "slide_type": ""
    },
    "tags": [],
    "ExecuteTime": {
     "end_time": "2023-09-22T18:37:09.942714Z",
     "start_time": "2023-09-22T18:37:09.547402Z"
    }
   },
   "outputs": [],
   "source": [
    "with pytest.raises(TypeError):\n",
    "    gcd(1, 2.4)\n",
    "\n",
    "with pytest.raises(TypeError):\n",
    "    gcd(1.2, 2)\n",
    "\n",
    "with pytest.raises(TypeError):\n",
    "    gcd(1.2, 2.4)\n",
    "\n",
    "with pytest.raises(TypeError):\n",
    "    gcd(\"one-point-two\", 2)"
   ]
  },
  {
   "cell_type": "markdown",
   "id": "db408524-7680-42be-bbc5-6f08333146ef",
   "metadata": {
    "editable": true,
    "jp-MarkdownHeadingCollapsed": true,
    "slideshow": {
     "slide_type": "subslide"
    },
    "tags": []
   },
   "source": [
    "### Too little data\n",
    "\n",
    "If we pass in too little data it should throw an `Exception`:"
   ]
  },
  {
   "cell_type": "code",
   "execution_count": 65,
   "id": "00a77c29-6cc5-4122-a6dc-3578e6743ed5",
   "metadata": {
    "editable": true,
    "slideshow": {
     "slide_type": ""
    },
    "tags": [],
    "ExecuteTime": {
     "end_time": "2023-09-22T18:37:09.965316Z",
     "start_time": "2023-09-22T18:37:09.551478Z"
    }
   },
   "outputs": [],
   "source": [
    "with pytest.raises(TypeError):\n",
    "    gcd()"
   ]
  },
  {
   "cell_type": "code",
   "execution_count": 66,
   "id": "0a05abc1-5971-4b2d-9a1f-9a2ffa9ee51f",
   "metadata": {
    "editable": true,
    "slideshow": {
     "slide_type": ""
    },
    "tags": [],
    "ExecuteTime": {
     "end_time": "2023-09-22T18:37:09.965514Z",
     "start_time": "2023-09-22T18:37:09.555871Z"
    }
   },
   "outputs": [],
   "source": [
    "with pytest.raises(TypeError):\n",
    "    gcd(0)"
   ]
  },
  {
   "cell_type": "markdown",
   "id": "42153ae8-712b-4411-a1c4-78de200b8ed4",
   "metadata": {
    "editable": true,
    "jp-MarkdownHeadingCollapsed": true,
    "slideshow": {
     "slide_type": "subslide"
    },
    "tags": []
   },
   "source": [
    "### Too much data\n",
    "\n",
    "If we pass in too little data it should throw an `Exception`:"
   ]
  },
  {
   "cell_type": "code",
   "execution_count": 67,
   "id": "6d6ac7ee-8768-4b3c-b76e-6efb0b3a9631",
   "metadata": {
    "editable": true,
    "slideshow": {
     "slide_type": ""
    },
    "tags": [
     "raises-exception"
    ],
    "ExecuteTime": {
     "start_time": "2023-09-22T18:37:09.557270Z"
    }
   },
   "outputs": [
    {
     "ename": "KeyError",
     "evalue": "3",
     "output_type": "error",
     "traceback": [
      "\u001B[0;31m---------------------------------------------------------------------------\u001B[0m",
      "\u001B[0;31mKeyError\u001B[0m                                  Traceback (most recent call last)",
      "Cell \u001B[0;32mIn[67], line 1\u001B[0m\n\u001B[0;32m----> 1\u001B[0m \u001B[43mgcd\u001B[49m\u001B[43m(\u001B[49m\u001B[38;5;241;43m1\u001B[39;49m\u001B[43m,\u001B[49m\u001B[43m \u001B[49m\u001B[38;5;241;43m2\u001B[39;49m\u001B[43m,\u001B[49m\u001B[43m \u001B[49m\u001B[38;5;241;43m3\u001B[39;49m\u001B[43m)\u001B[49m  \u001B[38;5;66;03m# throws a type error\u001B[39;00m\n",
      "File \u001B[0;32m~/Developer/testingDSCoV/src/gcd/__init__.py:9\u001B[0m, in \u001B[0;36mgcd\u001B[0;34m(a, b, method)\u001B[0m\n\u001B[1;32m      8\u001B[0m \u001B[38;5;28;01mdef\u001B[39;00m \u001B[38;5;21mgcd\u001B[39m(a: \u001B[38;5;28mint\u001B[39m, b: \u001B[38;5;28mint\u001B[39m, method: Literal[\u001B[38;5;124m\"\u001B[39m\u001B[38;5;124mreference\u001B[39m\u001B[38;5;124m\"\u001B[39m, \u001B[38;5;124m\"\u001B[39m\u001B[38;5;124meuclid\u001B[39m\u001B[38;5;124m\"\u001B[39m] \u001B[38;5;241m=\u001B[39m \u001B[38;5;124m\"\u001B[39m\u001B[38;5;124mreference\u001B[39m\u001B[38;5;124m\"\u001B[39m):\n\u001B[0;32m----> 9\u001B[0m     result \u001B[38;5;241m=\u001B[39m \u001B[43m{\u001B[49m\u001B[38;5;124;43m\"\u001B[39;49m\u001B[38;5;124;43mreference\u001B[39;49m\u001B[38;5;124;43m\"\u001B[39;49m\u001B[43m:\u001B[49m\u001B[43m \u001B[49m\u001B[43mgcd_reference\u001B[49m\u001B[43m,\u001B[49m\u001B[43m \u001B[49m\u001B[38;5;124;43m\"\u001B[39;49m\u001B[38;5;124;43meuclid\u001B[39;49m\u001B[38;5;124;43m\"\u001B[39;49m\u001B[43m:\u001B[49m\u001B[43m \u001B[49m\u001B[43mgcd_euclid\u001B[49m\u001B[43m}\u001B[49m\u001B[43m[\u001B[49m\u001B[43mmethod\u001B[49m\u001B[43m]\u001B[49m(a, b)\n\u001B[1;32m     10\u001B[0m     \u001B[38;5;28;01mreturn\u001B[39;00m result\n",
      "\u001B[0;31mKeyError\u001B[0m: 3"
     ]
    }
   ],
   "source": [
    "gcd(1, 2, 3)  # throws a type error"
   ]
  },
  {
   "cell_type": "code",
   "execution_count": null,
   "id": "d1ba0db2-ccec-440d-9713-856f974be477",
   "metadata": {
    "editable": true,
    "slideshow": {
     "slide_type": ""
    },
    "tags": [],
    "ExecuteTime": {
     "start_time": "2023-09-22T18:37:09.571796Z"
    }
   },
   "outputs": [],
   "source": [
    "with pytest.raises(TypeError):  # which we can catch like this\n",
    "    gcd(1, 2, 3)"
   ]
  },
  {
   "cell_type": "markdown",
   "id": "2d64ad9d-409a-4073-802d-68269cf76714",
   "metadata": {
    "editable": true,
    "jp-MarkdownHeadingCollapsed": true,
    "slideshow": {
     "slide_type": "slide"
    },
    "tags": []
   },
   "source": [
    "## **Guess errors** to focus on tests which are disproportionately likely to show problems\n",
    "\n",
    "Some input values cause more errors than others. \n",
    "\n",
    "You might be able to guess which errors will crop up, and test more effectively by finding errors faster."
   ]
  },
  {
   "cell_type": "markdown",
   "id": "e82d46e4-cb68-48ee-b882-3672f9a0e2bf",
   "metadata": {
    "editable": true,
    "slideshow": {
     "slide_type": "subslide"
    },
    "tags": []
   },
   "source": [
    "### Zeros\n",
    "Zeros often cause problems in numerical functions."
   ]
  },
  {
   "cell_type": "code",
   "execution_count": null,
   "id": "cfb5e2d0-c3aa-486f-ab19-90608e2cfb8f",
   "metadata": {
    "editable": true,
    "slideshow": {
     "slide_type": ""
    },
    "tags": [],
    "ExecuteTime": {
     "start_time": "2023-09-22T18:37:09.573174Z"
    }
   },
   "outputs": [],
   "source": [
    "assert gcd(0, 100) == 0"
   ]
  },
  {
   "cell_type": "markdown",
   "id": "97f02637-6f1c-49ad-a1d7-e66783d169fb",
   "metadata": {
    "editable": true,
    "slideshow": {
     "slide_type": "subslide"
    },
    "tags": []
   },
   "source": [
    "### Strings: empty, long, unicode\n",
    "\n",
    "In functions which operate on strings, test the behavior with strings which\n",
    "- are emtpy,\n",
    "- are very long compared to the \"normal\" case in your use case,\n",
    "- contain unicode characters.\n",
    "\n",
    "> Strings have a length limit of $(2^{63} - 1)\\,\\mathrm{B}$ – around $9\\,000\\,000\\,\\mathrm{TB}$. "
   ]
  },
  {
   "cell_type": "markdown",
   "id": "f1813e74-0615-4c45-8d9c-eb3ef1bf61d9",
   "metadata": {
    "editable": true,
    "slideshow": {
     "slide_type": "subslide"
    },
    "tags": []
   },
   "source": [
    "### Values at the limit of a type's definition may cause issues\n",
    "\n",
    "The \"natural\" maximum size of an integer might be $2^{63} - 1$ on a 64-bit system, so we'll check that.\n",
    "\n",
    "> As of python 3, the only size limit for an integer is the size of memory [[1]](https://docs.python.org/3/library/sys.html#sys.maxsize). "
   ]
  },
  {
   "cell_type": "code",
   "execution_count": 68,
   "id": "062cc868-94e8-4cb9-984e-dc35460964ef",
   "metadata": {
    "editable": true,
    "slideshow": {
     "slide_type": ""
    },
    "tags": [],
    "ExecuteTime": {
     "end_time": "2023-09-22T18:37:10.969622Z",
     "start_time": "2023-09-22T18:37:09.638026Z"
    }
   },
   "outputs": [],
   "source": [
    "a = 2**63-1  # prime factors: 7, 73, 127, 337, 92737, 649657, https://www.wikidata.org/wiki/Q10571632\n",
    "b = 649657 * 7 * 6  # the gcd is 649657 * 7 by construction\n",
    "assert gcd(a, b) == 649657 * 7"
   ]
  },
  {
   "cell_type": "markdown",
   "id": "b96dc743-0002-4bfe-a9f0-bfeee24f9fdd",
   "metadata": {
    "editable": true,
    "jp-MarkdownHeadingCollapsed": true,
    "slideshow": {
     "slide_type": "subslide"
    },
    "tags": []
   },
   "source": [
    "### Mutable datatypes can cause very strange errors\n",
    "\n",
    "In python, it's easy to introduce a fault which causes function to change its output each time you run it, even with the same inputs – check that a function returns the same output for the same input:"
   ]
  },
  {
   "cell_type": "code",
   "execution_count": 69,
   "id": "6930cb7e-fb76-45d2-a025-5cce15d100d1",
   "metadata": {
    "editable": true,
    "slideshow": {
     "slide_type": ""
    },
    "tags": [],
    "ExecuteTime": {
     "end_time": "2023-09-22T18:37:10.976543Z",
     "start_time": "2023-09-22T18:37:10.970790Z"
    }
   },
   "outputs": [
    {
     "data": {
      "text/plain": "[1]"
     },
     "execution_count": 69,
     "metadata": {},
     "output_type": "execute_result"
    }
   ],
   "source": [
    "# Example of a function which displays this behavior\n",
    "def append(value, the_list=[]):\n",
    "    \"\"\"\n",
    "    Appends a value to a list, and if the list isn't given, return the value on a new list\n",
    "    \"\"\"\n",
    "    the_list.append(value)\n",
    "    return the_list\n",
    "\n",
    "# Works fine if we give it a list to extend:\n",
    "append(1, [])  # should return [1]"
   ]
  },
  {
   "cell_type": "code",
   "execution_count": 70,
   "id": "3f5b31ca-a4d5-4716-a7ef-09e8759bf46f",
   "metadata": {
    "editable": true,
    "slideshow": {
     "slide_type": ""
    },
    "tags": [],
    "ExecuteTime": {
     "end_time": "2023-09-22T18:37:10.977993Z",
     "start_time": "2023-09-22T18:37:10.973957Z"
    }
   },
   "outputs": [],
   "source": [
    "assert append(1, []) == [1]"
   ]
  },
  {
   "cell_type": "markdown",
   "id": "b7d9a11f-82f7-47ec-8cdd-7ad7a14bc8e9",
   "metadata": {
    "editable": true,
    "slideshow": {
     "slide_type": ""
    },
    "tags": []
   },
   "source": [
    "If we don't give it a list to extend, it breaks:"
   ]
  },
  {
   "cell_type": "code",
   "execution_count": 71,
   "id": "85b908a1-004f-4951-a90b-f774b408cfa7",
   "metadata": {
    "editable": true,
    "slideshow": {
     "slide_type": ""
    },
    "tags": [
     "raises-exception"
    ],
    "ExecuteTime": {
     "end_time": "2023-09-22T18:37:10.985513Z",
     "start_time": "2023-09-22T18:37:10.977636Z"
    }
   },
   "outputs": [],
   "source": [
    "assert append(1) == [1]"
   ]
  },
  {
   "cell_type": "code",
   "execution_count": 72,
   "id": "94fa3fa8-74b0-4154-8bb8-3be7a98b6deb",
   "metadata": {
    "editable": true,
    "slideshow": {
     "slide_type": ""
    },
    "tags": [
     "raises-exception"
    ],
    "ExecuteTime": {
     "end_time": "2023-09-22T18:37:10.988713Z",
     "start_time": "2023-09-22T18:37:10.982140Z"
    }
   },
   "outputs": [
    {
     "ename": "AssertionError",
     "evalue": "",
     "output_type": "error",
     "traceback": [
      "\u001B[0;31m---------------------------------------------------------------------------\u001B[0m",
      "\u001B[0;31mAssertionError\u001B[0m                            Traceback (most recent call last)",
      "Cell \u001B[0;32mIn[72], line 1\u001B[0m\n\u001B[0;32m----> 1\u001B[0m \u001B[38;5;28;01massert\u001B[39;00m append(\u001B[38;5;241m2\u001B[39m) \u001B[38;5;241m==\u001B[39m [\u001B[38;5;241m2\u001B[39m]   \u001B[38;5;66;03m# should return [2]!!!\u001B[39;00m\n",
      "\u001B[0;31mAssertionError\u001B[0m: "
     ]
    }
   ],
   "source": [
    "assert append(2) == [2]   # should return [2]!!!"
   ]
  },
  {
   "cell_type": "markdown",
   "id": "72ae13c1-da24-4120-9321-38de26bd221d",
   "metadata": {
    "editable": true,
    "slideshow": {
     "slide_type": "subslide"
    },
    "tags": []
   },
   "source": [
    "What's going on? Let's try to debug this function:"
   ]
  },
  {
   "cell_type": "code",
   "execution_count": null,
   "id": "454bfa50-b1fe-4920-8412-42ec6b605efd",
   "metadata": {
    "editable": true,
    "slideshow": {
     "slide_type": ""
    },
    "tags": [],
    "ExecuteTime": {
     "end_time": "2023-09-22T18:37:11.025084Z",
     "start_time": "2023-09-22T18:37:10.991433Z"
    }
   },
   "outputs": [],
   "source": [
    "append(2)"
   ]
  },
  {
   "cell_type": "markdown",
   "id": "51a38a2a-72ab-447a-b5bb-5f9a89435031",
   "metadata": {
    "editable": true,
    "slideshow": {
     "slide_type": ""
    },
    "tags": []
   },
   "source": [
    "The default value of `the_list` is getting extended each time we run the function."
   ]
  },
  {
   "cell_type": "markdown",
   "id": "bdd856a4-197f-405a-95c7-db91ac30eeb7",
   "metadata": {
    "editable": true,
    "slideshow": {
     "slide_type": "subslide"
    },
    "tags": []
   },
   "source": [
    "You might think that you can check this by running a test like this:"
   ]
  },
  {
   "cell_type": "code",
   "execution_count": null,
   "id": "671768c1-3aa7-4678-973c-f10a9fa24c88",
   "metadata": {
    "editable": true,
    "slideshow": {
     "slide_type": ""
    },
    "tags": [],
    "ExecuteTime": {
     "start_time": "2023-09-22T18:37:10.993323Z"
    }
   },
   "outputs": [],
   "source": [
    "assert append(3) == append(3)  # passes unexpectedly!"
   ]
  },
  {
   "cell_type": "markdown",
   "id": "51f73dbe-2073-450a-a098-7943db74bcf4",
   "metadata": {
    "editable": true,
    "slideshow": {
     "slide_type": ""
    },
    "tags": []
   },
   "source": [
    "... but the error is so insidious that this test fails! Both functions are appending to the same list! \n",
    "You actually need to store a copy of the value from the first run and compare it later:"
   ]
  },
  {
   "cell_type": "code",
   "execution_count": null,
   "id": "4b07bd79-35e9-4168-b300-b94429e43722",
   "metadata": {
    "editable": true,
    "slideshow": {
     "slide_type": ""
    },
    "tags": [
     "raises-exception"
    ],
    "ExecuteTime": {
     "start_time": "2023-09-22T18:37:10.994569Z"
    }
   },
   "outputs": [],
   "source": [
    "first_result = copy.deepcopy(append(4))\n",
    "second_result = copy.deepcopy(append(4))\n",
    "\n",
    "assert first_result == second_result, \"%s != %s\" % (first_result, second_result)"
   ]
  },
  {
   "cell_type": "markdown",
   "id": "d489a036-8657-4947-b1ce-b355877dda14",
   "metadata": {
    "editable": true,
    "slideshow": {
     "slide_type": "subslide"
    },
    "tags": []
   },
   "source": [
    "To fix this, we replace the mutable list in the function with a `None`:"
   ]
  },
  {
   "cell_type": "code",
   "execution_count": null,
   "id": "064c0d72-3d2c-4423-b5f7-284f7216b762",
   "metadata": {
    "editable": true,
    "slideshow": {
     "slide_type": ""
    },
    "tags": [],
    "ExecuteTime": {
     "start_time": "2023-09-22T18:37:10.995773Z"
    }
   },
   "outputs": [],
   "source": [
    "def append_fixed(value, the_list=None):\n",
    "    \"\"\"\n",
    "    Appends a value to a list, and if the list isn't given, return the value on a new list\n",
    "    \"\"\"\n",
    "    if the_list is None:\n",
    "        the_list = []\n",
    "    the_list.append(value)\n",
    "    return the_list\n",
    "\n",
    "first_result = copy.deepcopy(append_fixed(4))\n",
    "second_result = copy.deepcopy(append_fixed(4))\n",
    "\n",
    "assert first_result == second_result, \"%s != %s\" % (first_result, second_result)"
   ]
  },
  {
   "cell_type": "markdown",
   "id": "09c9c69c-5b15-4d7e-adf3-efee50d787a0",
   "metadata": {
    "editable": true,
    "slideshow": {
     "slide_type": "subslide"
    },
    "tags": []
   },
   "source": [
    "In the context of our `gcd` function, the test would be:"
   ]
  },
  {
   "cell_type": "code",
   "execution_count": null,
   "id": "20054dc5-94f9-4ced-bcdb-d9a05278aba3",
   "metadata": {
    "editable": true,
    "slideshow": {
     "slide_type": ""
    },
    "tags": [],
    "ExecuteTime": {
     "start_time": "2023-09-22T18:37:10.997265Z"
    }
   },
   "outputs": [],
   "source": [
    "first_gcd = copy.deepcopy(gcd(32, 8))\n",
    "second_gcd = copy.deepcopy(gcd(32, 8))\n",
    "\n",
    "assert first_gcd == second_gcd, \"%s != %s\" % (first_gcd, second_gcd)"
   ]
  },
  {
   "cell_type": "markdown",
   "id": "44a806d9-0189-4786-b51e-cb7cb9775e6c",
   "metadata": {
    "editable": true,
    "slideshow": {
     "slide_type": "subslide"
    },
    "tags": []
   },
   "source": [
    "### Write a **regression test** test for every bug\n",
    "\n",
    "A rich source of errors is *faults which were already fixed*. If a faults re-emerges, it is called a **regression**.\n",
    "\n",
    "So, every time you find a bug: \n",
    "\n",
    "- Make a test case which fails because of the bug.\n",
    "- Fix the bug (so the test case passes)\n",
    "- Leave the test case in your testing library."
   ]
  },
  {
   "cell_type": "markdown",
   "id": "9dd5f258-eb7b-443a-8d94-3b10c09917b5",
   "metadata": {
    "editable": true,
    "slideshow": {
     "slide_type": "slide"
    },
    "tags": []
   },
   "source": [
    "## **Property-based testing** helps check more values and locate minimal failing cases\n",
    "\n",
    "Property-based testing libraries like [`hypothesis`](https://hypothesis.readthedocs.io/): \n",
    "- Check that invariant properties of a function are fulfilled for a range of input values.\n",
    "- \"Shrinking\" inputs which cause errors systematically to find the \"minimal\" failing case.\n",
    "\n",
    "You can convert existing \"Example-based\" tests into property-based tests.\n",
    "\n",
    "We start with the basic behavior – the output types and the symmetry between the input values:"
   ]
  },
  {
   "cell_type": "code",
   "execution_count": null,
   "id": "208b5a55-9be3-47f3-897b-2a9f9a2567c4",
   "metadata": {
    "editable": true,
    "slideshow": {
     "slide_type": ""
    },
    "tags": [],
    "ExecuteTime": {
     "start_time": "2023-09-22T18:37:10.998497Z"
    }
   },
   "outputs": [],
   "source": [
    "from hypothesis import given, strategies, assume\n",
    "\n",
    "@given(strategies.integers(), strategies.integers())\n",
    "def test_gcd_type_symmetry(a, b):\n",
    "    # Set the boundaries we'll test within. Valid inputs are >= 0\n",
    "    # Values > 4_000_000 took too long, so limit the upper range.\n",
    "    assume(0 <= a < 4_000_000 and 0 <= b < 4_000_000)\n",
    "    \n",
    "    # Calculate the result\n",
    "    result = gcd(a, b)\n",
    "\n",
    "    # Check the type and sign\n",
    "    assert type(result) is int\n",
    "    assert result >= 0\n",
    "\n",
    "    # Check the results are the same when we swap a and b\n",
    "    result_swapped = gcd(b, a)\n",
    "    assert result == result_swapped\n",
    "\n",
    "test_gcd_type_symmetry()"
   ]
  },
  {
   "cell_type": "markdown",
   "source": [
    "We can also check the degenerate cases.\n",
    "$\\gcd(x, 1) = 1, x \\geq 1$:"
   ],
   "metadata": {
    "collapsed": false
   },
   "id": "a691fb8b279bb732"
  },
  {
   "cell_type": "code",
   "execution_count": null,
   "outputs": [],
   "source": [
    "@given(strategies.integers())\n",
    "def test_gcd_type_one(a):\n",
    "    # Calculate the result\n",
    "    assume(1 <= a)\n",
    "    assert gcd(a, 1) == 1\n",
    "\n",
    "test_gcd_type_one()"
   ],
   "metadata": {
    "collapsed": false,
    "ExecuteTime": {
     "start_time": "2023-09-22T18:37:11.000052Z"
    }
   },
   "id": "ec0b6d45defbd0fb"
  },
  {
   "cell_type": "markdown",
   "source": [
    "$\\gcd(x, 0) = 0$:"
   ],
   "metadata": {
    "collapsed": false
   },
   "id": "dcab8ea089c46370"
  },
  {
   "cell_type": "code",
   "execution_count": null,
   "outputs": [],
   "source": [
    "@given(strategies.integers())\n",
    "def test_gcd_type_zero(a):\n",
    "    # Calculate the result\n",
    "    assume(0 <= a)\n",
    "    assert gcd(a, 0) == 0\n",
    "\n",
    "test_gcd_type_zero()"
   ],
   "metadata": {
    "collapsed": false,
    "ExecuteTime": {
     "start_time": "2023-09-22T18:37:11.001706Z"
    }
   },
   "id": "fc5bca599fba677a"
  },
  {
   "cell_type": "markdown",
   "id": "3460d31303693f6f",
   "metadata": {
    "editable": true,
    "slideshow": {
     "slide_type": "slide"
    },
    "tags": []
   },
   "source": [
    "If you are able to construct cases at random where you know the correct result, then do that too.\n",
    "\n",
    "We can use the fact that for two numbers the $\\gcd$ is the product of the intersection of their \n",
    "prime factors (or 1, if they have no matching factors)."
   ]
  },
  {
   "cell_type": "markdown",
   "source": [
    "We make a way to generate lists of primes (with replacement):"
   ],
   "metadata": {
    "collapsed": false
   },
   "id": "3abc6e0a-cb3a-4f94-a566-1384ca399e68"
  },
  {
   "cell_type": "code",
   "execution_count": null,
   "outputs": [],
   "source": [
    "from functools import reduce\n",
    "from sympy import primerange\n",
    "\n",
    "list_of_primes_strategy = strategies.lists(\n",
    "    strategies.sampled_from(\n",
    "        list(primerange(0, 30)) \n",
    "    ), \n",
    "    min_size=0, \n",
    "    max_size=30,\n",
    "    unique=False\n",
    ")\n",
    " \n",
    "list_of_primes_strategy.example()"
   ],
   "metadata": {
    "collapsed": false,
    "ExecuteTime": {
     "start_time": "2023-09-22T18:37:11.003084Z"
    }
   },
   "id": "686c8bb1138d9701"
  },
  {
   "cell_type": "markdown",
   "source": [
    "We need to find the product of a list of integers:"
   ],
   "metadata": {
    "collapsed": false
   },
   "id": "51f9a44dc0d8ff4f"
  },
  {
   "cell_type": "code",
   "execution_count": null,
   "outputs": [],
   "source": [
    "def product(x: list[int]):\n",
    "    if len(x) == 0:\n",
    "        result = 0\n",
    "    else:\n",
    "        result = reduce(lambda x, y: x * y, x, 1)\n",
    "    return result\n",
    "\n",
    "# Plausibility checks:\n",
    "assert product([]) == 0\n",
    "assert product([1]) == 1\n",
    "assert product([1, 2]) == 2\n",
    "assert product([3]) == 3\n",
    "assert product([3]) == 3\n",
    "assert product([3, 3, 3]) == 27\n",
    "assert product([3, 3, 3, 2]) == 54"
   ],
   "metadata": {
    "collapsed": false,
    "ExecuteTime": {
     "start_time": "2023-09-22T18:37:11.004330Z"
    }
   },
   "id": "4de1dc7cd40c5a15"
  },
  {
   "cell_type": "markdown",
   "source": [
    "Here is the product of an example list of primes:"
   ],
   "metadata": {
    "collapsed": false
   },
   "id": "7171fcd73f6faeb4"
  },
  {
   "cell_type": "code",
   "execution_count": null,
   "outputs": [],
   "source": [
    "the_primes = list_of_primes_strategy.example()\n",
    "print(f\"{the_primes=}, {product(the_primes)=}\") "
   ],
   "metadata": {
    "collapsed": false,
    "ExecuteTime": {
     "start_time": "2023-09-22T18:37:11.005614Z"
    }
   },
   "id": "23a382d8135ff04e"
  },
  {
   "cell_type": "markdown",
   "source": [
    "We also need to get the common prime factors from two lists: "
   ],
   "metadata": {
    "collapsed": false
   },
   "id": "ec78368b58258534"
  },
  {
   "cell_type": "code",
   "execution_count": null,
   "outputs": [],
   "source": [
    "from collections import Counter\n",
    "\n",
    "def get_common_elements(ai: list[int], bi: list[int]) -> list[int]:\n",
    "    # From https://stackoverflow.com/a/37645155, with thanks to \"miradulo\"\n",
    "    common_elements = list((Counter(ai) & Counter(bi)).elements())\n",
    "    return common_elements\n",
    "\n",
    "# And test it\n",
    "assert get_common_elements([], []) == []\n",
    "assert get_common_elements([1], []) == []\n",
    "assert get_common_elements([], [1]) == []\n",
    "assert get_common_elements([1], [1]) == [1]\n",
    "assert get_common_elements([1], [2]) == []\n",
    "assert get_common_elements([1, 1], [1]) == [1]\n",
    "assert get_common_elements([1, 1], [1, 1]) == [1, 1]\n",
    "assert get_common_elements([1, 2], [1, 2]) == [1, 2]\n",
    "assert get_common_elements([1, 2], [3]) == []\n",
    "    "
   ],
   "metadata": {
    "collapsed": false,
    "ExecuteTime": {
     "start_time": "2023-09-22T18:37:11.006620Z"
    }
   },
   "id": "86d87c28d74d4b6e"
  },
  {
   "cell_type": "markdown",
   "source": [
    "Now we can construct as many middle-of-the-road examples as we like:"
   ],
   "metadata": {
    "collapsed": false
   },
   "id": "722ad29b82c0efef"
  },
  {
   "cell_type": "code",
   "execution_count": null,
   "id": "dbdb7ada-51bf-45e3-8901-932b71e40f14",
   "metadata": {
    "editable": true,
    "slideshow": {
     "slide_type": ""
    },
    "tags": [],
    "ExecuteTime": {
     "start_time": "2023-09-22T18:37:11.007483Z"
    }
   },
   "outputs": [],
   "source": [
    "@given(list_of_primes_strategy, list_of_primes_strategy)\n",
    "def test_gcd_constructed_known_cases(a_prime_factors, b_prime_factors):\n",
    "    # Include 1 in the list of factors to simplify the logic if the list of prime factors is empty\n",
    "    a_factors = [1] + a_prime_factors\n",
    "    b_factors = [1] + b_prime_factors\n",
    "    a, b = product(a_factors), product(b_factors)  \n",
    "    \n",
    "    # Skip the testcase if the numbers are too large or negative \n",
    "    assume(0 <= a < 4_000_000 and 0 <= b < 4_000_000)\n",
    "    \n",
    "    # Get the gcd by construction\n",
    "    common_factors = get_common_elements(a_factors, b_factors)\n",
    "    known_gcd = product(common_factors)\n",
    "    \n",
    "    # Calculate the result using the function\n",
    "    calculated_gcd = gcd(a, b) \n",
    "    assert calculated_gcd == known_gcd\n",
    "    \n",
    "    # Report for debugging purposes\n",
    "    print(f\"{a=}, {b=}, {a_prime_factors=}, {b_prime_factors=}, {common_factors=}, \"\n",
    "          f\"{known_gcd=}, {calculated_gcd=}\")\n",
    "\n",
    "test_gcd_constructed_known_cases()"
   ]
  },
  {
   "cell_type": "markdown",
   "id": "ddcb23bc-002e-4f62-abce-a3974633769e",
   "metadata": {
    "editable": true,
    "jp-MarkdownHeadingCollapsed": true,
    "slideshow": {
     "slide_type": "slide"
    },
    "tags": []
   },
   "source": [
    "## Organizing tests"
   ]
  },
  {
   "cell_type": "markdown",
   "id": "dc58e1866a869a25",
   "metadata": {
    "collapsed": false,
    "editable": true,
    "jp-MarkdownHeadingCollapsed": true,
    "slideshow": {
     "slide_type": "subslide"
    },
    "tags": []
   },
   "source": [
    "### Smoke test\n",
    "\n",
    "Check for basic plausibility. Does it run without failing?"
   ]
  },
  {
   "cell_type": "code",
   "execution_count": null,
   "id": "26352090afac2554",
   "metadata": {
    "collapsed": false,
    "editable": true,
    "slideshow": {
     "slide_type": ""
    },
    "tags": [],
    "ExecuteTime": {
     "start_time": "2023-09-22T18:37:11.008391Z"
    }
   },
   "outputs": [],
   "source": [
    "gcd(8, 12)  # runs without failing"
   ]
  },
  {
   "cell_type": "markdown",
   "id": "7e7fded3-b161-4c1f-81e4-67e829d34d2f",
   "metadata": {
    "editable": true,
    "slideshow": {
     "slide_type": ""
    },
    "tags": []
   },
   "source": [
    "Does it produce the same result if a and b are swapped? (Only true for commutative operations)"
   ]
  },
  {
   "cell_type": "code",
   "execution_count": null,
   "id": "0430ba24-2f38-4e5f-ab99-aba0d94f94aa",
   "metadata": {
    "editable": true,
    "slideshow": {
     "slide_type": ""
    },
    "tags": [],
    "ExecuteTime": {
     "start_time": "2023-09-22T18:37:11.009371Z"
    }
   },
   "outputs": [],
   "source": [
    "assert gcd(12, 8)"
   ]
  },
  {
   "cell_type": "markdown",
   "id": "af5eadc737b51358",
   "metadata": {
    "collapsed": false,
    "editable": true,
    "slideshow": {
     "slide_type": "slide"
    },
    "tags": []
   },
   "source": [
    "## The \"black-box\" approach varies the inputs to a function and checks its outputs\n",
    "\n",
    "<Image of a black box here>"
   ]
  },
  {
   "cell_type": "markdown",
   "id": "97e5f533-9de7-4487-888a-9e911ecbe622",
   "metadata": {
    "editable": true,
    "raw_mimetype": "",
    "slideshow": {
     "slide_type": "notes"
    },
    "tags": []
   },
   "source": [
    "The first approach we'll use is the \"black-box\" approach, which treats the function as a black box which we can't see inside. \n",
    "\n",
    "We'll look at inputs and check that they produce the correct outputs."
   ]
  },
  {
   "cell_type": "code",
   "execution_count": null,
   "id": "da2b4ac0-84a0-4957-b950-db879d4dc687",
   "metadata": {
    "editable": true,
    "slideshow": {
     "slide_type": ""
    },
    "tags": [],
    "ExecuteTime": {
     "start_time": "2023-09-22T18:37:11.010227Z"
    }
   },
   "outputs": [],
   "source": []
  },
  {
   "cell_type": "code",
   "execution_count": null,
   "id": "c32d63b2-5c56-4eb7-8c68-ec6495cd37fe",
   "metadata": {
    "editable": true,
    "slideshow": {
     "slide_type": ""
    },
    "tags": [],
    "ExecuteTime": {
     "start_time": "2023-09-22T18:37:11.011213Z"
    }
   },
   "outputs": [],
   "source": []
  },
  {
   "cell_type": "code",
   "execution_count": null,
   "id": "a987b231-2bf7-44ef-9143-c2c952e0740b",
   "metadata": {
    "editable": true,
    "slideshow": {
     "slide_type": ""
    },
    "tags": [],
    "ExecuteTime": {
     "start_time": "2023-09-22T18:37:11.012070Z"
    }
   },
   "outputs": [],
   "source": []
  },
  {
   "cell_type": "code",
   "execution_count": null,
   "id": "6cbb1c49-042d-4d49-98a4-694ef2602381",
   "metadata": {
    "editable": true,
    "slideshow": {
     "slide_type": ""
    },
    "tags": [],
    "ExecuteTime": {
     "start_time": "2023-09-22T18:37:11.012890Z"
    }
   },
   "outputs": [],
   "source": []
  },
  {
   "cell_type": "code",
   "execution_count": null,
   "id": "6bc97951-c671-4346-b15b-53b46adeddfa",
   "metadata": {
    "editable": true,
    "slideshow": {
     "slide_type": ""
    },
    "tags": [],
    "ExecuteTime": {
     "start_time": "2023-09-22T18:37:11.013710Z"
    }
   },
   "outputs": [],
   "source": []
  },
  {
   "cell_type": "code",
   "execution_count": null,
   "id": "032260e6-6aba-475e-be74-3760dbd30a14",
   "metadata": {
    "editable": true,
    "slideshow": {
     "slide_type": ""
    },
    "tags": [],
    "ExecuteTime": {
     "start_time": "2023-09-22T18:37:11.014521Z"
    }
   },
   "outputs": [],
   "source": []
  },
  {
   "cell_type": "code",
   "execution_count": null,
   "id": "0cc00391-4ce6-4c33-99c4-7c2c8f271b09",
   "metadata": {
    "editable": true,
    "slideshow": {
     "slide_type": ""
    },
    "tags": [],
    "ExecuteTime": {
     "start_time": "2023-09-22T18:37:11.015320Z"
    }
   },
   "outputs": [],
   "source": []
  }
 ],
 "metadata": {
  "kernelspec": {
   "display_name": "Python 3 (ipykernel)",
   "language": "python",
   "name": "python3"
  },
  "language_info": {
   "codemirror_mode": {
    "name": "ipython",
    "version": 3
   },
   "file_extension": ".py",
   "mimetype": "text/x-python",
   "name": "python",
   "nbconvert_exporter": "python",
   "pygments_lexer": "ipython3",
   "version": "3.10.12"
  }
 },
 "nbformat": 4,
 "nbformat_minor": 5
}
