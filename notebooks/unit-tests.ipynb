{
 "cells": [
  {
   "cell_type": "markdown",
   "id": "1b46b26b0db6fff1",
   "metadata": {
    "collapsed": false,
    "editable": true,
    "jupyter": {
     "outputs_hidden": false
    },
    "slideshow": {
     "slide_type": "slide"
    },
    "tags": []
   },
   "source": [
    "# Building a comprehensive **unit-test suite** for a simple function"
   ]
  },
  {
   "cell_type": "markdown",
   "id": "00fdbe75-6b0f-4ef2-b29f-4a62bdef0902",
   "metadata": {
    "collapsed": false,
    "editable": true,
    "jp-MarkdownHeadingCollapsed": true,
    "jupyter": {
     "outputs_hidden": false
    },
    "slideshow": {
     "slide_type": "slide"
    },
    "tags": []
   },
   "source": [
    "## Aim: Build a comprehensive **black-box** test suite for a \"greatest common divisor\" function, `gcd`"
   ]
  },
  {
   "cell_type": "markdown",
   "id": "3dd40333-fbb2-4279-ae31-64558f35fe0e",
   "metadata": {
    "collapsed": false,
    "editable": true,
    "jp-MarkdownHeadingCollapsed": true,
    "jupyter": {
     "outputs_hidden": false
    },
    "slideshow": {
     "slide_type": "slide"
    },
    "tags": []
   },
   "source": [
    "> Definition: the **greatest common divisor** (GCD) of two or more integers, which are not all zero, is the largest positive integer that divides each of the integers. \n",
    "> For two integers $x$, $y$, the greatest common divisor of $x$ and $y$ is denoted\n",
    "$\\displaystyle \\gcd(x, y)$.\n",
    ">\n",
    "> For example, $\\displaystyle \\gcd(8, 12) = 4$.\n",
    ">\n",
    "> ... $\\displaystyle \\gcd(0, 0)$ is commonly defined as $0$ [*and this is our definition today*].\n",
    ">\n",
    "> _Source: Wikipedia, https://en.wikipedia.org/wiki/Greatest_common_divisor, retrieved on September 21 2023_"
   ]
  },
  {
   "cell_type": "code",
   "execution_count": 1,
   "id": "initial_id",
   "metadata": {
    "ExecuteTime": {
     "end_time": "2023-09-22T18:43:28.428206Z",
     "start_time": "2023-09-22T18:43:27.962489Z"
    },
    "editable": true,
    "slideshow": {
     "slide_type": ""
    },
    "tags": []
   },
   "outputs": [],
   "source": [
    "# import our gcd function from our example module\n",
    "from gcd import gcd as gcd\n",
    "\n",
    "# Import some other useful utilities\n",
    "import pytest\n",
    "import copy"
   ]
  },
  {
   "cell_type": "markdown",
   "id": "4bde404c-405f-4031-b047-a59c2ffe9484",
   "metadata": {
    "editable": true,
    "jp-MarkdownHeadingCollapsed": true,
    "slideshow": {
     "slide_type": "slide"
    },
    "tags": []
   },
   "source": [
    "## We want to check for correct functionality with **good data**"
   ]
  },
  {
   "cell_type": "markdown",
   "id": "1d833044-91fe-48ab-bf7e-8858c7a00624",
   "metadata": {
    "editable": true,
    "jp-MarkdownHeadingCollapsed": true,
    "slideshow": {
     "slide_type": "subslide"
    },
    "tags": []
   },
   "source": [
    "### Essential tooling: `assert` lets us throw an error if a check is false\n",
    "\n",
    "We can use assert statements in python to write tests.\n",
    "\n",
    "The assert statement in python raises an `Error` if the result of a calculation is \"Falsy\":"
   ]
  },
  {
   "cell_type": "code",
   "execution_count": 2,
   "id": "ed5b2ef1-3e19-49a4-9d2d-1253dcf711e2",
   "metadata": {
    "ExecuteTime": {
     "end_time": "2023-09-22T18:43:28.428428Z",
     "start_time": "2023-09-22T18:43:28.005045Z"
    },
    "editable": true,
    "slideshow": {
     "slide_type": ""
    },
    "tags": []
   },
   "outputs": [],
   "source": [
    "assert True  # no Error"
   ]
  },
  {
   "cell_type": "code",
   "execution_count": 3,
   "id": "c5e10806-a0fd-4404-874d-255c6e33cef4",
   "metadata": {
    "ExecuteTime": {
     "end_time": "2023-09-22T18:43:28.701969Z",
     "start_time": "2023-09-22T18:43:28.007084Z"
    },
    "editable": true,
    "slideshow": {
     "slide_type": ""
    },
    "tags": [
     "raises-exception"
    ]
   },
   "outputs": [
    {
     "ename": "AssertionError",
     "evalue": "",
     "output_type": "error",
     "traceback": [
      "\u001b[0;31m---------------------------------------------------------------------------\u001b[0m",
      "\u001b[0;31mAssertionError\u001b[0m                            Traceback (most recent call last)",
      "Cell \u001b[0;32mIn[3], line 1\u001b[0m\n\u001b[0;32m----> 1\u001b[0m \u001b[38;5;28;01massert\u001b[39;00m \u001b[38;5;28;01mFalse\u001b[39;00m  \u001b[38;5;66;03m# raises an Exception\u001b[39;00m\n",
      "\u001b[0;31mAssertionError\u001b[0m: "
     ]
    }
   ],
   "source": [
    "assert False  # raises an Exception"
   ]
  },
  {
   "cell_type": "code",
   "execution_count": 4,
   "id": "091fe334-c207-4a30-a457-b719c882ad9c",
   "metadata": {
    "ExecuteTime": {
     "start_time": "2023-09-22T18:43:28.150912Z"
    },
    "editable": true,
    "slideshow": {
     "slide_type": ""
    },
    "tags": []
   },
   "outputs": [],
   "source": [
    "assert 1 == 1  # no Error"
   ]
  },
  {
   "cell_type": "code",
   "execution_count": 5,
   "id": "3c45898d-8b63-4e78-a57d-0a8b48849434",
   "metadata": {
    "ExecuteTime": {
     "start_time": "2023-09-22T18:43:28.152301Z"
    },
    "editable": true,
    "slideshow": {
     "slide_type": ""
    },
    "tags": []
   },
   "outputs": [],
   "source": [
    "assert 1 > 0  # no Error"
   ]
  },
  {
   "cell_type": "code",
   "execution_count": 6,
   "id": "632fbcbd-dde1-40a6-82ba-dd5e796977ee",
   "metadata": {
    "ExecuteTime": {
     "start_time": "2023-09-22T18:43:28.153597Z"
    },
    "editable": true,
    "slideshow": {
     "slide_type": ""
    },
    "tags": [
     "raises-exception"
    ]
   },
   "outputs": [
    {
     "ename": "AssertionError",
     "evalue": "",
     "output_type": "error",
     "traceback": [
      "\u001b[0;31m---------------------------------------------------------------------------\u001b[0m",
      "\u001b[0;31mAssertionError\u001b[0m                            Traceback (most recent call last)",
      "Cell \u001b[0;32mIn[6], line 1\u001b[0m\n\u001b[0;32m----> 1\u001b[0m \u001b[38;5;28;01massert\u001b[39;00m \u001b[38;5;241m0\u001b[39m \u001b[38;5;241m>\u001b[39m \u001b[38;5;241m1\u001b[39m  \u001b[38;5;66;03m# False, so raises an exception\u001b[39;00m\n",
      "\u001b[0;31mAssertionError\u001b[0m: "
     ]
    }
   ],
   "source": [
    "assert 0 > 1  # False, so raises an exception"
   ]
  },
  {
   "cell_type": "code",
   "execution_count": 7,
   "id": "3453c3ce-2c48-4d3b-b8c1-9ff55fd2a486",
   "metadata": {
    "ExecuteTime": {
     "start_time": "2023-09-22T18:43:28.154971Z"
    },
    "editable": true,
    "slideshow": {
     "slide_type": ""
    },
    "tags": []
   },
   "outputs": [],
   "source": [
    "assert \"a\"  # a string is truthy..."
   ]
  },
  {
   "cell_type": "code",
   "execution_count": 8,
   "id": "02cb39f9-c254-4557-a3e8-0ba66311f018",
   "metadata": {
    "ExecuteTime": {
     "start_time": "2023-09-22T18:43:28.156566Z"
    },
    "editable": true,
    "slideshow": {
     "slide_type": ""
    },
    "tags": [
     "raises-exception"
    ]
   },
   "outputs": [
    {
     "ename": "AssertionError",
     "evalue": "",
     "output_type": "error",
     "traceback": [
      "\u001b[0;31m---------------------------------------------------------------------------\u001b[0m",
      "\u001b[0;31mAssertionError\u001b[0m                            Traceback (most recent call last)",
      "Cell \u001b[0;32mIn[8], line 1\u001b[0m\n\u001b[0;32m----> 1\u001b[0m \u001b[38;5;28;01massert\u001b[39;00m \u001b[38;5;124m\"\u001b[39m\u001b[38;5;124m\"\u001b[39m  \u001b[38;5;66;03m# but an empty string is falsy\u001b[39;00m\n",
      "\u001b[0;31mAssertionError\u001b[0m: "
     ]
    }
   ],
   "source": [
    "assert \"\"  # but an empty string is falsy"
   ]
  },
  {
   "cell_type": "markdown",
   "id": "97904569-c2c5-48ea-94a0-36aa43fbac0f",
   "metadata": {
    "editable": true,
    "jp-MarkdownHeadingCollapsed": true,
    "slideshow": {
     "slide_type": ""
    },
    "tags": []
   },
   "source": [
    "> Beware: `assert` is meant for debugging, and can be turned off by running `python` with the `-O` flag.\n",
    "> Use `raise` statements and conditions if your code relies on the check being run."
   ]
  },
  {
   "cell_type": "markdown",
   "id": "2833460b-7366-4fc1-83ca-4c6d0b1abe9e",
   "metadata": {
    "editable": true,
    "slideshow": {
     "slide_type": "subslide"
    },
    "tags": []
   },
   "source": [
    "### Type test\n",
    "\n",
    "Does it produce sensible results, like the correct datatype?"
   ]
  },
  {
   "cell_type": "code",
   "execution_count": 9,
   "id": "8e835e6463b32609",
   "metadata": {
    "ExecuteTime": {
     "start_time": "2023-09-22T18:43:28.158516Z"
    },
    "collapsed": false,
    "editable": true,
    "jupyter": {
     "outputs_hidden": false
    },
    "slideshow": {
     "slide_type": ""
    },
    "tags": []
   },
   "outputs": [],
   "source": [
    "assert type(gcd(8, 12)) is int  "
   ]
  },
  {
   "cell_type": "markdown",
   "id": "4d469618-5f75-4ba8-a799-c1b1ec321826",
   "metadata": {
    "ExecuteTime": {
     "end_time": "2023-09-21T18:36:52.661161Z",
     "start_time": "2023-09-21T18:36:52.641903Z"
    },
    "collapsed": false,
    "editable": true,
    "jupyter": {
     "outputs_hidden": false
    },
    "slideshow": {
     "slide_type": ""
    },
    "tags": []
   },
   "source": [
    "... or the correct sign (+ rather than -)?"
   ]
  },
  {
   "cell_type": "code",
   "execution_count": 10,
   "id": "a21a8df8-c653-4c02-8dca-e2238ccf0dd5",
   "metadata": {
    "ExecuteTime": {
     "start_time": "2023-09-22T18:43:28.160150Z"
    },
    "editable": true,
    "slideshow": {
     "slide_type": ""
    },
    "tags": []
   },
   "outputs": [],
   "source": [
    "assert gcd(8, 12) > 0"
   ]
  },
  {
   "cell_type": "markdown",
   "id": "39de497a-1054-40a7-8627-e7f224fecb0e",
   "metadata": {
    "editable": true,
    "slideshow": {
     "slide_type": "subslide"
    },
    "tags": []
   },
   "source": [
    "### Nominal cases\n",
    "\n",
    "Check for correct result in \"normal\", middle-of-the-road cases. "
   ]
  },
  {
   "cell_type": "code",
   "execution_count": 11,
   "id": "3f55d098-f936-4789-8829-7ef04a5e3c9a",
   "metadata": {
    "ExecuteTime": {
     "start_time": "2023-09-22T18:43:28.161731Z"
    },
    "editable": true,
    "slideshow": {
     "slide_type": ""
    },
    "tags": []
   },
   "outputs": [],
   "source": [
    "assert gcd(7, 21) == 7\n",
    "assert gcd(20, 10) == 10\n",
    "assert gcd(54, 24) == 6"
   ]
  },
  {
   "cell_type": "markdown",
   "id": "c8f21d97-a90c-4c93-8337-119d82ff36ec",
   "metadata": {
    "editable": true,
    "slideshow": {
     "slide_type": ""
    },
    "tags": []
   },
   "source": [
    "Ideally, you'd want to test many nominal cases. This could be through calculating them by hand, or constructing examples at random. \n",
    "\n",
    "See the section on \"property-based testing\" for examples of how to do this."
   ]
  },
  {
   "cell_type": "markdown",
   "id": "1bcf79d9-eaef-4bc2-9aed-c32eb6478ad0",
   "metadata": {
    "editable": true,
    "slideshow": {
     "slide_type": "subslide"
    },
    "tags": []
   },
   "source": [
    "### Boundaries\n",
    "\n",
    "Check for correctness at the boundaries of the domain, or boundaries within parameters.\n",
    "Checking the boundary means the value on the boundary, just above, and (if valid) just below.\n",
    "\n",
    "The `gcd` function operates on integers and has a boundary at zero:"
   ]
  },
  {
   "cell_type": "code",
   "execution_count": 12,
   "id": "93e08b6b-190a-419f-8441-2b91bda0af9d",
   "metadata": {
    "ExecuteTime": {
     "start_time": "2023-09-22T18:43:28.163176Z"
    },
    "editable": true,
    "slideshow": {
     "slide_type": ""
    },
    "tags": []
   },
   "outputs": [],
   "source": [
    "assert gcd(1, 17) == 1  # should be 1\n",
    "assert gcd(0, 17) == 0  # should be 0"
   ]
  },
  {
   "cell_type": "markdown",
   "id": "9d556af0-23ce-4dba-80bd-cc52bfece2e2",
   "metadata": {
    "editable": true,
    "slideshow": {
     "slide_type": ""
    },
    "tags": []
   },
   "source": [
    "> Python doesn't have a bound on the size of integers, and we'll look at common errors with large values later."
   ]
  },
  {
   "cell_type": "markdown",
   "id": "c3d51cbe-b468-454b-87b0-c0c076c030fb",
   "metadata": {
    "editable": true,
    "jp-MarkdownHeadingCollapsed": true,
    "slideshow": {
     "slide_type": "subslide"
    },
    "tags": []
   },
   "source": [
    "### Compound boundaries\n",
    "\n",
    "You should test the behavior of your function at places where several variables have boundaries.\n",
    "\n",
    "In the case of the `gcd`, this is relatively simple:"
   ]
  },
  {
   "cell_type": "code",
   "execution_count": 13,
   "id": "405c9a90-4127-4989-8c00-747d0c269d9b",
   "metadata": {
    "ExecuteTime": {
     "start_time": "2023-09-22T18:43:28.164531Z"
    },
    "editable": true,
    "slideshow": {
     "slide_type": ""
    },
    "tags": []
   },
   "outputs": [],
   "source": [
    "assert gcd(0, 0) == 0"
   ]
  },
  {
   "cell_type": "markdown",
   "id": "d3f22464-b980-47d9-bad3-24c3ff080cb7",
   "metadata": {
    "editable": true,
    "slideshow": {
     "slide_type": "subslide"
    },
    "tags": []
   },
   "source": [
    "### Special cases\n",
    "\n",
    "Check behavior at special values (if any exist):"
   ]
  },
  {
   "cell_type": "code",
   "execution_count": 14,
   "id": "589d2f86-dd2a-4b98-a0c7-9736c89491d3",
   "metadata": {
    "ExecuteTime": {
     "start_time": "2023-09-22T18:43:28.165907Z"
    },
    "editable": true,
    "slideshow": {
     "slide_type": ""
    },
    "tags": []
   },
   "outputs": [],
   "source": [
    "assert gcd(0, 0) == 0"
   ]
  },
  {
   "cell_type": "markdown",
   "id": "1712919a-f1f3-44f2-ab7e-a258006ac49a",
   "metadata": {
    "editable": true,
    "jp-MarkdownHeadingCollapsed": true,
    "slideshow": {
     "slide_type": "subslide"
    },
    "tags": []
   },
   "source": [
    "### Symmetries\n",
    "\n",
    "We also know that $\\gcd(x, y) = \\displaystyle \\gcd(y, x)$ so we should test those too:"
   ]
  },
  {
   "cell_type": "code",
   "execution_count": 15,
   "id": "39ecdb86-cba3-4f7c-a770-99ef0cd57d67",
   "metadata": {
    "ExecuteTime": {
     "start_time": "2023-09-22T18:43:28.167237Z"
    },
    "editable": true,
    "slideshow": {
     "slide_type": ""
    },
    "tags": []
   },
   "outputs": [],
   "source": [
    "# Nominal\n",
    "assert gcd(21, 7) == 7\n",
    "assert gcd(10, 20) == 10\n",
    "assert gcd(24, 54) == 6\n",
    "\n",
    "# Boundary\n",
    "assert gcd(17, 1) == 1  # should be 1\n",
    "assert gcd(17, 0) == 0  # should be 0"
   ]
  },
  {
   "cell_type": "markdown",
   "id": "1305366e-622e-4ea7-a338-c1ecdf0dc377",
   "metadata": {
    "editable": true,
    "jp-MarkdownHeadingCollapsed": true,
    "slideshow": {
     "slide_type": "subslide"
    },
    "tags": []
   },
   "source": [
    "## It is vital to test that our function also throws `Exceptions` correctly for **bad data**\n",
    "\n"
   ]
  },
  {
   "cell_type": "markdown",
   "id": "de4301dc-52f0-4f8b-9aa2-e69704496eda",
   "metadata": {
    "editable": true,
    "jp-MarkdownHeadingCollapsed": true,
    "slideshow": {
     "slide_type": ""
    },
    "tags": []
   },
   "source": [
    "### Uninitialized data\n",
    "\n",
    "If we pass `None` (where `None` is a disallowed value), it should throw a `TypeError`:"
   ]
  },
  {
   "cell_type": "code",
   "execution_count": 16,
   "id": "4bbc3892-7e21-4d83-8f73-9e56cb3f9cde",
   "metadata": {
    "ExecuteTime": {
     "start_time": "2023-09-22T18:43:28.168724Z"
    },
    "editable": true,
    "slideshow": {
     "slide_type": ""
    },
    "tags": []
   },
   "outputs": [],
   "source": [
    "with pytest.raises(TypeError):\n",
    "    gcd(1, None)\n",
    "\n",
    "with pytest.raises(TypeError):\n",
    "    gcd(None, 2)"
   ]
  },
  {
   "cell_type": "markdown",
   "id": "083b5692-0d24-4e13-af23-3a6a60901973",
   "metadata": {
    "editable": true,
    "slideshow": {
     "slide_type": ""
    },
    "tags": []
   },
   "source": [
    "> Of course, if your function allows `None` as a valid input, it should be included in the **good data** tests. "
   ]
  },
  {
   "cell_type": "markdown",
   "id": "fa763d72-bd76-4368-b7c3-a10a95231bd4",
   "metadata": {
    "editable": true,
    "slideshow": {
     "slide_type": "subslide"
    },
    "tags": []
   },
   "source": [
    "### Incorrect type\n",
    "\n",
    "If we pass in the wrong `type` of data, it should throw a `TypeError`:"
   ]
  },
  {
   "cell_type": "code",
   "execution_count": 17,
   "id": "e2804f37-45f8-4f31-9f7c-aea758cd1dfa",
   "metadata": {
    "ExecuteTime": {
     "start_time": "2023-09-22T18:43:28.170113Z"
    },
    "editable": true,
    "slideshow": {
     "slide_type": ""
    },
    "tags": []
   },
   "outputs": [],
   "source": [
    "with pytest.raises(TypeError):\n",
    "    gcd(1, 2.4)\n",
    "\n",
    "with pytest.raises(TypeError):\n",
    "    gcd(1.2, 2)\n",
    "\n",
    "with pytest.raises(TypeError):\n",
    "    gcd(1.2, 2.4)\n",
    "\n",
    "with pytest.raises(TypeError):\n",
    "    gcd(\"one-point-two\", 2)"
   ]
  },
  {
   "cell_type": "markdown",
   "id": "db408524-7680-42be-bbc5-6f08333146ef",
   "metadata": {
    "editable": true,
    "slideshow": {
     "slide_type": "subslide"
    },
    "tags": []
   },
   "source": [
    "### Too little data\n",
    "\n",
    "If we pass in too little data it should throw an `Exception`:"
   ]
  },
  {
   "cell_type": "code",
   "execution_count": 18,
   "id": "00a77c29-6cc5-4122-a6dc-3578e6743ed5",
   "metadata": {
    "ExecuteTime": {
     "start_time": "2023-09-22T18:43:28.171601Z"
    },
    "editable": true,
    "slideshow": {
     "slide_type": ""
    },
    "tags": []
   },
   "outputs": [],
   "source": [
    "with pytest.raises(TypeError):\n",
    "    gcd()"
   ]
  },
  {
   "cell_type": "code",
   "execution_count": 19,
   "id": "0a05abc1-5971-4b2d-9a1f-9a2ffa9ee51f",
   "metadata": {
    "ExecuteTime": {
     "start_time": "2023-09-22T18:43:28.173252Z"
    },
    "editable": true,
    "slideshow": {
     "slide_type": ""
    },
    "tags": []
   },
   "outputs": [],
   "source": [
    "with pytest.raises(TypeError):\n",
    "    gcd(0)"
   ]
  },
  {
   "cell_type": "markdown",
   "id": "42153ae8-712b-4411-a1c4-78de200b8ed4",
   "metadata": {
    "editable": true,
    "slideshow": {
     "slide_type": "subslide"
    },
    "tags": []
   },
   "source": [
    "### Too much data\n",
    "\n",
    "If we pass in too little data it should throw an `Exception`:"
   ]
  },
  {
   "cell_type": "code",
   "execution_count": 20,
   "id": "6d6ac7ee-8768-4b3c-b76e-6efb0b3a9631",
   "metadata": {
    "ExecuteTime": {
     "start_time": "2023-09-22T18:43:28.174997Z"
    },
    "editable": true,
    "slideshow": {
     "slide_type": ""
    },
    "tags": [
     "raises-exception"
    ]
   },
   "outputs": [
    {
     "ename": "TypeError",
     "evalue": "gcd() takes 2 positional arguments but 3 were given",
     "output_type": "error",
     "traceback": [
      "\u001b[0;31m---------------------------------------------------------------------------\u001b[0m",
      "\u001b[0;31mTypeError\u001b[0m                                 Traceback (most recent call last)",
      "Cell \u001b[0;32mIn[20], line 1\u001b[0m\n\u001b[0;32m----> 1\u001b[0m \u001b[43mgcd\u001b[49m\u001b[43m(\u001b[49m\u001b[38;5;241;43m1\u001b[39;49m\u001b[43m,\u001b[49m\u001b[43m \u001b[49m\u001b[38;5;241;43m2\u001b[39;49m\u001b[43m,\u001b[49m\u001b[43m \u001b[49m\u001b[38;5;241;43m3\u001b[39;49m\u001b[43m)\u001b[49m  \u001b[38;5;66;03m# throws a type error\u001b[39;00m\n",
      "\u001b[0;31mTypeError\u001b[0m: gcd() takes 2 positional arguments but 3 were given"
     ]
    }
   ],
   "source": [
    "gcd(1, 2, 3)  # throws a type error"
   ]
  },
  {
   "cell_type": "code",
   "execution_count": 21,
   "id": "d1ba0db2-ccec-440d-9713-856f974be477",
   "metadata": {
    "ExecuteTime": {
     "start_time": "2023-09-22T18:43:28.176515Z"
    },
    "editable": true,
    "slideshow": {
     "slide_type": ""
    },
    "tags": []
   },
   "outputs": [],
   "source": [
    "with pytest.raises(TypeError):  # which we can catch like this\n",
    "    gcd(1, 2, 3)"
   ]
  },
  {
   "cell_type": "markdown",
   "id": "2d64ad9d-409a-4073-802d-68269cf76714",
   "metadata": {
    "editable": true,
    "jp-MarkdownHeadingCollapsed": true,
    "slideshow": {
     "slide_type": "slide"
    },
    "tags": []
   },
   "source": [
    "## **Guess errors** to focus on tests which are disproportionately likely to show problems\n",
    "\n",
    "Some input values cause more errors than others. \n",
    "\n",
    "You might be able to guess which errors will crop up, and test more effectively by finding errors faster."
   ]
  },
  {
   "cell_type": "markdown",
   "id": "e82d46e4-cb68-48ee-b882-3672f9a0e2bf",
   "metadata": {
    "editable": true,
    "slideshow": {
     "slide_type": "subslide"
    },
    "tags": []
   },
   "source": [
    "### Numbers: Zeros\n",
    "Zeros often cause problems in numerical functions."
   ]
  },
  {
   "cell_type": "code",
   "execution_count": 22,
   "id": "cfb5e2d0-c3aa-486f-ab19-90608e2cfb8f",
   "metadata": {
    "ExecuteTime": {
     "start_time": "2023-09-22T18:43:28.177805Z"
    },
    "editable": true,
    "slideshow": {
     "slide_type": ""
    },
    "tags": []
   },
   "outputs": [],
   "source": [
    "assert gcd(0, 100) == 0"
   ]
  },
  {
   "cell_type": "markdown",
   "id": "f1813e74-0615-4c45-8d9c-eb3ef1bf61d9",
   "metadata": {
    "editable": true,
    "jp-MarkdownHeadingCollapsed": true,
    "slideshow": {
     "slide_type": "subslide"
    },
    "tags": []
   },
   "source": [
    "### Numbers: Values at the limit of a type's definition may cause issues\n",
    "\n",
    "The \"natural\" maximum size of an integer might be $2^{63} - 1$ on a 64-bit system (which I'm using for this demo), so we'll treat that as a boundary.\n",
    "\n",
    "> As of python 3, the only size limit for an integer is the size of memory [[1]](https://docs.python.org/3/library/sys.html#sys.maxsize), but if you're using a library like Numpy which *does* impose a limit, you should check behavior below and above that limit. "
   ]
  },
  {
   "cell_type": "code",
   "execution_count": 23,
   "id": "062cc868-94e8-4cb9-984e-dc35460964ef",
   "metadata": {
    "ExecuteTime": {
     "start_time": "2023-09-22T18:43:28.179268Z"
    },
    "editable": true,
    "slideshow": {
     "slide_type": ""
    },
    "tags": []
   },
   "outputs": [],
   "source": [
    "a = 2**63-1  # prime factors: 7, 73, 127, 337, 92737, 649657, https://www.wikidata.org/wiki/Q10571632\n",
    "b = 649657 * 7 * 6  # the gcd is 649657 * 7 = 4547599 by construction\n",
    "assert gcd(a, b) == 4547599\n",
    "\n",
    "a = 2**63  # prime factors: 2 by construction\n",
    "b = 2**10  # 1024, for example\n",
    "assert gcd(a, b) == 1024\n",
    "\n",
    "a = 2**63+1  # prime factors: 3, 3, 3, 19, 43, 5419, 77158673929\n",
    "b = 43 * 5419 * 2  # the gcd is 43 * 5419 = 233017 by construction\n",
    "assert gcd(a, b) == 233017"
   ]
  },
  {
   "cell_type": "markdown",
   "id": "b9f32615-56da-466b-9b2f-a611d16e3a42",
   "metadata": {
    "editable": true,
    "slideshow": {
     "slide_type": "subslide"
    },
    "tags": []
   },
   "source": [
    "If we do the same test with a function which casts the values to numpy 64-bit integers, we get some errors:"
   ]
  },
  {
   "cell_type": "code",
   "execution_count": 24,
   "id": "b2b83f38-799b-4597-8e39-f26b21047778",
   "metadata": {
    "editable": true,
    "slideshow": {
     "slide_type": ""
    },
    "tags": [
     "raises-exception"
    ]
   },
   "outputs": [
    {
     "ename": "OverflowError",
     "evalue": "Python int too large to convert to C long",
     "output_type": "error",
     "traceback": [
      "\u001b[0;31m---------------------------------------------------------------------------\u001b[0m",
      "\u001b[0;31mOverflowError\u001b[0m                             Traceback (most recent call last)",
      "Cell \u001b[0;32mIn[24], line 9\u001b[0m\n\u001b[1;32m      7\u001b[0m a \u001b[38;5;241m=\u001b[39m \u001b[38;5;241m2\u001b[39m\u001b[38;5;241m*\u001b[39m\u001b[38;5;241m*\u001b[39m\u001b[38;5;241m63\u001b[39m  \u001b[38;5;66;03m# prime factors: 2 by construction\u001b[39;00m\n\u001b[1;32m      8\u001b[0m b \u001b[38;5;241m=\u001b[39m \u001b[38;5;241m2\u001b[39m\u001b[38;5;241m*\u001b[39m\u001b[38;5;241m*\u001b[39m\u001b[38;5;241m10\u001b[39m  \u001b[38;5;66;03m# 1024, for example\u001b[39;00m\n\u001b[0;32m----> 9\u001b[0m \u001b[38;5;28;01massert\u001b[39;00m \u001b[43mgcd_numpy\u001b[49m\u001b[43m(\u001b[49m\u001b[43ma\u001b[49m\u001b[43m,\u001b[49m\u001b[43m \u001b[49m\u001b[43mb\u001b[49m\u001b[43m)\u001b[49m \u001b[38;5;241m==\u001b[39m \u001b[38;5;241m1024\u001b[39m\n\u001b[1;32m     11\u001b[0m a \u001b[38;5;241m=\u001b[39m \u001b[38;5;241m2\u001b[39m\u001b[38;5;241m*\u001b[39m\u001b[38;5;241m*\u001b[39m\u001b[38;5;241m63\u001b[39m\u001b[38;5;241m+\u001b[39m\u001b[38;5;241m1\u001b[39m  \u001b[38;5;66;03m# prime factors: 3, 3, 3, 19, 43, 5419, 77158673929\u001b[39;00m\n\u001b[1;32m     12\u001b[0m b \u001b[38;5;241m=\u001b[39m \u001b[38;5;241m43\u001b[39m \u001b[38;5;241m*\u001b[39m \u001b[38;5;241m5419\u001b[39m \u001b[38;5;241m*\u001b[39m \u001b[38;5;241m2\u001b[39m  \u001b[38;5;66;03m# the gcd is 43 * 5419 = 233017 by construction\u001b[39;00m\n",
      "File \u001b[0;32m~/Developer/testingDSCoV/src/gcd/__init__.py:62\u001b[0m, in \u001b[0;36mgcd_numpy\u001b[0;34m(a, b)\u001b[0m\n\u001b[1;32m     60\u001b[0m \u001b[38;5;28;01mdef\u001b[39;00m \u001b[38;5;21mgcd_numpy\u001b[39m(a: np\u001b[38;5;241m.\u001b[39mint64, b: np\u001b[38;5;241m.\u001b[39mint64) \u001b[38;5;241m-\u001b[39m\u001b[38;5;241m>\u001b[39m \u001b[38;5;28mint\u001b[39m:\n\u001b[1;32m     61\u001b[0m \u001b[38;5;250m    \u001b[39m\u001b[38;5;124;03m\"\"\"Algorithm to calculate greatest common divisor of two integers\"\"\"\u001b[39;00m\n\u001b[0;32m---> 62\u001b[0m     a, b \u001b[38;5;241m=\u001b[39m \u001b[43mnp\u001b[49m\u001b[38;5;241;43m.\u001b[39;49m\u001b[43mint64\u001b[49m\u001b[43m(\u001b[49m\u001b[43ma\u001b[49m\u001b[43m)\u001b[49m, np\u001b[38;5;241m.\u001b[39mint64(b)\n\u001b[1;32m     64\u001b[0m     \u001b[38;5;28;01mif\u001b[39;00m \u001b[38;5;28mtype\u001b[39m(a) \u001b[38;5;129;01mis\u001b[39;00m \u001b[38;5;129;01mnot\u001b[39;00m np\u001b[38;5;241m.\u001b[39mint64 \u001b[38;5;129;01mor\u001b[39;00m \u001b[38;5;28mtype\u001b[39m(b) \u001b[38;5;129;01mis\u001b[39;00m \u001b[38;5;129;01mnot\u001b[39;00m np\u001b[38;5;241m.\u001b[39mint64:\n\u001b[1;32m     65\u001b[0m         \u001b[38;5;28;01mraise\u001b[39;00m \u001b[38;5;167;01mTypeError\u001b[39;00m(\u001b[38;5;124m\"\u001b[39m\u001b[38;5;124ma and b must be integers\u001b[39m\u001b[38;5;124m\"\u001b[39m)\n",
      "\u001b[0;31mOverflowError\u001b[0m: Python int too large to convert to C long"
     ]
    }
   ],
   "source": [
    "from gcd import gcd_numpy\n",
    "\n",
    "a = 2**63-1  # prime factors: 7, 73, 127, 337, 92737, 649657, https://www.wikidata.org/wiki/Q10571632\n",
    "b = 649657 * 7 * 6  # the gcd is 649657 * 7 = 4547599 by construction\n",
    "assert gcd_numpy(a, b) == 4547599\n",
    "\n",
    "a = 2**63  # prime factors: 2 by construction\n",
    "b = 2**10  # 1024, for example\n",
    "assert gcd_numpy(a, b) == 1024\n",
    "\n",
    "a = 2**63+1  # prime factors: 3, 3, 3, 19, 43, 5419, 77158673929\n",
    "b = 43 * 5419 * 2  # the gcd is 43 * 5419 = 233017 by construction\n",
    "assert gcd_numpy(a, b) == 233017"
   ]
  },
  {
   "cell_type": "markdown",
   "id": "97f02637-6f1c-49ad-a1d7-e66783d169fb",
   "metadata": {
    "editable": true,
    "slideshow": {
     "slide_type": "subslide"
    },
    "tags": []
   },
   "source": [
    "### Strings: empty, long, unicode\n",
    "\n",
    "In functions which operate on strings, test the behavior with strings which\n",
    "- are emtpy,\n",
    "- are very long compared to the \"normal\" case in your use case,\n",
    "- contain unicode characters.\n",
    "\n",
    "> Strings have a length limit of $(2^{63} - 1)\\,\\mathrm{B}$ – around $9\\,000\\,000\\,\\mathrm{TB}$. "
   ]
  },
  {
   "cell_type": "markdown",
   "id": "b96dc743-0002-4bfe-a9f0-bfeee24f9fdd",
   "metadata": {
    "editable": true,
    "jp-MarkdownHeadingCollapsed": true,
    "slideshow": {
     "slide_type": "subslide"
    },
    "tags": []
   },
   "source": [
    "### Lists, Arrays, Dictionaries: Mutable datatypes can cause very strange errors\n",
    "\n",
    "In python, it's easy to introduce a fault which causes function to change its output each time you run it, even with the same inputs – check that a function returns the same output for the same input:"
   ]
  },
  {
   "cell_type": "code",
   "execution_count": 25,
   "id": "7a177c80-a422-446f-83c7-3f68aa48aebf",
   "metadata": {
    "ExecuteTime": {
     "start_time": "2023-09-22T18:43:28.180567Z"
    },
    "editable": true,
    "slideshow": {
     "slide_type": ""
    },
    "tags": []
   },
   "outputs": [
    {
     "name": "stdout",
     "output_type": "stream",
     "text": [
      "Help on function append in module gcd:\n",
      "\n",
      "append(value: Any, the_list: Optional[list] = [])\n",
      "    Appends a value to a list, and if the list isn't given, return the value on a new list.\n",
      "    \n",
      "    :param value: the value to append to `list`\n",
      "    :type value: Any\n",
      "    \n",
      "    :param the_list: the list to append to, defaults to an empty list\n",
      "    :type the_list: list, optional\n",
      "\n"
     ]
    }
   ],
   "source": [
    "# Example of a function which displays this behavior\n",
    "from gcd import append\n",
    "help(append)"
   ]
  },
  {
   "cell_type": "code",
   "execution_count": 26,
   "id": "2101be12-255a-4dd4-9a84-40f26eafa98c",
   "metadata": {
    "ExecuteTime": {
     "start_time": "2023-09-22T18:43:28.180567Z"
    },
    "editable": true,
    "slideshow": {
     "slide_type": ""
    },
    "tags": []
   },
   "outputs": [
    {
     "data": {
      "text/plain": [
       "[1]"
      ]
     },
     "execution_count": 26,
     "metadata": {},
     "output_type": "execute_result"
    }
   ],
   "source": [
    "# Works fine if we give it a list to extend:\n",
    "append(1, [])  # should return [1]"
   ]
  },
  {
   "cell_type": "code",
   "execution_count": 27,
   "id": "3f5b31ca-a4d5-4716-a7ef-09e8759bf46f",
   "metadata": {
    "ExecuteTime": {
     "start_time": "2023-09-22T18:43:28.181804Z"
    },
    "editable": true,
    "slideshow": {
     "slide_type": ""
    },
    "tags": []
   },
   "outputs": [],
   "source": [
    "assert append(1, []) == [1]"
   ]
  },
  {
   "cell_type": "markdown",
   "id": "b7d9a11f-82f7-47ec-8cdd-7ad7a14bc8e9",
   "metadata": {
    "editable": true,
    "slideshow": {
     "slide_type": ""
    },
    "tags": []
   },
   "source": [
    "If we don't give it a list to extend, it breaks:"
   ]
  },
  {
   "cell_type": "code",
   "execution_count": 28,
   "id": "85b908a1-004f-4951-a90b-f774b408cfa7",
   "metadata": {
    "ExecuteTime": {
     "start_time": "2023-09-22T18:43:28.183086Z"
    },
    "editable": true,
    "slideshow": {
     "slide_type": ""
    },
    "tags": [
     "raises-exception"
    ]
   },
   "outputs": [],
   "source": [
    "assert append(1) == [1]"
   ]
  },
  {
   "cell_type": "code",
   "execution_count": 29,
   "id": "94fa3fa8-74b0-4154-8bb8-3be7a98b6deb",
   "metadata": {
    "ExecuteTime": {
     "start_time": "2023-09-22T18:43:28.184096Z"
    },
    "editable": true,
    "slideshow": {
     "slide_type": ""
    },
    "tags": [
     "raises-exception"
    ]
   },
   "outputs": [
    {
     "ename": "AssertionError",
     "evalue": "",
     "output_type": "error",
     "traceback": [
      "\u001b[0;31m---------------------------------------------------------------------------\u001b[0m",
      "\u001b[0;31mAssertionError\u001b[0m                            Traceback (most recent call last)",
      "Cell \u001b[0;32mIn[29], line 1\u001b[0m\n\u001b[0;32m----> 1\u001b[0m \u001b[38;5;28;01massert\u001b[39;00m append(\u001b[38;5;241m2\u001b[39m) \u001b[38;5;241m==\u001b[39m [\u001b[38;5;241m2\u001b[39m]   \u001b[38;5;66;03m# should return [2]!!!\u001b[39;00m\n",
      "\u001b[0;31mAssertionError\u001b[0m: "
     ]
    }
   ],
   "source": [
    "assert append(2) == [2]   # should return [2]!!!"
   ]
  },
  {
   "cell_type": "markdown",
   "id": "72ae13c1-da24-4120-9321-38de26bd221d",
   "metadata": {
    "editable": true,
    "slideshow": {
     "slide_type": "subslide"
    },
    "tags": []
   },
   "source": [
    "What's going on? Let's try to debug this function:"
   ]
  },
  {
   "cell_type": "code",
   "execution_count": 30,
   "id": "454bfa50-b1fe-4920-8412-42ec6b605efd",
   "metadata": {
    "ExecuteTime": {
     "start_time": "2023-09-22T18:43:28.184978Z"
    },
    "editable": true,
    "slideshow": {
     "slide_type": ""
    },
    "tags": []
   },
   "outputs": [
    {
     "data": {
      "text/plain": [
       "[1, 2, 2]"
      ]
     },
     "execution_count": 30,
     "metadata": {},
     "output_type": "execute_result"
    }
   ],
   "source": [
    "append(2)"
   ]
  },
  {
   "cell_type": "markdown",
   "id": "51a38a2a-72ab-447a-b5bb-5f9a89435031",
   "metadata": {
    "editable": true,
    "slideshow": {
     "slide_type": ""
    },
    "tags": []
   },
   "source": [
    "The default value of `the_list` is getting extended each time we run the function."
   ]
  },
  {
   "cell_type": "markdown",
   "id": "bdd856a4-197f-405a-95c7-db91ac30eeb7",
   "metadata": {
    "editable": true,
    "slideshow": {
     "slide_type": "subslide"
    },
    "tags": []
   },
   "source": [
    "You might think that you can check this by running a test like this:"
   ]
  },
  {
   "cell_type": "code",
   "execution_count": 31,
   "id": "671768c1-3aa7-4678-973c-f10a9fa24c88",
   "metadata": {
    "ExecuteTime": {
     "start_time": "2023-09-22T18:43:28.185970Z"
    },
    "editable": true,
    "slideshow": {
     "slide_type": ""
    },
    "tags": []
   },
   "outputs": [],
   "source": [
    "assert append(3) == append(3)  # passes unexpectedly!"
   ]
  },
  {
   "cell_type": "markdown",
   "id": "51f73dbe-2073-450a-a098-7943db74bcf4",
   "metadata": {
    "editable": true,
    "slideshow": {
     "slide_type": ""
    },
    "tags": []
   },
   "source": [
    "... but the error is so insidious that this test fails! Both functions are appending to the same list! \n",
    "You actually need to store a copy of the value from the first run and compare it later:"
   ]
  },
  {
   "cell_type": "code",
   "execution_count": 32,
   "id": "4b07bd79-35e9-4168-b300-b94429e43722",
   "metadata": {
    "ExecuteTime": {
     "start_time": "2023-09-22T18:43:28.186807Z"
    },
    "editable": true,
    "slideshow": {
     "slide_type": ""
    },
    "tags": [
     "raises-exception"
    ]
   },
   "outputs": [
    {
     "ename": "AssertionError",
     "evalue": "[1, 2, 2, 3, 3, 4] != [1, 2, 2, 3, 3, 4, 4]",
     "output_type": "error",
     "traceback": [
      "\u001b[0;31m---------------------------------------------------------------------------\u001b[0m",
      "\u001b[0;31mAssertionError\u001b[0m                            Traceback (most recent call last)",
      "Cell \u001b[0;32mIn[32], line 4\u001b[0m\n\u001b[1;32m      1\u001b[0m first_result \u001b[38;5;241m=\u001b[39m copy\u001b[38;5;241m.\u001b[39mdeepcopy(append(\u001b[38;5;241m4\u001b[39m))\n\u001b[1;32m      2\u001b[0m second_result \u001b[38;5;241m=\u001b[39m copy\u001b[38;5;241m.\u001b[39mdeepcopy(append(\u001b[38;5;241m4\u001b[39m))\n\u001b[0;32m----> 4\u001b[0m \u001b[38;5;28;01massert\u001b[39;00m first_result \u001b[38;5;241m==\u001b[39m second_result, \u001b[38;5;124m\"\u001b[39m\u001b[38;5;132;01m%s\u001b[39;00m\u001b[38;5;124m != \u001b[39m\u001b[38;5;132;01m%s\u001b[39;00m\u001b[38;5;124m\"\u001b[39m \u001b[38;5;241m%\u001b[39m (first_result, second_result)\n",
      "\u001b[0;31mAssertionError\u001b[0m: [1, 2, 2, 3, 3, 4] != [1, 2, 2, 3, 3, 4, 4]"
     ]
    }
   ],
   "source": [
    "first_result = copy.deepcopy(append(4))\n",
    "second_result = copy.deepcopy(append(4))\n",
    "\n",
    "assert first_result == second_result, \"%s != %s\" % (first_result, second_result)"
   ]
  },
  {
   "cell_type": "markdown",
   "id": "d489a036-8657-4947-b1ce-b355877dda14",
   "metadata": {
    "editable": true,
    "slideshow": {
     "slide_type": "skip"
    },
    "tags": []
   },
   "source": [
    "To fix this, we replace the mutable list in the function with a `None`:"
   ]
  },
  {
   "cell_type": "code",
   "execution_count": 33,
   "id": "064c0d72-3d2c-4423-b5f7-284f7216b762",
   "metadata": {
    "ExecuteTime": {
     "start_time": "2023-09-22T18:43:28.187652Z"
    },
    "editable": true,
    "slideshow": {
     "slide_type": "skip"
    },
    "tags": []
   },
   "outputs": [],
   "source": [
    "from gcd import append_fixed\n",
    "\n",
    "first_result = copy.deepcopy(append_fixed(4))\n",
    "second_result = copy.deepcopy(append_fixed(4))\n",
    "\n",
    "assert first_result == second_result, \"%s != %s\" % (first_result, second_result)"
   ]
  },
  {
   "cell_type": "markdown",
   "id": "09c9c69c-5b15-4d7e-adf3-efee50d787a0",
   "metadata": {
    "editable": true,
    "slideshow": {
     "slide_type": "subslide"
    },
    "tags": []
   },
   "source": [
    "In the context of our `gcd` function, the test would be:"
   ]
  },
  {
   "cell_type": "code",
   "execution_count": 34,
   "id": "20054dc5-94f9-4ced-bcdb-d9a05278aba3",
   "metadata": {
    "ExecuteTime": {
     "start_time": "2023-09-22T18:43:28.188515Z"
    },
    "editable": true,
    "slideshow": {
     "slide_type": ""
    },
    "tags": []
   },
   "outputs": [],
   "source": [
    "first_gcd = copy.deepcopy(gcd(32, 8))\n",
    "second_gcd = copy.deepcopy(gcd(32, 8))\n",
    "\n",
    "assert first_gcd == second_gcd, \"%s != %s\" % (first_gcd, second_gcd)"
   ]
  },
  {
   "cell_type": "markdown",
   "id": "44a806d9-0189-4786-b51e-cb7cb9775e6c",
   "metadata": {
    "editable": true,
    "jp-MarkdownHeadingCollapsed": true,
    "slideshow": {
     "slide_type": "subslide"
    },
    "tags": []
   },
   "source": [
    "### Write a **regression test** test for every bug\n",
    "\n",
    "A rich source of errors is *faults which were already fixed*. If a faults re-emerges, it is called a **regression**.\n",
    "\n",
    "So, every time you find a bug: \n",
    "\n",
    "- Make a test case which fails because of the bug.\n",
    "- Fix the bug (so the test case passes)\n",
    "- Leave the test case in your testing library."
   ]
  },
  {
   "cell_type": "markdown",
   "id": "70e628de-ed37-46f6-808b-791dd1d6a2bd",
   "metadata": {
    "editable": true,
    "slideshow": {
     "slide_type": "subslide"
    },
    "tags": []
   },
   "source": [
    "### Testing can ensure we don't regress when we upgrade, and we can leverage **existing implementations** if we have them\n",
    "\n",
    "When we reimplement something, we can also introduce regressions. By comparing outputs, we can ensure that the new implementation is equivalent to the new implementation."
   ]
  },
  {
   "cell_type": "markdown",
   "id": "b6ac563d-404e-4afb-8a60-f0151ff51983",
   "metadata": {
    "ExecuteTime": {
     "start_time": "2023-09-22T18:43:28.198867Z"
    },
    "editable": true,
    "slideshow": {
     "slide_type": "subslide"
    },
    "tags": []
   },
   "source": [
    "Suppose we want to test an implementation of the Euclidean GCD algorithm which I copied from [geeksforgeeks.org](https://www.geeksforgeeks.org/euclidean-algorithms-basic-and-extended/): "
   ]
  },
  {
   "cell_type": "code",
   "execution_count": 35,
   "id": "4d60bcd9-ac63-455e-bcbb-6d5dbb64b13c",
   "metadata": {
    "editable": true,
    "slideshow": {
     "slide_type": ""
    },
    "tags": []
   },
   "outputs": [],
   "source": [
    "from gcd import gcd_euclidean\n",
    "\n",
    "assert gcd_euclidean(4, 12) == 4\n",
    "assert gcd_euclidean(71383, 27455) == 5491  # from an earlier test using prime factors"
   ]
  },
  {
   "cell_type": "markdown",
   "id": "e3406a19-e03b-441f-8ea7-01cf5adb0426",
   "metadata": {
    "editable": true,
    "slideshow": {
     "slide_type": "slide"
    },
    "tags": []
   },
   "source": [
    "It looks good! It might even be a lot faster than our existing code:"
   ]
  },
  {
   "cell_type": "code",
   "execution_count": 36,
   "id": "c4a3e2ae-1aab-41af-b6da-0b945134d557",
   "metadata": {
    "editable": true,
    "slideshow": {
     "slide_type": ""
    },
    "tags": []
   },
   "outputs": [
    {
     "name": "stdout",
     "output_type": "stream",
     "text": [
      "369 ns ± 1.36 ns per loop (mean ± std. dev. of 7 runs, 1,000,000 loops each)\n"
     ]
    }
   ],
   "source": [
    "%timeit gcd_euclidean(71383, 27455)"
   ]
  },
  {
   "cell_type": "code",
   "execution_count": 37,
   "id": "916aa632-5141-43a2-90f8-ee27d3004d72",
   "metadata": {
    "editable": true,
    "slideshow": {
     "slide_type": ""
    },
    "tags": []
   },
   "outputs": [
    {
     "name": "stdout",
     "output_type": "stream",
     "text": [
      "1.2 ms ± 1.7 µs per loop (mean ± std. dev. of 7 runs, 1,000 loops each)\n"
     ]
    }
   ],
   "source": [
    "%timeit gcd(71383, 27455)"
   ]
  },
  {
   "cell_type": "markdown",
   "id": "190b16d5-1c22-4d53-a3e2-bebb575e3a6b",
   "metadata": {
    "editable": true,
    "slideshow": {
     "slide_type": ""
    },
    "tags": []
   },
   "source": [
    "Wow! A speed up of $\\times 3000$! Amazing!"
   ]
  },
  {
   "cell_type": "markdown",
   "id": "eea3b8c7-9f80-4dba-87d6-a45bd9f974b4",
   "metadata": {
    "editable": true,
    "slideshow": {
     "slide_type": "subslide"
    },
    "tags": []
   },
   "source": [
    "#### We can use a reference implementation to show that `gcd_euclidean`, though fast, is defective\n",
    "\n",
    "Let's test it against our existing reference implementation, just to see if it's working for all the values we are already confident in. "
   ]
  },
  {
   "cell_type": "code",
   "execution_count": 38,
   "id": "cefb8238-bc32-4058-859b-226eb301e0a1",
   "metadata": {
    "editable": true,
    "slideshow": {
     "slide_type": ""
    },
    "tags": [
     "raises-exception"
    ]
   },
   "outputs": [
    {
     "ename": "NameError",
     "evalue": "name 'given' is not defined",
     "output_type": "error",
     "traceback": [
      "\u001b[0;31m---------------------------------------------------------------------------\u001b[0m",
      "\u001b[0;31mNameError\u001b[0m                                 Traceback (most recent call last)",
      "Cell \u001b[0;32mIn[38], line 1\u001b[0m\n\u001b[0;32m----> 1\u001b[0m \u001b[38;5;129m@given\u001b[39m(strategies\u001b[38;5;241m.\u001b[39mintegers(), strategies\u001b[38;5;241m.\u001b[39mintegers())\n\u001b[1;32m      2\u001b[0m \u001b[38;5;28;01mdef\u001b[39;00m \u001b[38;5;21mtest_gcd_euclidean_against_reference\u001b[39m(a, b):\n\u001b[1;32m      3\u001b[0m     assume(\u001b[38;5;241m0\u001b[39m \u001b[38;5;241m<\u001b[39m\u001b[38;5;241m=\u001b[39m a \u001b[38;5;241m<\u001b[39m \u001b[38;5;241m4_000_000\u001b[39m \u001b[38;5;129;01mand\u001b[39;00m \u001b[38;5;241m0\u001b[39m \u001b[38;5;241m<\u001b[39m\u001b[38;5;241m=\u001b[39m b \u001b[38;5;241m<\u001b[39m \u001b[38;5;241m4_000_000\u001b[39m)\n\u001b[1;32m      4\u001b[0m     \u001b[38;5;28;01massert\u001b[39;00m gcd(a, b) \u001b[38;5;241m==\u001b[39m gcd_euclidean(a, b)\n",
      "\u001b[0;31mNameError\u001b[0m: name 'given' is not defined"
     ]
    }
   ],
   "source": [
    "@given(strategies.integers(), strategies.integers())\n",
    "def test_gcd_euclidean_against_reference(a, b):\n",
    "    assume(0 <= a < 4_000_000 and 0 <= b < 4_000_000)\n",
    "    assert gcd(a, b) == gcd_euclidean(a, b)\n",
    "\n",
    "test_gcd_euclidean_against_reference()"
   ]
  },
  {
   "cell_type": "markdown",
   "id": "11af25e0-7ca1-4552-95d8-ab83c59ef14f",
   "metadata": {
    "editable": true,
    "slideshow": {
     "slide_type": ""
    },
    "tags": []
   },
   "source": [
    "Oh no! It's failing in the case where one of the values is zero. "
   ]
  },
  {
   "cell_type": "markdown",
   "id": "9dd5f258-eb7b-443a-8d94-3b10c09917b5",
   "metadata": {
    "editable": true,
    "jp-MarkdownHeadingCollapsed": true,
    "slideshow": {
     "slide_type": "slide"
    },
    "tags": []
   },
   "source": [
    "## **Property-based testing** helps check more values and locate minimal failing cases\n",
    "\n",
    "Property-based testing libraries like [`hypothesis`](https://hypothesis.readthedocs.io/): \n",
    "- Check that invariant properties of a function are fulfilled for a range of input values.\n",
    "- \"Shrinking\" inputs which cause errors systematically to find the \"minimal\" failing case.\n",
    "\n",
    "You can convert existing \"Example-based\" tests into property-based tests.\n",
    "\n",
    "We start with the basic behavior – the output types and the symmetry between the input values:"
   ]
  },
  {
   "cell_type": "code",
   "execution_count": 39,
   "id": "208b5a55-9be3-47f3-897b-2a9f9a2567c4",
   "metadata": {
    "ExecuteTime": {
     "start_time": "2023-09-22T18:43:28.189378Z"
    },
    "editable": true,
    "slideshow": {
     "slide_type": ""
    },
    "tags": []
   },
   "outputs": [],
   "source": [
    "from hypothesis import given, strategies, assume\n",
    "\n",
    "@given(strategies.integers(), strategies.integers())\n",
    "def test_gcd_type_symmetry(a, b):\n",
    "    # Set the boundaries we'll test within. Valid inputs are >= 0\n",
    "    # Values > 4_000_000 took too long, so limit the upper range.\n",
    "    assume(0 <= a < 4_000_000 and 0 <= b < 4_000_000)\n",
    "    \n",
    "    # Calculate the result\n",
    "    result = gcd(a, b)\n",
    "\n",
    "    # Check the type and sign\n",
    "    assert type(result) is int\n",
    "    assert result >= 0\n",
    "\n",
    "    # Check the results are the same when we swap a and b\n",
    "    result_swapped = gcd(b, a)\n",
    "    assert result == result_swapped\n",
    "\n",
    "test_gcd_type_symmetry()"
   ]
  },
  {
   "cell_type": "markdown",
   "id": "a691fb8b279bb732",
   "metadata": {
    "collapsed": false,
    "jupyter": {
     "outputs_hidden": false
    }
   },
   "source": [
    "We can also check the degenerate cases.\n",
    "$\\gcd(x, 1) = 1, x \\geq 1$:"
   ]
  },
  {
   "cell_type": "code",
   "execution_count": 40,
   "id": "ec0b6d45defbd0fb",
   "metadata": {
    "ExecuteTime": {
     "start_time": "2023-09-22T18:43:28.190171Z"
    },
    "collapsed": false,
    "jupyter": {
     "outputs_hidden": false
    }
   },
   "outputs": [],
   "source": [
    "@given(strategies.integers())\n",
    "def test_gcd_type_one(a):\n",
    "    # Calculate the result\n",
    "    assume(1 <= a)\n",
    "    assert gcd(a, 1) == 1\n",
    "\n",
    "test_gcd_type_one()"
   ]
  },
  {
   "cell_type": "markdown",
   "id": "dcab8ea089c46370",
   "metadata": {
    "collapsed": false,
    "jupyter": {
     "outputs_hidden": false
    }
   },
   "source": [
    "$\\gcd(x, 0) = 0$:"
   ]
  },
  {
   "cell_type": "code",
   "execution_count": 41,
   "id": "fc5bca599fba677a",
   "metadata": {
    "ExecuteTime": {
     "start_time": "2023-09-22T18:43:28.191004Z"
    },
    "collapsed": false,
    "jupyter": {
     "outputs_hidden": false
    }
   },
   "outputs": [],
   "source": [
    "@given(strategies.integers())\n",
    "def test_gcd_type_zero(a):\n",
    "    # Calculate the result\n",
    "    assume(0 <= a)\n",
    "    assert gcd(a, 0) == 0\n",
    "\n",
    "test_gcd_type_zero()"
   ]
  },
  {
   "cell_type": "markdown",
   "id": "3460d31303693f6f",
   "metadata": {
    "editable": true,
    "slideshow": {
     "slide_type": "slide"
    },
    "tags": []
   },
   "source": [
    "If you are able to construct cases at random where you know the correct result, then do that too.\n",
    "\n",
    "We can use the fact that for two numbers the $\\gcd$ is the product of the intersection of their \n",
    "prime factors (or 1, if they have no matching factors)."
   ]
  },
  {
   "cell_type": "markdown",
   "id": "3abc6e0a-cb3a-4f94-a566-1384ca399e68",
   "metadata": {
    "collapsed": false,
    "editable": true,
    "jupyter": {
     "outputs_hidden": false
    },
    "slideshow": {
     "slide_type": "subslide"
    },
    "tags": []
   },
   "source": [
    "We make a way to generate lists of primes (with replacement):"
   ]
  },
  {
   "cell_type": "code",
   "execution_count": 42,
   "id": "686c8bb1138d9701",
   "metadata": {
    "ExecuteTime": {
     "start_time": "2023-09-22T18:43:28.191814Z"
    },
    "collapsed": false,
    "jupyter": {
     "outputs_hidden": false
    }
   },
   "outputs": [
    {
     "data": {
      "text/plain": [
       "[2]"
      ]
     },
     "execution_count": 42,
     "metadata": {},
     "output_type": "execute_result"
    }
   ],
   "source": [
    "from functools import reduce\n",
    "from sympy import primerange\n",
    "\n",
    "list_of_primes_strategy = strategies.lists(\n",
    "    strategies.sampled_from(\n",
    "        list(primerange(0, 30)) \n",
    "    ), \n",
    "    min_size=0, \n",
    "    max_size=30,\n",
    "    unique=False\n",
    ")\n",
    " \n",
    "list_of_primes_strategy.example()"
   ]
  },
  {
   "cell_type": "markdown",
   "id": "51f9a44dc0d8ff4f",
   "metadata": {
    "collapsed": false,
    "editable": true,
    "jupyter": {
     "outputs_hidden": false
    },
    "slideshow": {
     "slide_type": "subslide"
    },
    "tags": []
   },
   "source": [
    "We need to find the product of a list of integers:"
   ]
  },
  {
   "cell_type": "code",
   "execution_count": 43,
   "id": "4de1dc7cd40c5a15",
   "metadata": {
    "ExecuteTime": {
     "start_time": "2023-09-22T18:43:28.192631Z"
    },
    "collapsed": false,
    "jupyter": {
     "outputs_hidden": false
    }
   },
   "outputs": [],
   "source": [
    "def product(x: list[int]):\n",
    "    if len(x) == 0:\n",
    "        result = 0\n",
    "    else:\n",
    "        result = reduce(lambda x, y: x * y, x, 1)\n",
    "    return result\n",
    "\n",
    "# Plausibility checks:\n",
    "assert product([]) == 0\n",
    "assert product([1]) == 1\n",
    "assert product([1, 2]) == 2\n",
    "assert product([3]) == 3\n",
    "assert product([3]) == 3\n",
    "assert product([3, 3, 3]) == 27\n",
    "assert product([3, 3, 3, 2]) == 54"
   ]
  },
  {
   "cell_type": "markdown",
   "id": "7171fcd73f6faeb4",
   "metadata": {
    "collapsed": false,
    "editable": true,
    "jupyter": {
     "outputs_hidden": false
    },
    "slideshow": {
     "slide_type": "subslide"
    },
    "tags": []
   },
   "source": [
    "Here is the product of an example list of primes:"
   ]
  },
  {
   "cell_type": "code",
   "execution_count": 44,
   "id": "23a382d8135ff04e",
   "metadata": {
    "ExecuteTime": {
     "start_time": "2023-09-22T18:43:28.193499Z"
    },
    "collapsed": false,
    "jupyter": {
     "outputs_hidden": false
    }
   },
   "outputs": [
    {
     "name": "stdout",
     "output_type": "stream",
     "text": [
      "the_primes=[17, 5, 29, 29, 17, 19, 11, 19, 17], product(the_primes)=82037544215\n"
     ]
    }
   ],
   "source": [
    "the_primes = list_of_primes_strategy.example()\n",
    "print(f\"{the_primes=}, {product(the_primes)=}\") "
   ]
  },
  {
   "cell_type": "markdown",
   "id": "ec78368b58258534",
   "metadata": {
    "collapsed": false,
    "editable": true,
    "jupyter": {
     "outputs_hidden": false
    },
    "slideshow": {
     "slide_type": "subslide"
    },
    "tags": []
   },
   "source": [
    "We also need to get the common prime factors from two lists: "
   ]
  },
  {
   "cell_type": "code",
   "execution_count": 45,
   "id": "86d87c28d74d4b6e",
   "metadata": {
    "ExecuteTime": {
     "start_time": "2023-09-22T18:43:28.194521Z"
    },
    "collapsed": false,
    "jupyter": {
     "outputs_hidden": false
    }
   },
   "outputs": [],
   "source": [
    "from collections import Counter\n",
    "\n",
    "def get_common_elements(ai: list[int], bi: list[int]) -> list[int]:\n",
    "    # From https://stackoverflow.com/a/37645155, with thanks to \"miradulo\"\n",
    "    common_elements = list((Counter(ai) & Counter(bi)).elements())\n",
    "    return common_elements\n",
    "\n",
    "# And test it\n",
    "assert get_common_elements([], []) == []\n",
    "assert get_common_elements([1], []) == []\n",
    "assert get_common_elements([], [1]) == []\n",
    "assert get_common_elements([1], [1]) == [1]\n",
    "assert get_common_elements([1], [2]) == []\n",
    "assert get_common_elements([1, 1], [1]) == [1]\n",
    "assert get_common_elements([1, 1], [1, 1]) == [1, 1]\n",
    "assert get_common_elements([1, 2], [1, 2]) == [1, 2]\n",
    "assert get_common_elements([1, 2], [3]) == []\n",
    "    "
   ]
  },
  {
   "cell_type": "markdown",
   "id": "722ad29b82c0efef",
   "metadata": {
    "collapsed": false,
    "editable": true,
    "jupyter": {
     "outputs_hidden": false
    },
    "slideshow": {
     "slide_type": "subslide"
    },
    "tags": []
   },
   "source": [
    "Now we can construct as many middle-of-the-road examples as we like:"
   ]
  },
  {
   "cell_type": "code",
   "execution_count": 46,
   "id": "dbdb7ada-51bf-45e3-8901-932b71e40f14",
   "metadata": {
    "ExecuteTime": {
     "start_time": "2023-09-22T18:43:28.195490Z"
    },
    "editable": true,
    "slideshow": {
     "slide_type": ""
    },
    "tags": []
   },
   "outputs": [
    {
     "name": "stdout",
     "output_type": "stream",
     "text": [
      "a=1, b=1, a_prime_factors=[], b_prime_factors=[], common_factors=[1], known_gcd=1, calculated_gcd=1\n",
      "a=1, b=2, a_prime_factors=[], b_prime_factors=[2], common_factors=[1], known_gcd=1, calculated_gcd=1\n",
      "a=2, b=1, a_prime_factors=[2], b_prime_factors=[], common_factors=[1], known_gcd=1, calculated_gcd=1\n",
      "a=2, b=1, a_prime_factors=[2], b_prime_factors=[], common_factors=[1], known_gcd=1, calculated_gcd=1\n",
      "a=2, b=1, a_prime_factors=[2], b_prime_factors=[], common_factors=[1], known_gcd=1, calculated_gcd=1\n",
      "a=2, b=1, a_prime_factors=[2], b_prime_factors=[], common_factors=[1], known_gcd=1, calculated_gcd=1\n",
      "a=1, b=2, a_prime_factors=[], b_prime_factors=[2], common_factors=[1], known_gcd=1, calculated_gcd=1\n",
      "a=1, b=1, a_prime_factors=[], b_prime_factors=[], common_factors=[1], known_gcd=1, calculated_gcd=1\n",
      "a=1, b=2, a_prime_factors=[], b_prime_factors=[2], common_factors=[1], known_gcd=1, calculated_gcd=1\n",
      "a=2, b=1, a_prime_factors=[2], b_prime_factors=[], common_factors=[1], known_gcd=1, calculated_gcd=1\n",
      "a=2, b=1, a_prime_factors=[2], b_prime_factors=[], common_factors=[1], known_gcd=1, calculated_gcd=1\n",
      "a=1, b=308, a_prime_factors=[], b_prime_factors=[2, 2, 7, 11], common_factors=[1], known_gcd=1, calculated_gcd=1\n",
      "a=1, b=1, a_prime_factors=[], b_prime_factors=[], common_factors=[1], known_gcd=1, calculated_gcd=1\n",
      "a=2832795, b=1127, a_prime_factors=[3, 5, 23, 23, 17, 7, 3], b_prime_factors=[7, 23, 7], common_factors=[1, 23, 7], known_gcd=161, calculated_gcd=161\n",
      "a=1, b=145, a_prime_factors=[], b_prime_factors=[5, 29], common_factors=[1], known_gcd=1, calculated_gcd=1\n",
      "a=145, b=145, a_prime_factors=[5, 29], b_prime_factors=[5, 29], common_factors=[1, 5, 29], known_gcd=145, calculated_gcd=145\n",
      "a=5, b=29, a_prime_factors=[5], b_prime_factors=[29], common_factors=[1], known_gcd=1, calculated_gcd=1\n",
      "a=29, b=29, a_prime_factors=[29], b_prime_factors=[29], common_factors=[1, 29], known_gcd=29, calculated_gcd=29\n",
      "a=29, b=29, a_prime_factors=[29], b_prime_factors=[29], common_factors=[1, 29], known_gcd=29, calculated_gcd=29\n",
      "a=1, b=58, a_prime_factors=[], b_prime_factors=[2, 29], common_factors=[1], known_gcd=1, calculated_gcd=1\n",
      "a=3, b=29, a_prime_factors=[3], b_prime_factors=[29], common_factors=[1], known_gcd=1, calculated_gcd=1\n",
      "a=1, b=15341, a_prime_factors=[], b_prime_factors=[23, 29, 23], common_factors=[1], known_gcd=1, calculated_gcd=1\n",
      "a=1, b=6, a_prime_factors=[], b_prime_factors=[3, 2], common_factors=[1], known_gcd=1, calculated_gcd=1\n",
      "a=1, b=5887, a_prime_factors=[], b_prime_factors=[29, 29, 7], common_factors=[1], known_gcd=1, calculated_gcd=1\n",
      "a=121, b=121, a_prime_factors=[11, 11], b_prime_factors=[11, 11], common_factors=[1, 11, 11], known_gcd=121, calculated_gcd=121\n",
      "a=209, b=121, a_prime_factors=[19, 11], b_prime_factors=[11, 11], common_factors=[1, 11], known_gcd=11, calculated_gcd=11\n",
      "a=21, b=70, a_prime_factors=[7, 3], b_prime_factors=[2, 5, 7], common_factors=[1, 7], known_gcd=7, calculated_gcd=7\n",
      "a=21, b=70, a_prime_factors=[7, 3], b_prime_factors=[2, 5, 7], common_factors=[1, 7], known_gcd=7, calculated_gcd=7\n",
      "a=1, b=1547, a_prime_factors=[], b_prime_factors=[17, 13, 7], common_factors=[1], known_gcd=1, calculated_gcd=1\n",
      "a=1, b=455, a_prime_factors=[], b_prime_factors=[5, 13, 7], common_factors=[1], known_gcd=1, calculated_gcd=1\n",
      "a=442221, b=595, a_prime_factors=[13, 23, 29, 17, 3], b_prime_factors=[7, 5, 17], common_factors=[1, 17], known_gcd=17, calculated_gcd=17\n",
      "a=1, b=7, a_prime_factors=[], b_prime_factors=[7], common_factors=[1], known_gcd=1, calculated_gcd=1\n",
      "a=6555, b=1312311, a_prime_factors=[3, 19, 5, 23], b_prime_factors=[23, 3, 11, 19, 7, 13], common_factors=[1, 3, 19, 23], known_gcd=1311, calculated_gcd=1311\n",
      "a=6555, b=1312311, a_prime_factors=[3, 19, 5, 23], b_prime_factors=[23, 3, 11, 19, 7, 13], common_factors=[1, 3, 19, 23], known_gcd=1311, calculated_gcd=1311\n",
      "a=50255, b=1312311, a_prime_factors=[23, 19, 5, 23], b_prime_factors=[23, 3, 11, 19, 7, 13], common_factors=[1, 23, 19], known_gcd=437, calculated_gcd=437\n",
      "a=455, b=1789515, a_prime_factors=[7, 5, 13], b_prime_factors=[5, 13, 19, 23, 7, 3, 3], common_factors=[1, 7, 5, 13], known_gcd=455, calculated_gcd=455\n",
      "a=1, b=319, a_prime_factors=[], b_prime_factors=[29, 11], common_factors=[1], known_gcd=1, calculated_gcd=1\n",
      "a=319, b=319, a_prime_factors=[29, 11], b_prime_factors=[29, 11], common_factors=[1, 29, 11], known_gcd=319, calculated_gcd=319\n",
      "a=1, b=11, a_prime_factors=[], b_prime_factors=[11], common_factors=[1], known_gcd=1, calculated_gcd=1\n",
      "a=121, b=55913, a_prime_factors=[11, 11], b_prime_factors=[23, 13, 17, 11], common_factors=[1, 11], known_gcd=11, calculated_gcd=11\n",
      "a=121, b=26741, a_prime_factors=[11, 11], b_prime_factors=[11, 13, 17, 11], common_factors=[1, 11, 11], known_gcd=121, calculated_gcd=121\n",
      "a=121, b=26741, a_prime_factors=[11, 11], b_prime_factors=[11, 13, 17, 11], common_factors=[1, 11, 11], known_gcd=121, calculated_gcd=121\n",
      "a=11, b=347633, a_prime_factors=[11], b_prime_factors=[13, 11, 13, 17, 11], common_factors=[1, 11], known_gcd=11, calculated_gcd=11\n",
      "a=1, b=493, a_prime_factors=[], b_prime_factors=[29, 17], common_factors=[1], known_gcd=1, calculated_gcd=1\n",
      "a=45, b=2, a_prime_factors=[3, 3, 5], b_prime_factors=[2], common_factors=[1], known_gcd=1, calculated_gcd=1\n",
      "a=1, b=255, a_prime_factors=[], b_prime_factors=[3, 17, 5], common_factors=[1], known_gcd=1, calculated_gcd=1\n",
      "a=1, b=78030, a_prime_factors=[], b_prime_factors=[3, 17, 5, 2, 17, 3, 3], common_factors=[1], known_gcd=1, calculated_gcd=1\n",
      "a=78030, b=78030, a_prime_factors=[3, 17, 5, 2, 17, 3, 3], b_prime_factors=[3, 17, 5, 2, 17, 3, 3], common_factors=[1, 3, 3, 3, 17, 17, 5, 2], known_gcd=78030, calculated_gcd=78030\n",
      "a=13770, b=78030, a_prime_factors=[3, 3, 5, 2, 17, 3, 3], b_prime_factors=[3, 17, 5, 2, 17, 3, 3], common_factors=[1, 3, 3, 3, 5, 2, 17], known_gcd=4590, calculated_gcd=4590\n",
      "a=1, b=377, a_prime_factors=[], b_prime_factors=[29, 13], common_factors=[1], known_gcd=1, calculated_gcd=1\n",
      "a=1, b=7, a_prime_factors=[], b_prime_factors=[7], common_factors=[1], known_gcd=1, calculated_gcd=1\n",
      "a=1, b=836, a_prime_factors=[], b_prime_factors=[2, 19, 11, 2], common_factors=[1], known_gcd=1, calculated_gcd=1\n",
      "a=73370, b=578, a_prime_factors=[23, 29, 11, 2, 5], b_prime_factors=[17, 2, 17], common_factors=[1, 2], known_gcd=2, calculated_gcd=2\n",
      "a=15950, b=578, a_prime_factors=[5, 29, 11, 2, 5], b_prime_factors=[17, 2, 17], common_factors=[1, 2], known_gcd=2, calculated_gcd=2\n",
      "a=9350, b=578, a_prime_factors=[5, 17, 11, 2, 5], b_prime_factors=[17, 2, 17], common_factors=[1, 17, 2], known_gcd=34, calculated_gcd=34\n",
      "a=44954, b=2185, a_prime_factors=[13, 7, 2, 13, 19], b_prime_factors=[23, 5, 19], common_factors=[1, 19], known_gcd=19, calculated_gcd=19\n",
      "a=44954, b=2185, a_prime_factors=[13, 7, 2, 13, 19], b_prime_factors=[23, 5, 19], common_factors=[1, 19], known_gcd=19, calculated_gcd=19\n",
      "a=1, b=22, a_prime_factors=[], b_prime_factors=[2, 11], common_factors=[1], known_gcd=1, calculated_gcd=1\n",
      "a=1, b=33, a_prime_factors=[], b_prime_factors=[11, 3], common_factors=[1], known_gcd=1, calculated_gcd=1\n",
      "a=70499, b=19, a_prime_factors=[13, 11, 29, 17], b_prime_factors=[19], common_factors=[1], known_gcd=1, calculated_gcd=1\n",
      "a=1, b=1710855, a_prime_factors=[], b_prime_factors=[3, 23, 3, 29, 19, 5, 3], common_factors=[1], known_gcd=1, calculated_gcd=1\n",
      "a=1710855, b=1710855, a_prime_factors=[3, 23, 3, 29, 19, 5, 3], b_prime_factors=[3, 23, 3, 29, 19, 5, 3], common_factors=[1, 3, 3, 3, 23, 29, 19, 5], known_gcd=1710855, calculated_gcd=1710855\n",
      "a=2901015, b=1710855, a_prime_factors=[3, 3, 3, 13, 29, 19, 5, 3], b_prime_factors=[3, 23, 3, 29, 19, 5, 3], common_factors=[1, 3, 3, 3, 29, 19, 5], known_gcd=74385, calculated_gcd=74385\n",
      "a=1, b=8381, a_prime_factors=[], b_prime_factors=[17, 29, 17], common_factors=[1], known_gcd=1, calculated_gcd=1\n",
      "a=1, b=14297, a_prime_factors=[], b_prime_factors=[29, 29, 17], common_factors=[1], known_gcd=1, calculated_gcd=1\n",
      "a=14297, b=14297, a_prime_factors=[29, 29, 17], b_prime_factors=[29, 29, 17], common_factors=[1, 29, 29, 17], known_gcd=14297, calculated_gcd=14297\n",
      "a=165, b=1173, a_prime_factors=[3, 5, 11], b_prime_factors=[17, 3, 23], common_factors=[1, 3], known_gcd=3, calculated_gcd=3\n",
      "a=5852, b=301070, a_prime_factors=[2, 11, 2, 19, 7], b_prime_factors=[17, 11, 23, 2, 7, 5], common_factors=[1, 2, 11, 7], known_gcd=154, calculated_gcd=154\n",
      "a=5852, b=301070, a_prime_factors=[2, 11, 2, 19, 7], b_prime_factors=[17, 11, 23, 2, 7, 5], common_factors=[1, 2, 11, 7], known_gcd=154, calculated_gcd=154\n",
      "a=18, b=133, a_prime_factors=[2, 3, 3], b_prime_factors=[19, 7], common_factors=[1], known_gcd=1, calculated_gcd=1\n",
      "a=1, b=57, a_prime_factors=[], b_prime_factors=[19, 3], common_factors=[1], known_gcd=1, calculated_gcd=1\n",
      "a=1, b=361, a_prime_factors=[], b_prime_factors=[19, 19], common_factors=[1], known_gcd=1, calculated_gcd=1\n",
      "a=361, b=361, a_prime_factors=[19, 19], b_prime_factors=[19, 19], common_factors=[1, 19, 19], known_gcd=361, calculated_gcd=361\n",
      "a=361, b=1, a_prime_factors=[19, 19], b_prime_factors=[], common_factors=[1], known_gcd=1, calculated_gcd=1\n",
      "a=361, b=19, a_prime_factors=[19, 19], b_prime_factors=[19], common_factors=[1, 19], known_gcd=19, calculated_gcd=19\n",
      "a=1, b=147, a_prime_factors=[], b_prime_factors=[7, 7, 3], common_factors=[1], known_gcd=1, calculated_gcd=1\n",
      "a=147, b=147, a_prime_factors=[7, 7, 3], b_prime_factors=[7, 7, 3], common_factors=[1, 7, 7, 3], known_gcd=147, calculated_gcd=147\n",
      "a=1, b=57, a_prime_factors=[], b_prime_factors=[3, 19], common_factors=[1], known_gcd=1, calculated_gcd=1\n",
      "a=1, b=266, a_prime_factors=[], b_prime_factors=[19, 7, 2], common_factors=[1], known_gcd=1, calculated_gcd=1\n",
      "a=1, b=266, a_prime_factors=[], b_prime_factors=[19, 7, 2], common_factors=[1], known_gcd=1, calculated_gcd=1\n",
      "a=1, b=19, a_prime_factors=[], b_prime_factors=[19], common_factors=[1], known_gcd=1, calculated_gcd=1\n",
      "a=4, b=11, a_prime_factors=[2, 2], b_prime_factors=[11], common_factors=[1], known_gcd=1, calculated_gcd=1\n",
      "a=22, b=11, a_prime_factors=[11, 2], b_prime_factors=[11], common_factors=[1, 11], known_gcd=11, calculated_gcd=11\n",
      "a=7, b=168751, a_prime_factors=[7], b_prime_factors=[23, 11, 23, 29], common_factors=[1], known_gcd=1, calculated_gcd=1\n",
      "a=7, b=7, a_prime_factors=[7], b_prime_factors=[7], common_factors=[1, 7], known_gcd=7, calculated_gcd=7\n",
      "a=1, b=29, a_prime_factors=[], b_prime_factors=[29], common_factors=[1], known_gcd=1, calculated_gcd=1\n",
      "a=2737020, b=125, a_prime_factors=[3, 2, 5, 11, 29, 2, 13, 11], b_prime_factors=[5, 5, 5], common_factors=[1, 5], known_gcd=5, calculated_gcd=5\n",
      "a=1642212, b=125, a_prime_factors=[3, 2, 3, 11, 29, 2, 13, 11], b_prime_factors=[5, 5, 5], common_factors=[1], known_gcd=1, calculated_gcd=1\n",
      "a=1, b=54625, a_prime_factors=[], b_prime_factors=[23, 19, 5, 5, 5], common_factors=[1], known_gcd=1, calculated_gcd=1\n",
      "a=1, b=66125, a_prime_factors=[], b_prime_factors=[23, 23, 5, 5, 5], common_factors=[1], known_gcd=1, calculated_gcd=1\n",
      "a=1, b=23, a_prime_factors=[], b_prime_factors=[23], common_factors=[1], known_gcd=1, calculated_gcd=1\n",
      "a=19, b=1265, a_prime_factors=[19], b_prime_factors=[5, 23, 11], common_factors=[1], known_gcd=1, calculated_gcd=1\n",
      "a=19, b=1, a_prime_factors=[19], b_prime_factors=[], common_factors=[1], known_gcd=1, calculated_gcd=1\n",
      "a=19, b=19, a_prime_factors=[19], b_prime_factors=[19], common_factors=[1, 19], known_gcd=19, calculated_gcd=19\n",
      "a=1, b=65170, a_prime_factors=[], b_prime_factors=[7, 19, 2, 7, 7, 5], common_factors=[1], known_gcd=1, calculated_gcd=1\n",
      "a=11, b=2275, a_prime_factors=[11], b_prime_factors=[7, 5, 5, 13], common_factors=[1], known_gcd=1, calculated_gcd=1\n",
      "a=7, b=2275, a_prime_factors=[7], b_prime_factors=[7, 5, 5, 13], common_factors=[1, 7], known_gcd=7, calculated_gcd=7\n",
      "a=7, b=2275, a_prime_factors=[7], b_prime_factors=[7, 5, 5, 13], common_factors=[1, 7], known_gcd=7, calculated_gcd=7\n",
      "a=7, b=2925, a_prime_factors=[7], b_prime_factors=[3, 3, 5, 5, 13], common_factors=[1], known_gcd=1, calculated_gcd=1\n",
      "a=2, b=3795, a_prime_factors=[2], b_prime_factors=[5, 3, 11, 23], common_factors=[1], known_gcd=1, calculated_gcd=1\n"
     ]
    }
   ],
   "source": [
    "@given(list_of_primes_strategy, list_of_primes_strategy)\n",
    "def test_gcd_constructed_known_cases(a_prime_factors, b_prime_factors):\n",
    "    # Include 1 in the list of factors to simplify the logic if the list of prime factors is empty\n",
    "    a_factors = [1] + a_prime_factors\n",
    "    b_factors = [1] + b_prime_factors\n",
    "    a, b = product(a_factors), product(b_factors)  \n",
    "    \n",
    "    # Skip the testcase if the numbers are too large or negative \n",
    "    assume(0 <= a < 4_000_000 and 0 <= b < 4_000_000)\n",
    "    \n",
    "    # Get the gcd by construction\n",
    "    common_factors = get_common_elements(a_factors, b_factors)\n",
    "    known_gcd = product(common_factors)\n",
    "    \n",
    "    # Calculate the result using the function\n",
    "    calculated_gcd = gcd(a, b) \n",
    "    assert calculated_gcd == known_gcd\n",
    "    \n",
    "    # Report for debugging purposes\n",
    "    print(f\"{a=}, {b=}, {a_prime_factors=}, {b_prime_factors=}, {common_factors=}, \"\n",
    "          f\"{known_gcd=}, {calculated_gcd=}\")\n",
    "\n",
    "test_gcd_constructed_known_cases()"
   ]
  },
  {
   "cell_type": "markdown",
   "id": "2d4b225a-2de3-460d-aba1-1f2955febaf5",
   "metadata": {
    "editable": true,
    "jp-MarkdownHeadingCollapsed": true,
    "slideshow": {
     "slide_type": "subslide"
    },
    "tags": []
   },
   "source": [
    "## Once we can see the code, we can do **white-box** tests to ensure every line and every option is exercised, complementing our black-box tests\n",
    "\n",
    "The approach called \"coverage testing\" or \"logic testing\" is to:\n",
    "- Ensure that each statement in a program is tested at least once,\n",
    "- If the statement is a logical statement (`if` or `while`), test all the groups of possibilities within it.\n",
    "\n",
    "> **Beware!** White-box tests check each line of code does what we intended it to do, but not that the software as a whole meets its specifications.\n",
    ">\n",
    "> Only with a combination of black- and white-box testing can we be confident in software."
   ]
  },
  {
   "cell_type": "markdown",
   "id": "87abb5e3-cad2-4ceb-b5d4-ccbe788670e2",
   "metadata": {
    "editable": true,
    "slideshow": {
     "slide_type": "notes"
    },
    "tags": []
   },
   "source": [
    "- All the tests up until now could, in principle, be written before the implementation of the code.\n",
    "- Once the code is written, we can look at the code itself, reason about what it is doing, and be more confident that it can *only* do what we intend. This is called \"white-box testing\".|\n",
    "\n",
    "An equivalent definition is to ensure that every logical path through each part of the code is tested at least once.\n",
    "\n",
    "\"Basis path testing\" (also called \"structured basis testing\", \"structured testing\", \"structural testing\") seeks a minimal set of test cases which achieve 100% coverage. \n",
    "\n",
    "> This is subtly different to testing *every possible path* through the *whole code* – we don't aim to run every possible scenario, because that can be prohibitively time consuming and expensive, even if automated."
   ]
  },
  {
   "cell_type": "markdown",
   "id": "a074b0f8-0531-468f-b23d-e5aec70c62ce",
   "metadata": {
    "editable": true,
    "slideshow": {
     "slide_type": "subslide"
    },
    "tags": []
   },
   "source": [
    "Let's do this for the `gcd` source code."
   ]
  },
  {
   "cell_type": "code",
   "execution_count": 70,
   "id": "268dc1f5-a2ec-42f7-9e32-692021dffc92",
   "metadata": {
    "editable": true,
    "slideshow": {
     "slide_type": ""
    },
    "tags": []
   },
   "outputs": [
    {
     "name": "stdout",
     "output_type": "stream",
     "text": [
      "def gcd(a: int, b: int) -> int:\n",
      "    \"\"\"Algorithm to calculate greatest common divisor of two integers\"\"\"\n",
      "\n",
      "    if type(a) is not int or type(b) is not int:\n",
      "        raise TypeError(\"a and b must be integers\")\n",
      "    if a < 0 or b < 0:\n",
      "        raise ValueError(\"a and b must be ≥ 0\")\n",
      "\n",
      "    low, high = min(a, b), max(a, b)\n",
      "\n",
      "    _gcd = 0\n",
      "\n",
      "    div = low\n",
      "    while div > 0:\n",
      "        if (low % div == 0) and (high % div == 0):\n",
      "            if _gcd < div:\n",
      "                _gcd = div\n",
      "        div -= 1\n",
      "\n",
      "    return _gcd\n",
      "\n"
     ]
    }
   ],
   "source": [
    "import inspect \n",
    "print(inspect.getsource(gcd))"
   ]
  },
  {
   "cell_type": "markdown",
   "id": "b37e0dec-8d93-4cdf-86a5-5061c63cdf2f",
   "metadata": {
    "editable": true,
    "slideshow": {
     "slide_type": "subslide"
    },
    "tags": []
   },
   "source": [
    "The tests required here are:\n",
    "\n",
    "- The nominal case – a middle-of-the-road example with `a` > `b`, like `gcd(18, 24)`\n",
    "- `if` statement about types:\n",
    "  - `a` is a non-integer, expect `TypeError`\n",
    "  - `b` is a non-integer, expect `TypeError`\n",
    "- `if` statement about $\\gt 0$:\n",
    "  - `a` is a negative integer, expect `ValueError`\n",
    "  - `b` is a negative integer, expect `ValueError`\n",
    "- `low, high`:\n",
    "  - `a` > `b` – covered by the nominal case\n",
    "  - `b` > `a`\n",
    "  - `a` = `b`\n",
    "- `while` statement:\n",
    "  - A case where `div` starts at zero, say `a` = 0 and `b` > 0\n",
    "- `if` statement with remainders:\n",
    "  - `low % div == 0` – covered by the nominal case, always true in the first step as `div` > 0 if we get here\n",
    "  - `low % div != 0` – a case like `gcd(3, 7)` where in the second step of the code, `div` = 2\n",
    "  - `high % div == 0` – a case where the lower number is the $\\gcd$, like `gcd(12, 4)`\n",
    "  - `high % div != 0` – covered by the nominal case, where the lower number is not the $\\gcd$, like `gcd(12, 5)`\n",
    "- `if` statement with `_gcd < div`:\n",
    "  - `_gcd < div`: covered by the nominal case `gcd(18, 24)` when `div` reaches 6\n",
    "  - `_gcd > div`: covered by the nominal case `gcd(18, 24)` when `div` reaches 3 (and `_gcd` is 6)"
   ]
  },
  {
   "cell_type": "markdown",
   "id": "f93c111e-4a8c-4d97-9f8d-79401482cb81",
   "metadata": {
    "editable": true,
    "slideshow": {
     "slide_type": "subslide"
    },
    "tags": []
   },
   "source": [
    "A minimum test set would look like:"
   ]
  },
  {
   "cell_type": "code",
   "execution_count": 48,
   "id": "e79a0430-2cfe-426a-8b95-b5f1220f4794",
   "metadata": {
    "editable": true,
    "slideshow": {
     "slide_type": ""
    },
    "tags": []
   },
   "outputs": [],
   "source": [
    "def test_gcd_basis(gcd_fn):\n",
    "    assert gcd_fn(24, 18) == 6\n",
    "\n",
    "    with pytest.raises(TypeError):\n",
    "        gcd_fn(float(24), 18)\n",
    "    with pytest.raises(TypeError):\n",
    "        gcd_fn(24, float(18))\n",
    "\n",
    "    with pytest.raises(ValueError):\n",
    "        gcd_fn(-24, 18)\n",
    "    with pytest.raises(ValueError):\n",
    "        gcd_fn(24, -18)\n",
    "    \n",
    "    assert gcd_fn(18, 24) == 6\n",
    "    assert gcd_fn(33, 33) == 33\n",
    "    assert gcd_fn(0, 5) == 0\n",
    "    assert gcd_fn(3, 7) == 1\n",
    "    assert gcd_fn(12, 4) == 4\n",
    "    assert gcd_fn(12, 5) == 1  \n",
    "        \n",
    "test_gcd_basis(gcd)       "
   ]
  },
  {
   "cell_type": "markdown",
   "id": "d65dd13d-09f9-46a2-9b07-93dbd0526e11",
   "metadata": {
    "editable": true,
    "slideshow": {
     "slide_type": "subslide"
    },
    "tags": []
   },
   "source": [
    "Coverage testing can be useful as a check that your black-box test-cases _really_ exercise all the lines of code. You can use tooling like [`coverage`](https://coverage.readthedocs.io/en/7.3.1/contexts.html) to ensure that every line of code was run.\n",
    "\n",
    "Manual basis testing as a technique for planning test cases is time consuming and brittle, and links the tests to the implementation. "
   ]
  },
  {
   "cell_type": "markdown",
   "id": "ddcb23bc-002e-4f62-abce-a3974633769e",
   "metadata": {
    "editable": true,
    "jp-MarkdownHeadingCollapsed": true,
    "slideshow": {
     "slide_type": "slide"
    },
    "tags": []
   },
   "source": [
    "## Organizing tests"
   ]
  },
  {
   "cell_type": "markdown",
   "id": "dc58e1866a869a25",
   "metadata": {
    "collapsed": false,
    "editable": true,
    "jupyter": {
     "outputs_hidden": false
    },
    "slideshow": {
     "slide_type": "subslide"
    },
    "tags": []
   },
   "source": [
    "### Smoke test\n",
    "\n",
    "Check for basic plausibility. Does it run without failing?"
   ]
  },
  {
   "cell_type": "code",
   "execution_count": null,
   "id": "26352090afac2554",
   "metadata": {
    "ExecuteTime": {
     "start_time": "2023-09-22T18:43:28.196303Z"
    },
    "collapsed": false,
    "editable": true,
    "jupyter": {
     "outputs_hidden": false
    },
    "slideshow": {
     "slide_type": ""
    },
    "tags": []
   },
   "outputs": [],
   "source": [
    "gcd(8, 12)  # runs without failing"
   ]
  },
  {
   "cell_type": "markdown",
   "id": "7e7fded3-b161-4c1f-81e4-67e829d34d2f",
   "metadata": {
    "editable": true,
    "slideshow": {
     "slide_type": ""
    },
    "tags": []
   },
   "source": [
    "Does it produce the same result if a and b are swapped? (Only true for commutative operations)"
   ]
  },
  {
   "cell_type": "code",
   "execution_count": null,
   "id": "0430ba24-2f38-4e5f-ab99-aba0d94f94aa",
   "metadata": {
    "ExecuteTime": {
     "start_time": "2023-09-22T18:43:28.197166Z"
    },
    "editable": true,
    "slideshow": {
     "slide_type": ""
    },
    "tags": []
   },
   "outputs": [],
   "source": [
    "assert gcd(12, 8)"
   ]
  },
  {
   "cell_type": "markdown",
   "id": "af5eadc737b51358",
   "metadata": {
    "collapsed": false,
    "editable": true,
    "jupyter": {
     "outputs_hidden": false
    },
    "slideshow": {
     "slide_type": "slide"
    },
    "tags": []
   },
   "source": [
    "## The \"black-box\" approach varies the inputs to a function and checks its outputs\n",
    "\n",
    "<Image of a black box here>"
   ]
  },
  {
   "cell_type": "markdown",
   "id": "97e5f533-9de7-4487-888a-9e911ecbe622",
   "metadata": {
    "editable": true,
    "raw_mimetype": "",
    "slideshow": {
     "slide_type": "notes"
    },
    "tags": []
   },
   "source": [
    "The first approach we'll use is the \"black-box\" approach, which treats the function as a black box which we can't see inside. \n",
    "\n",
    "We'll look at inputs and check that they produce the correct outputs."
   ]
  }
 ],
 "metadata": {
  "kernelspec": {
   "display_name": "Python 3 (ipykernel)",
   "language": "python",
   "name": "python3"
  },
  "language_info": {
   "codemirror_mode": {
    "name": "ipython",
    "version": 3
   },
   "file_extension": ".py",
   "mimetype": "text/x-python",
   "name": "python",
   "nbconvert_exporter": "python",
   "pygments_lexer": "ipython3",
   "version": "3.10.12"
  }
 },
 "nbformat": 4,
 "nbformat_minor": 5
}
